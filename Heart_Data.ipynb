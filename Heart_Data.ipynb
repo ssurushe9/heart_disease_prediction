{
 "cells": [
  {
   "cell_type": "code",
   "execution_count": 12,
   "id": "3ae7bdd0",
   "metadata": {},
   "outputs": [],
   "source": [
    "import numpy as np\n",
    "import pandas as pd\n",
    "import seaborn as sns\n",
    "import matplotlib.pyplot as plt\n",
    "from sklearn.model_selection import train_test_split\n",
    "import warnings\n",
    "warnings.filterwarnings(\"ignore\")"
   ]
  },
  {
   "cell_type": "markdown",
   "id": "7773f467",
   "metadata": {},
   "source": [
    "#### 1.Problem_Statement"
   ]
  },
  {
   "cell_type": "code",
   "execution_count": null,
   "id": "cc64c4c9",
   "metadata": {},
   "outputs": [],
   "source": [
    "To predict Heart disease using following parameters:\n",
    "    age: The person's age in years\n",
    "1.sex: The person's sex (1 = male, 0 = female)\n",
    "2.cp: chest pain type\n",
    "    Value 0: asymptomatic\n",
    "    Value 1: atypical angina\n",
    "    Value 2: non-anginal pain\n",
    "    Value 3: typical angina\n",
    "3.trestbps: The person's resting blood pressure (mm Hg on admission to the hospital)\n",
    "4.chol: The person's cholesterol measurement in mg/dl\n",
    "5.fbs: The person's fasting blood sugar (> 120 mg/dl, 1 = true; 0 = false)\n",
    "6.restecg: resting electrocardiographic results\n",
    "    Value 0: showing probable or definite left ventricular \thypertrophy by Estes' criteria\n",
    "    Value 1: normal\n",
    "    Value 2: having ST-T wave abnormality (T wave inversions and/or ST elevation or depression of > 0.05 mV)\n",
    "\n",
    "7.thalach: The person's maximum heart rate achieved\n",
    "8.exang: Exercise induced angina (1 = yes; 0 = no)\n",
    "9.oldpeak: ST depression induced by exercise relative to rest ('ST' relates to positions on the ECG plot.)\n",
    "10.slope: the slope of the peak exercise ST segment (0: downsloping; 1: flat; 2: upsloping)\n",
    "11.ca: The number of major vessels (0-3)\n",
    "12.thal: Results of the blood flow observed via the radioactive dye.\n",
    " \n",
    "    Value 1: fixed defect (no blood flow in some part of the heart)\n",
    "    Value 2: normal blood flow\n",
    "    Value 3: reversible defect (a blood flow is observed but it is not normal)\n",
    "13.target : 0 = disease, 1 = no disease"
   ]
  },
  {
   "cell_type": "markdown",
   "id": "29cec6d9",
   "metadata": {},
   "source": [
    "#### 2.Data_Reading"
   ]
  },
  {
   "cell_type": "code",
   "execution_count": 2,
   "id": "f4b4db2d",
   "metadata": {
    "scrolled": true
   },
   "outputs": [
    {
     "data": {
      "text/html": [
       "<div>\n",
       "<style scoped>\n",
       "    .dataframe tbody tr th:only-of-type {\n",
       "        vertical-align: middle;\n",
       "    }\n",
       "\n",
       "    .dataframe tbody tr th {\n",
       "        vertical-align: top;\n",
       "    }\n",
       "\n",
       "    .dataframe thead th {\n",
       "        text-align: right;\n",
       "    }\n",
       "</style>\n",
       "<table border=\"1\" class=\"dataframe\">\n",
       "  <thead>\n",
       "    <tr style=\"text-align: right;\">\n",
       "      <th></th>\n",
       "      <th>age</th>\n",
       "      <th>sex</th>\n",
       "      <th>cp</th>\n",
       "      <th>trestbps</th>\n",
       "      <th>chol</th>\n",
       "      <th>fbs</th>\n",
       "      <th>restecg</th>\n",
       "      <th>thalach</th>\n",
       "      <th>exang</th>\n",
       "      <th>oldpeak</th>\n",
       "      <th>slope</th>\n",
       "      <th>ca</th>\n",
       "      <th>thal</th>\n",
       "      <th>target</th>\n",
       "    </tr>\n",
       "  </thead>\n",
       "  <tbody>\n",
       "    <tr>\n",
       "      <th>0</th>\n",
       "      <td>63</td>\n",
       "      <td>1</td>\n",
       "      <td>3</td>\n",
       "      <td>145</td>\n",
       "      <td>233</td>\n",
       "      <td>1</td>\n",
       "      <td>0</td>\n",
       "      <td>150</td>\n",
       "      <td>0</td>\n",
       "      <td>2.3</td>\n",
       "      <td>0</td>\n",
       "      <td>0</td>\n",
       "      <td>1</td>\n",
       "      <td>1</td>\n",
       "    </tr>\n",
       "    <tr>\n",
       "      <th>1</th>\n",
       "      <td>37</td>\n",
       "      <td>1</td>\n",
       "      <td>2</td>\n",
       "      <td>130</td>\n",
       "      <td>250</td>\n",
       "      <td>0</td>\n",
       "      <td>1</td>\n",
       "      <td>187</td>\n",
       "      <td>0</td>\n",
       "      <td>3.5</td>\n",
       "      <td>0</td>\n",
       "      <td>0</td>\n",
       "      <td>2</td>\n",
       "      <td>1</td>\n",
       "    </tr>\n",
       "    <tr>\n",
       "      <th>2</th>\n",
       "      <td>41</td>\n",
       "      <td>0</td>\n",
       "      <td>1</td>\n",
       "      <td>130</td>\n",
       "      <td>204</td>\n",
       "      <td>0</td>\n",
       "      <td>0</td>\n",
       "      <td>172</td>\n",
       "      <td>0</td>\n",
       "      <td>1.4</td>\n",
       "      <td>2</td>\n",
       "      <td>0</td>\n",
       "      <td>2</td>\n",
       "      <td>1</td>\n",
       "    </tr>\n",
       "    <tr>\n",
       "      <th>3</th>\n",
       "      <td>56</td>\n",
       "      <td>1</td>\n",
       "      <td>1</td>\n",
       "      <td>120</td>\n",
       "      <td>236</td>\n",
       "      <td>0</td>\n",
       "      <td>1</td>\n",
       "      <td>178</td>\n",
       "      <td>0</td>\n",
       "      <td>0.8</td>\n",
       "      <td>2</td>\n",
       "      <td>0</td>\n",
       "      <td>2</td>\n",
       "      <td>1</td>\n",
       "    </tr>\n",
       "    <tr>\n",
       "      <th>4</th>\n",
       "      <td>57</td>\n",
       "      <td>0</td>\n",
       "      <td>0</td>\n",
       "      <td>120</td>\n",
       "      <td>354</td>\n",
       "      <td>0</td>\n",
       "      <td>1</td>\n",
       "      <td>163</td>\n",
       "      <td>1</td>\n",
       "      <td>0.6</td>\n",
       "      <td>2</td>\n",
       "      <td>0</td>\n",
       "      <td>2</td>\n",
       "      <td>1</td>\n",
       "    </tr>\n",
       "    <tr>\n",
       "      <th>...</th>\n",
       "      <td>...</td>\n",
       "      <td>...</td>\n",
       "      <td>...</td>\n",
       "      <td>...</td>\n",
       "      <td>...</td>\n",
       "      <td>...</td>\n",
       "      <td>...</td>\n",
       "      <td>...</td>\n",
       "      <td>...</td>\n",
       "      <td>...</td>\n",
       "      <td>...</td>\n",
       "      <td>...</td>\n",
       "      <td>...</td>\n",
       "      <td>...</td>\n",
       "    </tr>\n",
       "    <tr>\n",
       "      <th>298</th>\n",
       "      <td>57</td>\n",
       "      <td>0</td>\n",
       "      <td>0</td>\n",
       "      <td>140</td>\n",
       "      <td>241</td>\n",
       "      <td>0</td>\n",
       "      <td>1</td>\n",
       "      <td>123</td>\n",
       "      <td>1</td>\n",
       "      <td>0.2</td>\n",
       "      <td>1</td>\n",
       "      <td>0</td>\n",
       "      <td>3</td>\n",
       "      <td>0</td>\n",
       "    </tr>\n",
       "    <tr>\n",
       "      <th>299</th>\n",
       "      <td>45</td>\n",
       "      <td>1</td>\n",
       "      <td>3</td>\n",
       "      <td>110</td>\n",
       "      <td>264</td>\n",
       "      <td>0</td>\n",
       "      <td>1</td>\n",
       "      <td>132</td>\n",
       "      <td>0</td>\n",
       "      <td>1.2</td>\n",
       "      <td>1</td>\n",
       "      <td>0</td>\n",
       "      <td>3</td>\n",
       "      <td>0</td>\n",
       "    </tr>\n",
       "    <tr>\n",
       "      <th>300</th>\n",
       "      <td>68</td>\n",
       "      <td>1</td>\n",
       "      <td>0</td>\n",
       "      <td>144</td>\n",
       "      <td>193</td>\n",
       "      <td>1</td>\n",
       "      <td>1</td>\n",
       "      <td>141</td>\n",
       "      <td>0</td>\n",
       "      <td>3.4</td>\n",
       "      <td>1</td>\n",
       "      <td>2</td>\n",
       "      <td>3</td>\n",
       "      <td>0</td>\n",
       "    </tr>\n",
       "    <tr>\n",
       "      <th>301</th>\n",
       "      <td>57</td>\n",
       "      <td>1</td>\n",
       "      <td>0</td>\n",
       "      <td>130</td>\n",
       "      <td>131</td>\n",
       "      <td>0</td>\n",
       "      <td>1</td>\n",
       "      <td>115</td>\n",
       "      <td>1</td>\n",
       "      <td>1.2</td>\n",
       "      <td>1</td>\n",
       "      <td>1</td>\n",
       "      <td>3</td>\n",
       "      <td>0</td>\n",
       "    </tr>\n",
       "    <tr>\n",
       "      <th>302</th>\n",
       "      <td>57</td>\n",
       "      <td>0</td>\n",
       "      <td>1</td>\n",
       "      <td>130</td>\n",
       "      <td>236</td>\n",
       "      <td>0</td>\n",
       "      <td>0</td>\n",
       "      <td>174</td>\n",
       "      <td>0</td>\n",
       "      <td>0.0</td>\n",
       "      <td>1</td>\n",
       "      <td>1</td>\n",
       "      <td>2</td>\n",
       "      <td>0</td>\n",
       "    </tr>\n",
       "  </tbody>\n",
       "</table>\n",
       "<p>303 rows × 14 columns</p>\n",
       "</div>"
      ],
      "text/plain": [
       "     age  sex  cp  trestbps  chol  fbs  restecg  thalach  exang  oldpeak  \\\n",
       "0     63    1   3       145   233    1        0      150      0      2.3   \n",
       "1     37    1   2       130   250    0        1      187      0      3.5   \n",
       "2     41    0   1       130   204    0        0      172      0      1.4   \n",
       "3     56    1   1       120   236    0        1      178      0      0.8   \n",
       "4     57    0   0       120   354    0        1      163      1      0.6   \n",
       "..   ...  ...  ..       ...   ...  ...      ...      ...    ...      ...   \n",
       "298   57    0   0       140   241    0        1      123      1      0.2   \n",
       "299   45    1   3       110   264    0        1      132      0      1.2   \n",
       "300   68    1   0       144   193    1        1      141      0      3.4   \n",
       "301   57    1   0       130   131    0        1      115      1      1.2   \n",
       "302   57    0   1       130   236    0        0      174      0      0.0   \n",
       "\n",
       "     slope  ca  thal  target  \n",
       "0        0   0     1       1  \n",
       "1        0   0     2       1  \n",
       "2        2   0     2       1  \n",
       "3        2   0     2       1  \n",
       "4        2   0     2       1  \n",
       "..     ...  ..   ...     ...  \n",
       "298      1   0     3       0  \n",
       "299      1   0     3       0  \n",
       "300      1   2     3       0  \n",
       "301      1   1     3       0  \n",
       "302      1   1     2       0  \n",
       "\n",
       "[303 rows x 14 columns]"
      ]
     },
     "execution_count": 2,
     "metadata": {},
     "output_type": "execute_result"
    }
   ],
   "source": [
    "df = pd.read_csv(\"heart.csv\")\n",
    "df"
   ]
  },
  {
   "cell_type": "code",
   "execution_count": 14,
   "id": "c03c6e79",
   "metadata": {},
   "outputs": [],
   "source": [
    "x = df.drop(\"target\",axis = True)\n",
    "y = df['target']"
   ]
  },
  {
   "cell_type": "code",
   "execution_count": 15,
   "id": "9b86de4b",
   "metadata": {},
   "outputs": [],
   "source": [
    "x_train,x_test,y_train,y_test = train_test_split(x,y,test_size=0.2,random_state=20,stratify=y)"
   ]
  },
  {
   "cell_type": "markdown",
   "id": "c0878cb9",
   "metadata": {},
   "source": [
    "#### 3.Exploratory_Data_Analysis"
   ]
  },
  {
   "cell_type": "markdown",
   "id": "29755702",
   "metadata": {},
   "source": [
    "#### 3.1.Data shape"
   ]
  },
  {
   "cell_type": "code",
   "execution_count": 16,
   "id": "18f10477",
   "metadata": {},
   "outputs": [
    {
     "data": {
      "text/plain": [
       "(242, 13)"
      ]
     },
     "execution_count": 16,
     "metadata": {},
     "output_type": "execute_result"
    }
   ],
   "source": [
    "x_train.shape"
   ]
  },
  {
   "cell_type": "code",
   "execution_count": 17,
   "id": "9d3dedf9",
   "metadata": {},
   "outputs": [
    {
     "data": {
      "text/plain": [
       "(61, 13)"
      ]
     },
     "execution_count": 17,
     "metadata": {},
     "output_type": "execute_result"
    }
   ],
   "source": [
    "x_test.shape"
   ]
  },
  {
   "cell_type": "code",
   "execution_count": 18,
   "id": "355fcd91",
   "metadata": {},
   "outputs": [
    {
     "data": {
      "text/plain": [
       "(242,)"
      ]
     },
     "execution_count": 18,
     "metadata": {},
     "output_type": "execute_result"
    }
   ],
   "source": [
    "y_train.shape"
   ]
  },
  {
   "cell_type": "code",
   "execution_count": 19,
   "id": "f2008a40",
   "metadata": {},
   "outputs": [
    {
     "data": {
      "text/plain": [
       "(61,)"
      ]
     },
     "execution_count": 19,
     "metadata": {},
     "output_type": "execute_result"
    }
   ],
   "source": [
    "y_test.shape"
   ]
  },
  {
   "cell_type": "markdown",
   "id": "678e8884",
   "metadata": {},
   "source": [
    "#### 3.2.Data information"
   ]
  },
  {
   "cell_type": "code",
   "execution_count": 20,
   "id": "875daefb",
   "metadata": {},
   "outputs": [
    {
     "name": "stdout",
     "output_type": "stream",
     "text": [
      "<class 'pandas.core.frame.DataFrame'>\n",
      "Int64Index: 242 entries, 218 to 90\n",
      "Data columns (total 13 columns):\n",
      " #   Column    Non-Null Count  Dtype  \n",
      "---  ------    --------------  -----  \n",
      " 0   age       242 non-null    int64  \n",
      " 1   sex       242 non-null    int64  \n",
      " 2   cp        242 non-null    int64  \n",
      " 3   trestbps  242 non-null    int64  \n",
      " 4   chol      242 non-null    int64  \n",
      " 5   fbs       242 non-null    int64  \n",
      " 6   restecg   242 non-null    int64  \n",
      " 7   thalach   242 non-null    int64  \n",
      " 8   exang     242 non-null    int64  \n",
      " 9   oldpeak   242 non-null    float64\n",
      " 10  slope     242 non-null    int64  \n",
      " 11  ca        242 non-null    int64  \n",
      " 12  thal      242 non-null    int64  \n",
      "dtypes: float64(1), int64(12)\n",
      "memory usage: 26.5 KB\n"
     ]
    }
   ],
   "source": [
    "x_train.info()"
   ]
  },
  {
   "cell_type": "code",
   "execution_count": 21,
   "id": "9c3d8616",
   "metadata": {},
   "outputs": [
    {
     "name": "stdout",
     "output_type": "stream",
     "text": [
      "<class 'pandas.core.frame.DataFrame'>\n",
      "Int64Index: 61 entries, 45 to 264\n",
      "Data columns (total 13 columns):\n",
      " #   Column    Non-Null Count  Dtype  \n",
      "---  ------    --------------  -----  \n",
      " 0   age       61 non-null     int64  \n",
      " 1   sex       61 non-null     int64  \n",
      " 2   cp        61 non-null     int64  \n",
      " 3   trestbps  61 non-null     int64  \n",
      " 4   chol      61 non-null     int64  \n",
      " 5   fbs       61 non-null     int64  \n",
      " 6   restecg   61 non-null     int64  \n",
      " 7   thalach   61 non-null     int64  \n",
      " 8   exang     61 non-null     int64  \n",
      " 9   oldpeak   61 non-null     float64\n",
      " 10  slope     61 non-null     int64  \n",
      " 11  ca        61 non-null     int64  \n",
      " 12  thal      61 non-null     int64  \n",
      "dtypes: float64(1), int64(12)\n",
      "memory usage: 6.7 KB\n"
     ]
    }
   ],
   "source": [
    "x_test.info()"
   ]
  },
  {
   "cell_type": "code",
   "execution_count": 22,
   "id": "3e22470a",
   "metadata": {},
   "outputs": [
    {
     "name": "stdout",
     "output_type": "stream",
     "text": [
      "<class 'pandas.core.series.Series'>\n",
      "Int64Index: 242 entries, 218 to 90\n",
      "Series name: target\n",
      "Non-Null Count  Dtype\n",
      "--------------  -----\n",
      "242 non-null    int64\n",
      "dtypes: int64(1)\n",
      "memory usage: 3.8 KB\n"
     ]
    }
   ],
   "source": [
    "y_train.info()"
   ]
  },
  {
   "cell_type": "code",
   "execution_count": 23,
   "id": "ff9b7392",
   "metadata": {},
   "outputs": [
    {
     "name": "stdout",
     "output_type": "stream",
     "text": [
      "<class 'pandas.core.series.Series'>\n",
      "Int64Index: 242 entries, 218 to 90\n",
      "Series name: target\n",
      "Non-Null Count  Dtype\n",
      "--------------  -----\n",
      "242 non-null    int64\n",
      "dtypes: int64(1)\n",
      "memory usage: 3.8 KB\n"
     ]
    }
   ],
   "source": [
    "y_train.info()"
   ]
  },
  {
   "cell_type": "code",
   "execution_count": null,
   "id": "034f323b",
   "metadata": {},
   "outputs": [],
   "source": [
    "No column in dataset has object datatype"
   ]
  },
  {
   "cell_type": "markdown",
   "id": "a676f748",
   "metadata": {},
   "source": [
    "#### 3.3.Null_Values"
   ]
  },
  {
   "cell_type": "code",
   "execution_count": 25,
   "id": "e25cc20e",
   "metadata": {
    "scrolled": true
   },
   "outputs": [
    {
     "data": {
      "text/plain": [
       "age         0\n",
       "sex         0\n",
       "cp          0\n",
       "trestbps    0\n",
       "chol        0\n",
       "fbs         0\n",
       "restecg     0\n",
       "thalach     0\n",
       "exang       0\n",
       "oldpeak     0\n",
       "slope       0\n",
       "ca          0\n",
       "thal        0\n",
       "dtype: int64"
      ]
     },
     "execution_count": 25,
     "metadata": {},
     "output_type": "execute_result"
    }
   ],
   "source": [
    "x_train.isna().sum()"
   ]
  },
  {
   "cell_type": "code",
   "execution_count": 26,
   "id": "133b3729",
   "metadata": {},
   "outputs": [
    {
     "data": {
      "text/plain": [
       "age         0\n",
       "sex         0\n",
       "cp          0\n",
       "trestbps    0\n",
       "chol        0\n",
       "fbs         0\n",
       "restecg     0\n",
       "thalach     0\n",
       "exang       0\n",
       "oldpeak     0\n",
       "slope       0\n",
       "ca          0\n",
       "thal        0\n",
       "dtype: int64"
      ]
     },
     "execution_count": 26,
     "metadata": {},
     "output_type": "execute_result"
    }
   ],
   "source": [
    "x_test.isna().sum()"
   ]
  },
  {
   "cell_type": "code",
   "execution_count": 30,
   "id": "88c678d8",
   "metadata": {},
   "outputs": [
    {
     "data": {
      "text/plain": [
       "0"
      ]
     },
     "execution_count": 30,
     "metadata": {},
     "output_type": "execute_result"
    }
   ],
   "source": [
    "y_train.isna().sum()"
   ]
  },
  {
   "cell_type": "code",
   "execution_count": 31,
   "id": "483bf71c",
   "metadata": {},
   "outputs": [
    {
     "data": {
      "text/plain": [
       "0"
      ]
     },
     "execution_count": 31,
     "metadata": {},
     "output_type": "execute_result"
    }
   ],
   "source": [
    "y_test.isna().sum()"
   ]
  },
  {
   "cell_type": "code",
   "execution_count": null,
   "id": "18bf8bdd",
   "metadata": {},
   "outputs": [],
   "source": [
    "dataset has no missing value"
   ]
  },
  {
   "cell_type": "markdown",
   "id": "68c332e6",
   "metadata": {},
   "source": [
    "#### 3.4.Statistical_Measure"
   ]
  },
  {
   "cell_type": "code",
   "execution_count": 32,
   "id": "67d039eb",
   "metadata": {},
   "outputs": [
    {
     "data": {
      "text/html": [
       "<div>\n",
       "<style scoped>\n",
       "    .dataframe tbody tr th:only-of-type {\n",
       "        vertical-align: middle;\n",
       "    }\n",
       "\n",
       "    .dataframe tbody tr th {\n",
       "        vertical-align: top;\n",
       "    }\n",
       "\n",
       "    .dataframe thead th {\n",
       "        text-align: right;\n",
       "    }\n",
       "</style>\n",
       "<table border=\"1\" class=\"dataframe\">\n",
       "  <thead>\n",
       "    <tr style=\"text-align: right;\">\n",
       "      <th></th>\n",
       "      <th>count</th>\n",
       "      <th>mean</th>\n",
       "      <th>std</th>\n",
       "      <th>min</th>\n",
       "      <th>25%</th>\n",
       "      <th>50%</th>\n",
       "      <th>75%</th>\n",
       "      <th>max</th>\n",
       "    </tr>\n",
       "  </thead>\n",
       "  <tbody>\n",
       "    <tr>\n",
       "      <th>age</th>\n",
       "      <td>242.0</td>\n",
       "      <td>54.380165</td>\n",
       "      <td>8.944046</td>\n",
       "      <td>29.0</td>\n",
       "      <td>47.25</td>\n",
       "      <td>56.0</td>\n",
       "      <td>60.0</td>\n",
       "      <td>77.0</td>\n",
       "    </tr>\n",
       "    <tr>\n",
       "      <th>sex</th>\n",
       "      <td>242.0</td>\n",
       "      <td>0.690083</td>\n",
       "      <td>0.463418</td>\n",
       "      <td>0.0</td>\n",
       "      <td>0.00</td>\n",
       "      <td>1.0</td>\n",
       "      <td>1.0</td>\n",
       "      <td>1.0</td>\n",
       "    </tr>\n",
       "    <tr>\n",
       "      <th>cp</th>\n",
       "      <td>242.0</td>\n",
       "      <td>0.946281</td>\n",
       "      <td>1.023179</td>\n",
       "      <td>0.0</td>\n",
       "      <td>0.00</td>\n",
       "      <td>1.0</td>\n",
       "      <td>2.0</td>\n",
       "      <td>3.0</td>\n",
       "    </tr>\n",
       "    <tr>\n",
       "      <th>trestbps</th>\n",
       "      <td>242.0</td>\n",
       "      <td>130.735537</td>\n",
       "      <td>16.856371</td>\n",
       "      <td>94.0</td>\n",
       "      <td>120.00</td>\n",
       "      <td>130.0</td>\n",
       "      <td>140.0</td>\n",
       "      <td>180.0</td>\n",
       "    </tr>\n",
       "    <tr>\n",
       "      <th>chol</th>\n",
       "      <td>242.0</td>\n",
       "      <td>244.628099</td>\n",
       "      <td>48.866001</td>\n",
       "      <td>131.0</td>\n",
       "      <td>209.00</td>\n",
       "      <td>240.0</td>\n",
       "      <td>273.0</td>\n",
       "      <td>417.0</td>\n",
       "    </tr>\n",
       "    <tr>\n",
       "      <th>fbs</th>\n",
       "      <td>242.0</td>\n",
       "      <td>0.140496</td>\n",
       "      <td>0.348221</td>\n",
       "      <td>0.0</td>\n",
       "      <td>0.00</td>\n",
       "      <td>0.0</td>\n",
       "      <td>0.0</td>\n",
       "      <td>1.0</td>\n",
       "    </tr>\n",
       "    <tr>\n",
       "      <th>restecg</th>\n",
       "      <td>242.0</td>\n",
       "      <td>0.541322</td>\n",
       "      <td>0.523659</td>\n",
       "      <td>0.0</td>\n",
       "      <td>0.00</td>\n",
       "      <td>1.0</td>\n",
       "      <td>1.0</td>\n",
       "      <td>2.0</td>\n",
       "    </tr>\n",
       "    <tr>\n",
       "      <th>thalach</th>\n",
       "      <td>242.0</td>\n",
       "      <td>148.780992</td>\n",
       "      <td>22.960492</td>\n",
       "      <td>71.0</td>\n",
       "      <td>133.25</td>\n",
       "      <td>152.0</td>\n",
       "      <td>163.0</td>\n",
       "      <td>202.0</td>\n",
       "    </tr>\n",
       "    <tr>\n",
       "      <th>exang</th>\n",
       "      <td>242.0</td>\n",
       "      <td>0.342975</td>\n",
       "      <td>0.475687</td>\n",
       "      <td>0.0</td>\n",
       "      <td>0.00</td>\n",
       "      <td>0.0</td>\n",
       "      <td>1.0</td>\n",
       "      <td>1.0</td>\n",
       "    </tr>\n",
       "    <tr>\n",
       "      <th>oldpeak</th>\n",
       "      <td>242.0</td>\n",
       "      <td>1.020661</td>\n",
       "      <td>1.169950</td>\n",
       "      <td>0.0</td>\n",
       "      <td>0.00</td>\n",
       "      <td>0.6</td>\n",
       "      <td>1.6</td>\n",
       "      <td>6.2</td>\n",
       "    </tr>\n",
       "    <tr>\n",
       "      <th>slope</th>\n",
       "      <td>242.0</td>\n",
       "      <td>1.384298</td>\n",
       "      <td>0.628706</td>\n",
       "      <td>0.0</td>\n",
       "      <td>1.00</td>\n",
       "      <td>1.0</td>\n",
       "      <td>2.0</td>\n",
       "      <td>2.0</td>\n",
       "    </tr>\n",
       "    <tr>\n",
       "      <th>ca</th>\n",
       "      <td>242.0</td>\n",
       "      <td>0.735537</td>\n",
       "      <td>1.052707</td>\n",
       "      <td>0.0</td>\n",
       "      <td>0.00</td>\n",
       "      <td>0.0</td>\n",
       "      <td>1.0</td>\n",
       "      <td>4.0</td>\n",
       "    </tr>\n",
       "    <tr>\n",
       "      <th>thal</th>\n",
       "      <td>242.0</td>\n",
       "      <td>2.285124</td>\n",
       "      <td>0.622291</td>\n",
       "      <td>0.0</td>\n",
       "      <td>2.00</td>\n",
       "      <td>2.0</td>\n",
       "      <td>3.0</td>\n",
       "      <td>3.0</td>\n",
       "    </tr>\n",
       "  </tbody>\n",
       "</table>\n",
       "</div>"
      ],
      "text/plain": [
       "          count        mean        std    min     25%    50%    75%    max\n",
       "age       242.0   54.380165   8.944046   29.0   47.25   56.0   60.0   77.0\n",
       "sex       242.0    0.690083   0.463418    0.0    0.00    1.0    1.0    1.0\n",
       "cp        242.0    0.946281   1.023179    0.0    0.00    1.0    2.0    3.0\n",
       "trestbps  242.0  130.735537  16.856371   94.0  120.00  130.0  140.0  180.0\n",
       "chol      242.0  244.628099  48.866001  131.0  209.00  240.0  273.0  417.0\n",
       "fbs       242.0    0.140496   0.348221    0.0    0.00    0.0    0.0    1.0\n",
       "restecg   242.0    0.541322   0.523659    0.0    0.00    1.0    1.0    2.0\n",
       "thalach   242.0  148.780992  22.960492   71.0  133.25  152.0  163.0  202.0\n",
       "exang     242.0    0.342975   0.475687    0.0    0.00    0.0    1.0    1.0\n",
       "oldpeak   242.0    1.020661   1.169950    0.0    0.00    0.6    1.6    6.2\n",
       "slope     242.0    1.384298   0.628706    0.0    1.00    1.0    2.0    2.0\n",
       "ca        242.0    0.735537   1.052707    0.0    0.00    0.0    1.0    4.0\n",
       "thal      242.0    2.285124   0.622291    0.0    2.00    2.0    3.0    3.0"
      ]
     },
     "execution_count": 32,
     "metadata": {},
     "output_type": "execute_result"
    }
   ],
   "source": [
    "x_train.describe().T"
   ]
  },
  {
   "cell_type": "code",
   "execution_count": 33,
   "id": "51006f7f",
   "metadata": {
    "scrolled": true
   },
   "outputs": [
    {
     "data": {
      "text/html": [
       "<div>\n",
       "<style scoped>\n",
       "    .dataframe tbody tr th:only-of-type {\n",
       "        vertical-align: middle;\n",
       "    }\n",
       "\n",
       "    .dataframe tbody tr th {\n",
       "        vertical-align: top;\n",
       "    }\n",
       "\n",
       "    .dataframe thead th {\n",
       "        text-align: right;\n",
       "    }\n",
       "</style>\n",
       "<table border=\"1\" class=\"dataframe\">\n",
       "  <thead>\n",
       "    <tr style=\"text-align: right;\">\n",
       "      <th></th>\n",
       "      <th>count</th>\n",
       "      <th>mean</th>\n",
       "      <th>std</th>\n",
       "      <th>min</th>\n",
       "      <th>25%</th>\n",
       "      <th>50%</th>\n",
       "      <th>75%</th>\n",
       "      <th>max</th>\n",
       "    </tr>\n",
       "  </thead>\n",
       "  <tbody>\n",
       "    <tr>\n",
       "      <th>age</th>\n",
       "      <td>61.0</td>\n",
       "      <td>54.311475</td>\n",
       "      <td>9.687691</td>\n",
       "      <td>34.0</td>\n",
       "      <td>48.0</td>\n",
       "      <td>54.0</td>\n",
       "      <td>63.0</td>\n",
       "      <td>71.0</td>\n",
       "    </tr>\n",
       "    <tr>\n",
       "      <th>sex</th>\n",
       "      <td>61.0</td>\n",
       "      <td>0.655738</td>\n",
       "      <td>0.479070</td>\n",
       "      <td>0.0</td>\n",
       "      <td>0.0</td>\n",
       "      <td>1.0</td>\n",
       "      <td>1.0</td>\n",
       "      <td>1.0</td>\n",
       "    </tr>\n",
       "    <tr>\n",
       "      <th>cp</th>\n",
       "      <td>61.0</td>\n",
       "      <td>1.049180</td>\n",
       "      <td>1.071233</td>\n",
       "      <td>0.0</td>\n",
       "      <td>0.0</td>\n",
       "      <td>1.0</td>\n",
       "      <td>2.0</td>\n",
       "      <td>3.0</td>\n",
       "    </tr>\n",
       "    <tr>\n",
       "      <th>trestbps</th>\n",
       "      <td>61.0</td>\n",
       "      <td>135.147541</td>\n",
       "      <td>19.776110</td>\n",
       "      <td>108.0</td>\n",
       "      <td>120.0</td>\n",
       "      <td>130.0</td>\n",
       "      <td>145.0</td>\n",
       "      <td>200.0</td>\n",
       "    </tr>\n",
       "    <tr>\n",
       "      <th>chol</th>\n",
       "      <td>61.0</td>\n",
       "      <td>252.754098</td>\n",
       "      <td>62.263327</td>\n",
       "      <td>126.0</td>\n",
       "      <td>214.0</td>\n",
       "      <td>244.0</td>\n",
       "      <td>281.0</td>\n",
       "      <td>564.0</td>\n",
       "    </tr>\n",
       "    <tr>\n",
       "      <th>fbs</th>\n",
       "      <td>61.0</td>\n",
       "      <td>0.180328</td>\n",
       "      <td>0.387651</td>\n",
       "      <td>0.0</td>\n",
       "      <td>0.0</td>\n",
       "      <td>0.0</td>\n",
       "      <td>0.0</td>\n",
       "      <td>1.0</td>\n",
       "    </tr>\n",
       "    <tr>\n",
       "      <th>restecg</th>\n",
       "      <td>61.0</td>\n",
       "      <td>0.475410</td>\n",
       "      <td>0.535617</td>\n",
       "      <td>0.0</td>\n",
       "      <td>0.0</td>\n",
       "      <td>0.0</td>\n",
       "      <td>1.0</td>\n",
       "      <td>2.0</td>\n",
       "    </tr>\n",
       "    <tr>\n",
       "      <th>thalach</th>\n",
       "      <td>61.0</td>\n",
       "      <td>153.081967</td>\n",
       "      <td>22.542771</td>\n",
       "      <td>103.0</td>\n",
       "      <td>139.0</td>\n",
       "      <td>158.0</td>\n",
       "      <td>171.0</td>\n",
       "      <td>195.0</td>\n",
       "    </tr>\n",
       "    <tr>\n",
       "      <th>exang</th>\n",
       "      <td>61.0</td>\n",
       "      <td>0.262295</td>\n",
       "      <td>0.443533</td>\n",
       "      <td>0.0</td>\n",
       "      <td>0.0</td>\n",
       "      <td>0.0</td>\n",
       "      <td>1.0</td>\n",
       "      <td>1.0</td>\n",
       "    </tr>\n",
       "    <tr>\n",
       "      <th>oldpeak</th>\n",
       "      <td>61.0</td>\n",
       "      <td>1.114754</td>\n",
       "      <td>1.131494</td>\n",
       "      <td>0.0</td>\n",
       "      <td>0.1</td>\n",
       "      <td>0.8</td>\n",
       "      <td>1.8</td>\n",
       "      <td>4.0</td>\n",
       "    </tr>\n",
       "    <tr>\n",
       "      <th>slope</th>\n",
       "      <td>61.0</td>\n",
       "      <td>1.459016</td>\n",
       "      <td>0.564912</td>\n",
       "      <td>0.0</td>\n",
       "      <td>1.0</td>\n",
       "      <td>1.0</td>\n",
       "      <td>2.0</td>\n",
       "      <td>2.0</td>\n",
       "    </tr>\n",
       "    <tr>\n",
       "      <th>ca</th>\n",
       "      <td>61.0</td>\n",
       "      <td>0.704918</td>\n",
       "      <td>0.900819</td>\n",
       "      <td>0.0</td>\n",
       "      <td>0.0</td>\n",
       "      <td>0.0</td>\n",
       "      <td>1.0</td>\n",
       "      <td>3.0</td>\n",
       "    </tr>\n",
       "    <tr>\n",
       "      <th>thal</th>\n",
       "      <td>61.0</td>\n",
       "      <td>2.426230</td>\n",
       "      <td>0.561516</td>\n",
       "      <td>1.0</td>\n",
       "      <td>2.0</td>\n",
       "      <td>2.0</td>\n",
       "      <td>3.0</td>\n",
       "      <td>3.0</td>\n",
       "    </tr>\n",
       "  </tbody>\n",
       "</table>\n",
       "</div>"
      ],
      "text/plain": [
       "          count        mean        std    min    25%    50%    75%    max\n",
       "age        61.0   54.311475   9.687691   34.0   48.0   54.0   63.0   71.0\n",
       "sex        61.0    0.655738   0.479070    0.0    0.0    1.0    1.0    1.0\n",
       "cp         61.0    1.049180   1.071233    0.0    0.0    1.0    2.0    3.0\n",
       "trestbps   61.0  135.147541  19.776110  108.0  120.0  130.0  145.0  200.0\n",
       "chol       61.0  252.754098  62.263327  126.0  214.0  244.0  281.0  564.0\n",
       "fbs        61.0    0.180328   0.387651    0.0    0.0    0.0    0.0    1.0\n",
       "restecg    61.0    0.475410   0.535617    0.0    0.0    0.0    1.0    2.0\n",
       "thalach    61.0  153.081967  22.542771  103.0  139.0  158.0  171.0  195.0\n",
       "exang      61.0    0.262295   0.443533    0.0    0.0    0.0    1.0    1.0\n",
       "oldpeak    61.0    1.114754   1.131494    0.0    0.1    0.8    1.8    4.0\n",
       "slope      61.0    1.459016   0.564912    0.0    1.0    1.0    2.0    2.0\n",
       "ca         61.0    0.704918   0.900819    0.0    0.0    0.0    1.0    3.0\n",
       "thal       61.0    2.426230   0.561516    1.0    2.0    2.0    3.0    3.0"
      ]
     },
     "execution_count": 33,
     "metadata": {},
     "output_type": "execute_result"
    }
   ],
   "source": [
    "x_test.describe().T"
   ]
  },
  {
   "cell_type": "code",
   "execution_count": 34,
   "id": "e208bae7",
   "metadata": {},
   "outputs": [
    {
     "data": {
      "text/plain": [
       "count    242.000000\n",
       "mean       0.545455\n",
       "std        0.498962\n",
       "min        0.000000\n",
       "25%        0.000000\n",
       "50%        1.000000\n",
       "75%        1.000000\n",
       "max        1.000000\n",
       "Name: target, dtype: float64"
      ]
     },
     "execution_count": 34,
     "metadata": {},
     "output_type": "execute_result"
    }
   ],
   "source": [
    "y_train.describe().T"
   ]
  },
  {
   "cell_type": "code",
   "execution_count": 35,
   "id": "1efbdf53",
   "metadata": {},
   "outputs": [
    {
     "data": {
      "text/plain": [
       "count    61.000000\n",
       "mean      0.540984\n",
       "std       0.502453\n",
       "min       0.000000\n",
       "25%       0.000000\n",
       "50%       1.000000\n",
       "75%       1.000000\n",
       "max       1.000000\n",
       "Name: target, dtype: float64"
      ]
     },
     "execution_count": 35,
     "metadata": {},
     "output_type": "execute_result"
    }
   ],
   "source": [
    "y_test.describe().T"
   ]
  },
  {
   "cell_type": "markdown",
   "id": "c3fae17a",
   "metadata": {},
   "source": [
    "#### 3.5.Target_Variable"
   ]
  },
  {
   "cell_type": "code",
   "execution_count": 36,
   "id": "82867173",
   "metadata": {},
   "outputs": [
    {
     "data": {
      "text/plain": [
       "1    132\n",
       "0    110\n",
       "Name: target, dtype: int64"
      ]
     },
     "execution_count": 36,
     "metadata": {},
     "output_type": "execute_result"
    }
   ],
   "source": [
    "y_train.value_counts()"
   ]
  },
  {
   "cell_type": "code",
   "execution_count": 44,
   "id": "f32800a0",
   "metadata": {},
   "outputs": [
    {
     "data": {
      "image/png": "[encoded data removed]",
      "text/plain": [
       "<Figure size 640x480 with 1 Axes>"
      ]
     },
     "metadata": {},
     "output_type": "display_data"
    }
   ],
   "source": [
    "sns.countplot(x = y_train)\n",
    "plt.savefig(\"y_train feature\")"
   ]
  },
  {
   "cell_type": "code",
   "execution_count": 37,
   "id": "4b7ba510",
   "metadata": {},
   "outputs": [
    {
     "data": {
      "text/plain": [
       "1    33\n",
       "0    28\n",
       "Name: target, dtype: int64"
      ]
     },
     "execution_count": 37,
     "metadata": {},
     "output_type": "execute_result"
    }
   ],
   "source": [
    "y_test.value_counts()"
   ]
  },
  {
   "cell_type": "code",
   "execution_count": 45,
   "id": "47e53e5b",
   "metadata": {},
   "outputs": [
    {
     "data": {
      "image/png": "[encoded data removed]",
      "text/plain": [
       "<Figure size 640x480 with 1 Axes>"
      ]
     },
     "metadata": {},
     "output_type": "display_data"
    }
   ],
   "source": [
    "sns.countplot(x = y_test)\n",
    "plt.savefig(\"y_test feature\")"
   ]
  },
  {
   "cell_type": "markdown",
   "id": "2d96c99a",
   "metadata": {},
   "source": [
    "#### 3.6.Outliers"
   ]
  },
  {
   "cell_type": "code",
   "execution_count": 48,
   "id": "3cb6d2be",
   "metadata": {},
   "outputs": [
    {
     "data": {
      "image/png": "[encoded data removed]",
      "text/plain": [
       "<Figure size 640x480 with 1 Axes>"
      ]
     },
     "metadata": {},
     "output_type": "display_data"
    }
   ],
   "source": [
    "sns.boxplot(x_train)\n",
    "plt.savefig(\"x_train_outliers\")"
   ]
  },
  {
   "cell_type": "code",
   "execution_count": 49,
   "id": "cd6ff487",
   "metadata": {},
   "outputs": [
    {
     "data": {
      "image/png": "[encoded data removed]",
      "text/plain": [
       "<Figure size 640x480 with 1 Axes>"
      ]
     },
     "metadata": {},
     "output_type": "display_data"
    }
   ],
   "source": [
    "sns.boxplot(x_test)\n",
    "plt.savefig(\"x_test_outliers\")"
   ]
  },
  {
   "cell_type": "markdown",
   "id": "f4741554",
   "metadata": {},
   "source": [
    "#### 4.Feature_Engineering"
   ]
  },
  {
   "cell_type": "markdown",
   "id": "6d4241c2",
   "metadata": {},
   "source": [
    "#### 4.1.Handling ouliers"
   ]
  },
  {
   "cell_type": "code",
   "execution_count": 50,
   "id": "3356db5e",
   "metadata": {},
   "outputs": [
    {
     "data": {
      "text/plain": [
       "Index(['age', 'sex', 'cp', 'trestbps', 'chol', 'fbs', 'restecg', 'thalach',\n",
       "       'exang', 'oldpeak', 'slope', 'ca', 'thal'],\n",
       "      dtype='object')"
      ]
     },
     "execution_count": 50,
     "metadata": {},
     "output_type": "execute_result"
    }
   ],
   "source": [
    "x_train.columns"
   ]
  },
  {
   "cell_type": "code",
   "execution_count": 51,
   "id": "45137fa8",
   "metadata": {},
   "outputs": [
    {
     "data": {
      "text/plain": [
       "<Axes: >"
      ]
     },
     "execution_count": 51,
     "metadata": {},
     "output_type": "execute_result"
    },
    {
     "data": {
      "image/png": "[encoded data removed]",
      "text/plain": [
       "<Figure size 640x480 with 1 Axes>"
      ]
     },
     "metadata": {},
     "output_type": "display_data"
    }
   ],
   "source": [
    "sns.boxplot(x_train[\"age\"])"
   ]
  },
  {
   "cell_type": "code",
   "execution_count": 52,
   "id": "490987ef",
   "metadata": {},
   "outputs": [
    {
     "data": {
      "text/plain": [
       "<Axes: >"
      ]
     },
     "execution_count": 52,
     "metadata": {},
     "output_type": "execute_result"
    },
    {
     "data": {
      "image/png": "[encoded data removed]",
      "text/plain": [
       "<Figure size 640x480 with 1 Axes>"
      ]
     },
     "metadata": {},
     "output_type": "display_data"
    }
   ],
   "source": [
    "sns.boxplot(x_train[\"sex\"])"
   ]
  },
  {
   "cell_type": "code",
   "execution_count": 53,
   "id": "15775ea7",
   "metadata": {},
   "outputs": [
    {
     "data": {
      "text/plain": [
       "<Axes: >"
      ]
     },
     "execution_count": 53,
     "metadata": {},
     "output_type": "execute_result"
    },
    {
     "data": {
      "image/png": "[encoded data removed]",
      "text/plain": [
       "<Figure size 640x480 with 1 Axes>"
      ]
     },
     "metadata": {},
     "output_type": "display_data"
    }
   ],
   "source": [
    "sns.boxplot(x_train[\"cp\"])"
   ]
  },
  {
   "cell_type": "code",
   "execution_count": 55,
   "id": "ca33f7a3",
   "metadata": {},
   "outputs": [
    {
     "data": {
      "text/plain": [
       "<Axes: >"
      ]
     },
     "execution_count": 55,
     "metadata": {},
     "output_type": "execute_result"
    },
    {
     "data": {
      "image/png": "[encoded data removed]",
      "text/plain": [
       "<Figure size 640x480 with 1 Axes>"
      ]
     },
     "metadata": {},
     "output_type": "display_data"
    }
   ],
   "source": [
    "sns.boxplot(x_train[\"trestbps\"])"
   ]
  },
  {
   "cell_type": "code",
   "execution_count": 59,
   "id": "e5266b01",
   "metadata": {},
   "outputs": [
    {
     "data": {
      "text/plain": [
       "<Axes: >"
      ]
     },
     "execution_count": 59,
     "metadata": {},
     "output_type": "execute_result"
    },
    {
     "data": {
      "image/png": "[encoded data removed]",
      "text/plain": [
       "<Figure size 640x480 with 1 Axes>"
      ]
     },
     "metadata": {},
     "output_type": "display_data"
    }
   ],
   "source": [
    "sns.boxplot(x_train[\"chol\"])"
   ]
  },
  {
   "cell_type": "code",
   "execution_count": 60,
   "id": "740c8818",
   "metadata": {},
   "outputs": [
    {
     "data": {
      "text/plain": [
       "<Axes: >"
      ]
     },
     "execution_count": 60,
     "metadata": {},
     "output_type": "execute_result"
    },
    {
     "data": {
      "image/png": "[encoded data removed]",
      "text/plain": [
       "<Figure size 640x480 with 1 Axes>"
      ]
     },
     "metadata": {},
     "output_type": "display_data"
    }
   ],
   "source": [
    "sns.boxplot(x_train[\"fbs\"])"
   ]
  },
  {
   "cell_type": "code",
   "execution_count": 61,
   "id": "d7e53383",
   "metadata": {},
   "outputs": [
    {
     "data": {
      "text/plain": [
       "<Axes: >"
      ]
     },
     "execution_count": 61,
     "metadata": {},
     "output_type": "execute_result"
    },
    {
     "data": {
      "image/png": "[encoded data removed]",
      "text/plain": [
       "<Figure size 640x480 with 1 Axes>"
      ]
     },
     "metadata": {},
     "output_type": "display_data"
    }
   ],
   "source": [
    "sns.boxplot(x_train[\"restecg\"])"
   ]
  },
  {
   "cell_type": "code",
   "execution_count": 62,
   "id": "a3c7114c",
   "metadata": {},
   "outputs": [
    {
     "data": {
      "text/plain": [
       "<Axes: >"
      ]
     },
     "execution_count": 62,
     "metadata": {},
     "output_type": "execute_result"
    },
    {
     "data": {
      "image/png": "[encoded data removed]",
      "text/plain": [
       "<Figure size 640x480 with 1 Axes>"
      ]
     },
     "metadata": {},
     "output_type": "display_data"
    }
   ],
   "source": [
    "sns.boxplot(x_train[\"thalach\"])"
   ]
  },
  {
   "cell_type": "code",
   "execution_count": 63,
   "id": "f1cf9e79",
   "metadata": {},
   "outputs": [
    {
     "data": {
      "text/plain": [
       "<Axes: >"
      ]
     },
     "execution_count": 63,
     "metadata": {},
     "output_type": "execute_result"
    },
    {
     "data": {
      "image/png": "[encoded data removed]",
      "text/plain": [
       "<Figure size 640x480 with 1 Axes>"
      ]
     },
     "metadata": {},
     "output_type": "display_data"
    }
   ],
   "source": [
    "sns.boxplot(x_train[\"exang\"])"
   ]
  },
  {
   "cell_type": "code",
   "execution_count": 64,
   "id": "a06d21e4",
   "metadata": {},
   "outputs": [
    {
     "data": {
      "text/plain": [
       "<Axes: >"
      ]
     },
     "execution_count": 64,
     "metadata": {},
     "output_type": "execute_result"
    },
    {
     "data": {
      "image/png": "[encoded data removed]",
      "text/plain": [
       "<Figure size 640x480 with 1 Axes>"
      ]
     },
     "metadata": {},
     "output_type": "display_data"
    }
   ],
   "source": [
    "sns.boxplot(x_train[\"oldpeak\"])"
   ]
  },
  {
   "cell_type": "code",
   "execution_count": 65,
   "id": "4f67a589",
   "metadata": {},
   "outputs": [
    {
     "data": {
      "text/plain": [
       "<Axes: >"
      ]
     },
     "execution_count": 65,
     "metadata": {},
     "output_type": "execute_result"
    },
    {
     "data": {
      "image/png": "[encoded data removed]",
      "text/plain": [
       "<Figure size 640x480 with 1 Axes>"
      ]
     },
     "metadata": {},
     "output_type": "display_data"
    }
   ],
   "source": [
    "sns.boxplot(x_train[\"ca\"])"
   ]
  },
  {
   "cell_type": "code",
   "execution_count": 66,
   "id": "49f033cf",
   "metadata": {},
   "outputs": [
    {
     "data": {
      "text/plain": [
       "<Axes: >"
      ]
     },
     "execution_count": 66,
     "metadata": {},
     "output_type": "execute_result"
    },
    {
     "data": {
      "image/png": "[encoded data removed]",
      "text/plain": [
       "<Figure size 640x480 with 1 Axes>"
      ]
     },
     "metadata": {},
     "output_type": "display_data"
    }
   ],
   "source": [
    "sns.boxplot(x_train[\"thal\"])"
   ]
  },
  {
   "cell_type": "code",
   "execution_count": 67,
   "id": "331b6f1e",
   "metadata": {},
   "outputs": [],
   "source": [
    "from sklearn.preprocessing import PowerTransformer"
   ]
  },
  {
   "cell_type": "code",
   "execution_count": 74,
   "id": "7bcc4cf1",
   "metadata": {},
   "outputs": [
    {
     "data": {
      "text/plain": [
       "array([[ 1.22145529,  0.67015058, -1.01046818, ..., -0.73880211,\n",
       "         1.03996899,  1.19779495],\n",
       "       [-1.63750914, -1.49220195,  1.0754553 , ...,  1.03642995,\n",
       "        -0.83536525, -0.51430558],\n",
       "       [ 0.60423277,  0.67015058, -1.01046818, ...,  1.03642995,\n",
       "         1.2823664 ,  1.19779495],\n",
       "       ...,\n",
       "       [-1.54269616,  0.67015058,  1.43757839, ...,  1.03642995,\n",
       "        -0.83536525,  1.19779495],\n",
       "       [ 0.72528475,  0.67015058, -1.01046818, ..., -0.73880211,\n",
       "         1.03996899, -0.51430558],\n",
       "       [-0.74373138,  0.67015058,  1.0754553 , ...,  1.03642995,\n",
       "         1.2823664 , -0.51430558]])"
      ]
     },
     "execution_count": 74,
     "metadata": {},
     "output_type": "execute_result"
    }
   ],
   "source": [
    "pt = PowerTransformer(method='yeo-johnson')\n",
    "data_x_train= pt.fit_transform(x_train)\n",
    "data_x_train"
   ]
  },
  {
   "cell_type": "code",
   "execution_count": 75,
   "id": "fe43587d",
   "metadata": {
    "scrolled": true
   },
   "outputs": [
    {
     "data": {
      "text/html": [
       "<div>\n",
       "<style scoped>\n",
       "    .dataframe tbody tr th:only-of-type {\n",
       "        vertical-align: middle;\n",
       "    }\n",
       "\n",
       "    .dataframe tbody tr th {\n",
       "        vertical-align: top;\n",
       "    }\n",
       "\n",
       "    .dataframe thead th {\n",
       "        text-align: right;\n",
       "    }\n",
       "</style>\n",
       "<table border=\"1\" class=\"dataframe\">\n",
       "  <thead>\n",
       "    <tr style=\"text-align: right;\">\n",
       "      <th></th>\n",
       "      <th>age</th>\n",
       "      <th>sex</th>\n",
       "      <th>cp</th>\n",
       "      <th>trestbps</th>\n",
       "      <th>chol</th>\n",
       "      <th>fbs</th>\n",
       "      <th>restecg</th>\n",
       "      <th>thalach</th>\n",
       "      <th>exang</th>\n",
       "      <th>oldpeak</th>\n",
       "      <th>slope</th>\n",
       "      <th>ca</th>\n",
       "      <th>thal</th>\n",
       "    </tr>\n",
       "  </thead>\n",
       "  <tbody>\n",
       "    <tr>\n",
       "      <th>0</th>\n",
       "      <td>1.221455</td>\n",
       "      <td>0.670151</td>\n",
       "      <td>-1.010468</td>\n",
       "      <td>0.330580</td>\n",
       "      <td>0.279411</td>\n",
       "      <td>-0.404304</td>\n",
       "      <td>-1.046975</td>\n",
       "      <td>-0.999784</td>\n",
       "      <td>-0.722504</td>\n",
       "      <td>1.346564</td>\n",
       "      <td>-0.738802</td>\n",
       "      <td>1.039969</td>\n",
       "      <td>1.197795</td>\n",
       "    </tr>\n",
       "    <tr>\n",
       "      <th>1</th>\n",
       "      <td>-1.637509</td>\n",
       "      <td>-1.492202</td>\n",
       "      <td>1.075455</td>\n",
       "      <td>-2.618155</td>\n",
       "      <td>-0.942679</td>\n",
       "      <td>-0.404304</td>\n",
       "      <td>0.899645</td>\n",
       "      <td>1.475376</td>\n",
       "      <td>-0.722504</td>\n",
       "      <td>-1.153690</td>\n",
       "      <td>1.036430</td>\n",
       "      <td>-0.835365</td>\n",
       "      <td>-0.514306</td>\n",
       "    </tr>\n",
       "    <tr>\n",
       "      <th>2</th>\n",
       "      <td>0.604233</td>\n",
       "      <td>0.670151</td>\n",
       "      <td>-1.010468</td>\n",
       "      <td>-0.802956</td>\n",
       "      <td>-0.221174</td>\n",
       "      <td>2.473388</td>\n",
       "      <td>0.899645</td>\n",
       "      <td>0.420928</td>\n",
       "      <td>1.384075</td>\n",
       "      <td>0.740414</td>\n",
       "      <td>1.036430</td>\n",
       "      <td>1.282366</td>\n",
       "      <td>1.197795</td>\n",
       "    </tr>\n",
       "    <tr>\n",
       "      <th>3</th>\n",
       "      <td>1.221455</td>\n",
       "      <td>-1.492202</td>\n",
       "      <td>1.075455</td>\n",
       "      <td>1.625160</td>\n",
       "      <td>2.077658</td>\n",
       "      <td>-0.404304</td>\n",
       "      <td>-1.046975</td>\n",
       "      <td>-0.016505</td>\n",
       "      <td>-0.722504</td>\n",
       "      <td>0.252552</td>\n",
       "      <td>1.036430</td>\n",
       "      <td>-0.835365</td>\n",
       "      <td>-0.514306</td>\n",
       "    </tr>\n",
       "    <tr>\n",
       "      <th>4</th>\n",
       "      <td>-0.316064</td>\n",
       "      <td>0.670151</td>\n",
       "      <td>1.075455</td>\n",
       "      <td>2.158882</td>\n",
       "      <td>-0.942679</td>\n",
       "      <td>2.473388</td>\n",
       "      <td>0.899645</td>\n",
       "      <td>0.523565</td>\n",
       "      <td>-0.722504</td>\n",
       "      <td>-0.116797</td>\n",
       "      <td>1.036430</td>\n",
       "      <td>-0.835365</td>\n",
       "      <td>1.197795</td>\n",
       "    </tr>\n",
       "    <tr>\n",
       "      <th>...</th>\n",
       "      <td>...</td>\n",
       "      <td>...</td>\n",
       "      <td>...</td>\n",
       "      <td>...</td>\n",
       "      <td>...</td>\n",
       "      <td>...</td>\n",
       "      <td>...</td>\n",
       "      <td>...</td>\n",
       "      <td>...</td>\n",
       "      <td>...</td>\n",
       "      <td>...</td>\n",
       "      <td>...</td>\n",
       "      <td>...</td>\n",
       "    </tr>\n",
       "    <tr>\n",
       "      <th>237</th>\n",
       "      <td>0.018492</td>\n",
       "      <td>-1.492202</td>\n",
       "      <td>0.464226</td>\n",
       "      <td>0.155131</td>\n",
       "      <td>1.809253</td>\n",
       "      <td>-0.404304</td>\n",
       "      <td>0.899645</td>\n",
       "      <td>0.734738</td>\n",
       "      <td>-0.722504</td>\n",
       "      <td>0.603282</td>\n",
       "      <td>1.036430</td>\n",
       "      <td>-0.835365</td>\n",
       "      <td>-0.514306</td>\n",
       "    </tr>\n",
       "    <tr>\n",
       "      <th>238</th>\n",
       "      <td>1.348371</td>\n",
       "      <td>-1.492202</td>\n",
       "      <td>-1.010468</td>\n",
       "      <td>2.408318</td>\n",
       "      <td>-0.264993</td>\n",
       "      <td>2.473388</td>\n",
       "      <td>0.899645</td>\n",
       "      <td>0.681208</td>\n",
       "      <td>1.384075</td>\n",
       "      <td>0.443112</td>\n",
       "      <td>-0.738802</td>\n",
       "      <td>1.282366</td>\n",
       "      <td>1.197795</td>\n",
       "    </tr>\n",
       "    <tr>\n",
       "      <th>239</th>\n",
       "      <td>-1.542696</td>\n",
       "      <td>0.670151</td>\n",
       "      <td>1.437578</td>\n",
       "      <td>0.612459</td>\n",
       "      <td>-0.942679</td>\n",
       "      <td>-0.404304</td>\n",
       "      <td>0.899645</td>\n",
       "      <td>1.415447</td>\n",
       "      <td>1.384075</td>\n",
       "      <td>0.740414</td>\n",
       "      <td>1.036430</td>\n",
       "      <td>-0.835365</td>\n",
       "      <td>1.197795</td>\n",
       "    </tr>\n",
       "    <tr>\n",
       "      <th>240</th>\n",
       "      <td>0.725285</td>\n",
       "      <td>0.670151</td>\n",
       "      <td>-1.010468</td>\n",
       "      <td>0.501241</td>\n",
       "      <td>-1.831564</td>\n",
       "      <td>-0.404304</td>\n",
       "      <td>-1.046975</td>\n",
       "      <td>-1.071028</td>\n",
       "      <td>1.384075</td>\n",
       "      <td>1.550906</td>\n",
       "      <td>-0.738802</td>\n",
       "      <td>1.039969</td>\n",
       "      <td>-0.514306</td>\n",
       "    </tr>\n",
       "    <tr>\n",
       "      <th>241</th>\n",
       "      <td>-0.743731</td>\n",
       "      <td>0.670151</td>\n",
       "      <td>1.075455</td>\n",
       "      <td>-0.337932</td>\n",
       "      <td>0.299327</td>\n",
       "      <td>2.473388</td>\n",
       "      <td>0.899645</td>\n",
       "      <td>1.238622</td>\n",
       "      <td>-0.722504</td>\n",
       "      <td>-1.153690</td>\n",
       "      <td>1.036430</td>\n",
       "      <td>1.282366</td>\n",
       "      <td>-0.514306</td>\n",
       "    </tr>\n",
       "  </tbody>\n",
       "</table>\n",
       "<p>242 rows × 13 columns</p>\n",
       "</div>"
      ],
      "text/plain": [
       "          age       sex        cp  trestbps      chol       fbs   restecg  \\\n",
       "0    1.221455  0.670151 -1.010468  0.330580  0.279411 -0.404304 -1.046975   \n",
       "1   -1.637509 -1.492202  1.075455 -2.618155 -0.942679 -0.404304  0.899645   \n",
       "2    0.604233  0.670151 -1.010468 -0.802956 -0.221174  2.473388  0.899645   \n",
       "3    1.221455 -1.492202  1.075455  1.625160  2.077658 -0.404304 -1.046975   \n",
       "4   -0.316064  0.670151  1.075455  2.158882 -0.942679  2.473388  0.899645   \n",
       "..        ...       ...       ...       ...       ...       ...       ...   \n",
       "237  0.018492 -1.492202  0.464226  0.155131  1.809253 -0.404304  0.899645   \n",
       "238  1.348371 -1.492202 -1.010468  2.408318 -0.264993  2.473388  0.899645   \n",
       "239 -1.542696  0.670151  1.437578  0.612459 -0.942679 -0.404304  0.899645   \n",
       "240  0.725285  0.670151 -1.010468  0.501241 -1.831564 -0.404304 -1.046975   \n",
       "241 -0.743731  0.670151  1.075455 -0.337932  0.299327  2.473388  0.899645   \n",
       "\n",
       "      thalach     exang   oldpeak     slope        ca      thal  \n",
       "0   -0.999784 -0.722504  1.346564 -0.738802  1.039969  1.197795  \n",
       "1    1.475376 -0.722504 -1.153690  1.036430 -0.835365 -0.514306  \n",
       "2    0.420928  1.384075  0.740414  1.036430  1.282366  1.197795  \n",
       "3   -0.016505 -0.722504  0.252552  1.036430 -0.835365 -0.514306  \n",
       "4    0.523565 -0.722504 -0.116797  1.036430 -0.835365  1.197795  \n",
       "..        ...       ...       ...       ...       ...       ...  \n",
       "237  0.734738 -0.722504  0.603282  1.036430 -0.835365 -0.514306  \n",
       "238  0.681208  1.384075  0.443112 -0.738802  1.282366  1.197795  \n",
       "239  1.415447  1.384075  0.740414  1.036430 -0.835365  1.197795  \n",
       "240 -1.071028  1.384075  1.550906 -0.738802  1.039969 -0.514306  \n",
       "241  1.238622 -0.722504 -1.153690  1.036430  1.282366 -0.514306  \n",
       "\n",
       "[242 rows x 13 columns]"
      ]
     },
     "execution_count": 75,
     "metadata": {},
     "output_type": "execute_result"
    }
   ],
   "source": [
    "x_train = pd.DataFrame(data_x_train,columns = x_train.columns)\n",
    "x_train"
   ]
  },
  {
   "cell_type": "code",
   "execution_count": 79,
   "id": "4314cfe0",
   "metadata": {},
   "outputs": [
    {
     "data": {
      "text/plain": [
       "<Axes: >"
      ]
     },
     "execution_count": 79,
     "metadata": {},
     "output_type": "execute_result"
    },
    {
     "data": {
      "image/png": "[encoded data removed]",
      "text/plain": [
       "<Figure size 640x480 with 1 Axes>"
      ]
     },
     "metadata": {},
     "output_type": "display_data"
    }
   ],
   "source": [
    "sns.boxenplot(x_train)"
   ]
  },
  {
   "cell_type": "code",
   "execution_count": 76,
   "id": "db55ad16",
   "metadata": {},
   "outputs": [
    {
     "data": {
      "text/plain": [
       "array([[-0.28735818,  0.72456884,  0.25433818, -0.80126465,  1.24451043,\n",
       "        -0.46904158,  1.05553547,  0.85069733, -0.59628479, -0.84861977,\n",
       "         0.98865709, -0.90013065, -0.800977  ],\n",
       "       [ 0.2406096 ,  0.72456884,  0.97119333,  0.92597084, -3.42973038,\n",
       "         2.13200716,  1.05553547,  0.90539075, -0.59628479, -0.84861977,\n",
       "         0.98865709,  0.79757196,  1.04892847],\n",
       "       [-0.88732801,  0.72456884, -1.06535698,  0.47645819,  1.0609875 ,\n",
       "        -0.46904158,  1.05553547, -1.4172034 ,  1.67705098,  0.85046226,\n",
       "        -0.87109096,  1.34490072,  1.04892847],\n",
       "       [-0.07915192, -1.38013112,  0.97119333,  1.29073223, -0.92621391,\n",
       "        -0.46904158,  1.05553547,  0.37792929, -0.59628479, -1.27986999,\n",
       "         0.98865709,  0.79757196, -0.800977  ],\n",
       "       [-1.07883478,  0.72456884,  0.97119333,  0.47645819, -0.17830907,\n",
       "        -0.46904158, -0.91736932,  1.30051382, -0.59628479, -1.27986999,\n",
       "         0.98865709, -0.90013065, -0.800977  ],\n",
       "       [-1.44858841,  0.72456884, -1.06535698,  1.00497121, -0.42444179,\n",
       "        -0.46904158,  1.05553547,  1.35872407, -0.59628479, -1.27986999,\n",
       "         0.98865709, -0.90013065,  1.04892847],\n",
       "       [-0.59203705, -1.38013112, -1.06535698, -0.08580144,  0.4350751 ,\n",
       "        -0.46904158,  1.05553547,  0.37792929, -0.59628479, -1.27986999,\n",
       "         0.98865709, -0.90013065, -0.800977  ],\n",
       "       [ 0.90615505, -1.38013112, -1.06535698, -1.94882518,  0.4350751 ,\n",
       "        -0.46904158,  1.05553547,  0.68922509,  1.67705098,  0.85046226,\n",
       "        -0.87109096,  1.34490072, -0.800977  ],\n",
       "       [-0.69152389,  0.72456884,  0.25433818, -1.73009315, -0.29917889,\n",
       "        -0.46904158,  1.05553547,  0.63626713, -0.59628479,  0.2314116 ,\n",
       "        -2.19903734, -0.90013065,  1.04892847],\n",
       "       [ 1.72470859,  0.72456884,  0.97119333,  1.29073223,  0.4350751 ,\n",
       "        -0.46904158,  1.05553547, -1.67101645,  1.67705098,  1.39709468,\n",
       "        -0.87109096,  0.79757196,  1.04892847],\n",
       "       [-1.35783793, -1.38013112,  0.25433818, -0.08580144, -0.85348554,\n",
       "        -0.46904158, -0.91736932,  0.85069733, -0.59628479,  0.57528215,\n",
       "         0.98865709, -0.90013065, -0.800977  ],\n",
       "       [ 0.34915044,  0.72456884,  0.97119333,  0.47645819, -0.6893093 ,\n",
       "         2.13200716, -0.91736932,  0.47997797, -0.59628479, -1.27986999,\n",
       "         0.98865709, -0.90013065, -0.800977  ],\n",
       "       [-1.62663525,  0.72456884,  1.45662943, -0.80126465, -0.25841414,\n",
       "        -0.46904158,  1.05553547,  1.41737816,  1.67705098,  1.71067387,\n",
       "        -0.87109096, -0.90013065,  1.04892847],\n",
       "       [ 0.13304014, -1.38013112, -1.06535698,  2.22710187,  0.73363013,\n",
       "         2.13200716, -0.91736932, -0.95266571,  1.67705098,  1.76986104,\n",
       "        -2.19903734,  1.34490072,  1.04892847],\n",
       "       [-1.17294863,  0.72456884, -1.06535698, -0.80126465, -1.56669666,\n",
       "        -0.46904158, -0.91736932, -1.4172034 ,  1.67705098,  1.22504131,\n",
       "        -0.87109096, -0.90013065,  1.04892847],\n",
       "       [ 0.90615505, -1.38013112,  0.97119333,  0.21159188,  0.14248937,\n",
       "        -0.46904158, -0.91736932,  0.85069733, -0.59628479, -1.27986999,\n",
       "         0.98865709, -0.90013065, -0.800977  ],\n",
       "       [-0.69152389, -1.38013112,  0.97119333, -0.08580144,  0.53238605,\n",
       "        -0.46904158,  1.05553547, -0.71591328, -0.59628479, -0.84861977,\n",
       "         0.98865709, -0.90013065, -0.800977  ],\n",
       "       [ 1.02036455,  0.72456884,  1.45662943,  1.59060066, -0.34043157,\n",
       "        -0.46904158, -0.91736932, -0.01328516, -0.59628479, -0.21830013,\n",
       "        -0.87109096, -0.90013065,  1.04892847],\n",
       "       [-1.07883478,  0.72456884,  0.97119333, -0.80126465, -0.36124405,\n",
       "        -0.46904158,  1.05553547,  0.68922509, -0.59628479, -1.27986999,\n",
       "         0.98865709, -0.90013065, -0.800977  ],\n",
       "       [ 1.13549388,  0.72456884,  1.45662943,  0.37410625,  0.64232068,\n",
       "         2.13200716, -0.91736932,  0.96052045, -0.59628479,  0.57528215,\n",
       "        -0.87109096,  0.79757196, -0.800977  ],\n",
       "       [-0.07915192,  0.72456884,  0.25433818,  2.08733104,  0.65772195,\n",
       "        -0.46904158, -0.91736932,  2.22069036, -0.59628479, -1.27986999,\n",
       "         0.98865709,  0.79757196,  1.04892847],\n",
       "       [-0.28735818,  0.72456884, -1.06535698, -1.94882518, -0.2181274 ,\n",
       "         2.13200716,  1.05553547, -0.37772139, -0.59628479, -1.05122802,\n",
       "         0.98865709,  1.61301795,  1.04892847],\n",
       "       [ 0.34915044,  0.72456884,  0.25433818, -0.80126465,  0.6730492 ,\n",
       "        -0.46904158, -0.91736932,  0.22805262, -0.59628479,  0.85046226,\n",
       "        -0.87109096, -0.90013065, -0.800977  ],\n",
       "       [-0.38994449,  0.72456884,  0.97119333, -0.42119761,  0.01407472,\n",
       "         2.13200716, -0.91736932,  0.53164455, -0.59628479,  1.17791062,\n",
       "        -0.87109096, -0.90013065, -0.800977  ],\n",
       "       [ 1.36848538, -1.38013112,  0.97119333, -1.23418645,  3.30913179,\n",
       "        -0.46904158, -0.91736932,  0.22805262, -0.59628479,  0.71989823,\n",
       "        -0.87109096, -0.90013065,  1.04892847],\n",
       "       [ 0.79287222, -1.38013112, -1.06535698,  0.47645819,  2.0132534 ,\n",
       "        -0.46904158, -0.91736932,  0.08198751, -0.59628479,  0.41372627,\n",
       "        -0.87109096, -0.90013065, -0.800977  ],\n",
       "       [ 1.6050777 ,  0.72456884,  1.45662943,  1.29073223, -0.19816028,\n",
       "         2.13200716, -0.91736932, -1.02841288, -0.59628479, -1.05122802,\n",
       "        -0.87109096,  0.79757196, -0.800977  ],\n",
       "       [-0.88732801,  0.72456884, -1.06535698, -0.80126465,  0.08805721,\n",
       "        -0.46904158, -0.91736932, -0.50758962, -0.59628479,  0.02315522,\n",
       "         0.98865709, -0.90013065,  1.04892847],\n",
       "       [-0.07915192, -1.38013112,  0.97119333,  0.21159188,  0.96494444,\n",
       "         2.13200716,  1.05553547,  0.74261546, -0.59628479, -1.27986999,\n",
       "         0.98865709, -0.90013065, -0.800977  ],\n",
       "       [-0.38994449, -1.38013112, -1.06535698, -0.08580144,  0.97884862,\n",
       "        -0.46904158,  1.05553547, -0.5921322 ,  1.67705098,  0.41372627,\n",
       "        -0.87109096, -0.90013065,  1.04892847],\n",
       "       [-0.07915192,  0.72456884,  0.97119333,  0.92597084, -0.23821163,\n",
       "        -0.46904158, -0.91736932,  0.47997797, -0.59628479,  0.71989823,\n",
       "         0.98865709, -0.90013065,  1.04892847],\n",
       "       [-0.28735818,  0.72456884,  0.25433818,  0.15487561, -0.92621391,\n",
       "        -0.46904158,  1.05553547,  0.13025405, -0.59628479,  0.02315522,\n",
       "         0.98865709,  0.79757196, -0.800977  ],\n",
       "       [ 1.48633459,  0.72456884, -1.06535698,  0.66800241, -1.12760343,\n",
       "         2.13200716,  1.05553547, -0.63379585, -0.59628479,  1.58185235,\n",
       "        -0.87109096,  1.34490072,  1.04892847],\n",
       "       [-1.17294863, -1.38013112,  0.97119333, -0.64339195, -0.64375885,\n",
       "        -0.46904158,  1.05553547,  0.47997797, -0.59628479, -0.84861977,\n",
       "        -0.87109096, -0.90013065, -0.800977  ],\n",
       "       [-1.96851193, -1.38013112,  0.25433818, -0.96757253, -0.71230562,\n",
       "        -0.46904158,  1.05553547,  2.02853366, -0.59628479, -0.0928596 ,\n",
       "         0.98865709, -0.90013065, -0.800977  ],\n",
       "       [ 1.13549388, -1.38013112, -1.06535698,  0.92597084, -0.38218237,\n",
       "        -0.46904158, -0.91736932, -1.60980724, -0.59628479,  0.2314116 ,\n",
       "        -0.87109096,  1.61301795,  1.04892847],\n",
       "       [ 0.02645019,  0.72456884, -1.06535698,  0.03738583,  1.58111549,\n",
       "        -0.46904158,  1.05553547, -0.99073613,  1.67705098,  0.41372627,\n",
       "        -0.87109096,  0.79757196,  1.04892847],\n",
       "       [ 0.34915044,  0.72456884, -1.06535698, -0.21505592, -0.57651443,\n",
       "        -0.46904158, -0.91736932, -1.02841288,  1.67705098,  1.07788678,\n",
       "        -0.87109096,  1.61301795,  1.04892847],\n",
       "       [ 1.25153634, -1.38013112,  0.97119333,  0.75768469,  0.57996285,\n",
       "        -0.46904158, -0.91736932, -0.15305852, -0.59628479, -1.27986999,\n",
       "        -0.87109096,  0.79757196, -0.800977  ],\n",
       "       [ 1.48633459,  0.72456884,  0.97119333, -0.96757253,  0.564182  ,\n",
       "        -0.46904158,  1.05553547, -0.19881759, -0.59628479,  0.2314116 ,\n",
       "         0.98865709,  0.79757196,  1.04892847],\n",
       "       [ 0.34915044, -1.38013112, -1.06535698,  1.59060066, -0.38218237,\n",
       "         2.13200716, -0.91736932, -0.42141947,  1.67705098,  1.35634817,\n",
       "        -0.87109096,  1.34490072, -2.26985519],\n",
       "       [ 1.13549388,  0.72456884, -1.06535698, -0.80126465, -1.56669666,\n",
       "        -0.46904158,  1.05553547, -0.67505584, -0.59628479, -0.50351466,\n",
       "         0.98865709, -0.90013065,  1.04892847],\n",
       "       [-0.38994449,  0.72456884,  0.97119333, -1.73009315, -1.6253796 ,\n",
       "        -0.46904158,  1.05553547, -1.3157921 , -0.59628479, -0.21830013,\n",
       "         0.98865709, -0.90013065, -0.800977  ],\n",
       "       [ 0.90615505,  0.72456884, -1.06535698,  0.47645819, -1.28625656,\n",
       "        -0.46904158, -0.91736932, -0.50758962,  1.67705098,  1.76986104,\n",
       "         0.98865709,  1.34490072,  1.04892847],\n",
       "       [ 0.5691148 , -1.38013112,  1.45662943,  0.92597084, -0.08075179,\n",
       "        -0.46904158,  1.05553547,  0.79643922, -0.59628479,  0.13092006,\n",
       "         0.98865709, -0.90013065, -0.800977  ],\n",
       "       [ 0.79287222,  0.72456884,  0.25433818, -0.80126465,  0.62684477,\n",
       "        -0.46904158, -0.91736932, -1.92829522, -0.59628479,  0.57528215,\n",
       "        -0.87109096,  0.79757196,  1.04892847],\n",
       "       [ 0.90615505,  0.72456884, -1.06535698, -0.08580144,  0.17828928,\n",
       "        -0.46904158, -0.91736932, -0.37772139, -0.59628479,  0.57528215,\n",
       "        -0.87109096,  0.79757196,  1.04892847],\n",
       "       [-0.07915192,  0.72456884, -1.06535698, -0.49339965,  0.38530284,\n",
       "        -0.46904158, -0.91736932, -1.7600593 ,  1.67705098,  1.07788678,\n",
       "        -0.87109096,  0.79757196,  1.04892847],\n",
       "       [ 1.84522124, -1.38013112,  0.97119333, -1.73009315,  0.36854174,\n",
       "         2.13200716, -0.91736932, -1.06569709, -0.59628479, -1.27986999,\n",
       "         0.98865709,  0.79757196, -0.800977  ],\n",
       "       [-1.35783793,  0.72456884,  0.97119333, -0.08580144, -0.62120146,\n",
       "        -0.46904158, -0.91736932,  0.63626713, -0.59628479,  0.96920603,\n",
       "        -0.87109096, -0.90013065, -0.800977  ],\n",
       "       [-1.88485776,  0.72456884, -1.06535698, -0.35077759,  0.64232068,\n",
       "        -0.46904158, -0.91736932,  0.03414145,  1.67705098, -1.27986999,\n",
       "         0.98865709, -0.90013065,  1.04892847],\n",
       "       [ 0.02645019, -1.38013112, -1.06535698,  1.83997   ,  1.26984789,\n",
       "        -0.46904158,  1.77372992, -1.51519756,  1.67705098,  1.58185235,\n",
       "        -0.87109096, -0.90013065, -0.800977  ],\n",
       "       [ 1.02036455,  0.72456884, -1.06535698,  0.71332708, -0.66646092,\n",
       "        -0.46904158, -0.91736932, -0.99073613, -0.59628479,  0.96920603,\n",
       "        -0.87109096,  1.34490072, -2.26985519],\n",
       "       [-0.28735818,  0.72456884, -1.06535698, -0.21505592,  0.19604549,\n",
       "        -0.46904158,  1.05553547,  0.27758666,  1.67705098, -1.27986999,\n",
       "         0.98865709,  0.79757196,  1.04892847],\n",
       "       [-0.98362408, -1.38013112,  0.25433818, -0.08580144, -0.19816028,\n",
       "        -0.46904158, -0.91736932,  1.01608738, -0.59628479, -0.21830013,\n",
       "        -0.87109096, -0.90013065, -0.800977  ],\n",
       "       [-0.59203705,  0.72456884,  0.25433818, -0.08580144,  0.38530284,\n",
       "        -0.46904158,  1.05553547,  0.79643922, -0.59628479, -0.21830013,\n",
       "         0.98865709, -0.90013065, -0.800977  ],\n",
       "       [ 1.25153634,  0.72456884, -1.06535698, -0.80126465,  0.93694806,\n",
       "        -0.46904158, -0.91736932, -0.19881759, -0.59628479, -0.50351466,\n",
       "        -0.87109096, -0.90013065, -0.800977  ],\n",
       "       [-1.88485776, -1.38013112, -1.06535698,  0.37410625, -1.39592701,\n",
       "        -0.46904158,  1.05553547,  1.41737816, -0.59628479,  0.57528215,\n",
       "         0.98865709, -0.90013065, -0.800977  ],\n",
       "       [ 0.34915044,  0.72456884, -1.06535698, -0.42119761,  0.90869768,\n",
       "        -0.46904158, -0.91736932,  0.79643922, -0.59628479, -1.27986999,\n",
       "         0.98865709,  1.34490072,  1.04892847],\n",
       "       [-1.26595377,  0.72456884,  1.45662943,  0.8436058 , -0.00467847,\n",
       "        -0.46904158, -0.91736932,  1.18542111, -0.59628479,  0.02315522,\n",
       "         0.98865709,  1.34490072, -0.800977  ],\n",
       "       [-0.07915192,  0.72456884, -1.06535698, -1.73009315, -0.80580405,\n",
       "        -0.46904158, -0.91736932, -1.78900637,  1.67705098, -1.27986999,\n",
       "        -0.87109096,  0.79757196, -0.800977  ]])"
      ]
     },
     "execution_count": 76,
     "metadata": {},
     "output_type": "execute_result"
    }
   ],
   "source": [
    "pt = PowerTransformer(method='yeo-johnson')\n",
    "data_x_test= pt.fit_transform(x_test)\n",
    "data_x_test"
   ]
  },
  {
   "cell_type": "code",
   "execution_count": 77,
   "id": "69059e87",
   "metadata": {
    "scrolled": true
   },
   "outputs": [
    {
     "data": {
      "text/html": [
       "<div>\n",
       "<style scoped>\n",
       "    .dataframe tbody tr th:only-of-type {\n",
       "        vertical-align: middle;\n",
       "    }\n",
       "\n",
       "    .dataframe tbody tr th {\n",
       "        vertical-align: top;\n",
       "    }\n",
       "\n",
       "    .dataframe thead th {\n",
       "        text-align: right;\n",
       "    }\n",
       "</style>\n",
       "<table border=\"1\" class=\"dataframe\">\n",
       "  <thead>\n",
       "    <tr style=\"text-align: right;\">\n",
       "      <th></th>\n",
       "      <th>age</th>\n",
       "      <th>sex</th>\n",
       "      <th>cp</th>\n",
       "      <th>trestbps</th>\n",
       "      <th>chol</th>\n",
       "      <th>fbs</th>\n",
       "      <th>restecg</th>\n",
       "      <th>thalach</th>\n",
       "      <th>exang</th>\n",
       "      <th>oldpeak</th>\n",
       "      <th>slope</th>\n",
       "      <th>ca</th>\n",
       "      <th>thal</th>\n",
       "    </tr>\n",
       "  </thead>\n",
       "  <tbody>\n",
       "    <tr>\n",
       "      <th>0</th>\n",
       "      <td>-0.287358</td>\n",
       "      <td>0.724569</td>\n",
       "      <td>0.254338</td>\n",
       "      <td>-0.801265</td>\n",
       "      <td>1.244510</td>\n",
       "      <td>-0.469042</td>\n",
       "      <td>1.055535</td>\n",
       "      <td>0.850697</td>\n",
       "      <td>-0.596285</td>\n",
       "      <td>-0.848620</td>\n",
       "      <td>0.988657</td>\n",
       "      <td>-0.900131</td>\n",
       "      <td>-0.800977</td>\n",
       "    </tr>\n",
       "    <tr>\n",
       "      <th>1</th>\n",
       "      <td>0.240610</td>\n",
       "      <td>0.724569</td>\n",
       "      <td>0.971193</td>\n",
       "      <td>0.925971</td>\n",
       "      <td>-3.429730</td>\n",
       "      <td>2.132007</td>\n",
       "      <td>1.055535</td>\n",
       "      <td>0.905391</td>\n",
       "      <td>-0.596285</td>\n",
       "      <td>-0.848620</td>\n",
       "      <td>0.988657</td>\n",
       "      <td>0.797572</td>\n",
       "      <td>1.048928</td>\n",
       "    </tr>\n",
       "    <tr>\n",
       "      <th>2</th>\n",
       "      <td>-0.887328</td>\n",
       "      <td>0.724569</td>\n",
       "      <td>-1.065357</td>\n",
       "      <td>0.476458</td>\n",
       "      <td>1.060987</td>\n",
       "      <td>-0.469042</td>\n",
       "      <td>1.055535</td>\n",
       "      <td>-1.417203</td>\n",
       "      <td>1.677051</td>\n",
       "      <td>0.850462</td>\n",
       "      <td>-0.871091</td>\n",
       "      <td>1.344901</td>\n",
       "      <td>1.048928</td>\n",
       "    </tr>\n",
       "    <tr>\n",
       "      <th>3</th>\n",
       "      <td>-0.079152</td>\n",
       "      <td>-1.380131</td>\n",
       "      <td>0.971193</td>\n",
       "      <td>1.290732</td>\n",
       "      <td>-0.926214</td>\n",
       "      <td>-0.469042</td>\n",
       "      <td>1.055535</td>\n",
       "      <td>0.377929</td>\n",
       "      <td>-0.596285</td>\n",
       "      <td>-1.279870</td>\n",
       "      <td>0.988657</td>\n",
       "      <td>0.797572</td>\n",
       "      <td>-0.800977</td>\n",
       "    </tr>\n",
       "    <tr>\n",
       "      <th>4</th>\n",
       "      <td>-1.078835</td>\n",
       "      <td>0.724569</td>\n",
       "      <td>0.971193</td>\n",
       "      <td>0.476458</td>\n",
       "      <td>-0.178309</td>\n",
       "      <td>-0.469042</td>\n",
       "      <td>-0.917369</td>\n",
       "      <td>1.300514</td>\n",
       "      <td>-0.596285</td>\n",
       "      <td>-1.279870</td>\n",
       "      <td>0.988657</td>\n",
       "      <td>-0.900131</td>\n",
       "      <td>-0.800977</td>\n",
       "    </tr>\n",
       "    <tr>\n",
       "      <th>...</th>\n",
       "      <td>...</td>\n",
       "      <td>...</td>\n",
       "      <td>...</td>\n",
       "      <td>...</td>\n",
       "      <td>...</td>\n",
       "      <td>...</td>\n",
       "      <td>...</td>\n",
       "      <td>...</td>\n",
       "      <td>...</td>\n",
       "      <td>...</td>\n",
       "      <td>...</td>\n",
       "      <td>...</td>\n",
       "      <td>...</td>\n",
       "    </tr>\n",
       "    <tr>\n",
       "      <th>56</th>\n",
       "      <td>1.251536</td>\n",
       "      <td>0.724569</td>\n",
       "      <td>-1.065357</td>\n",
       "      <td>-0.801265</td>\n",
       "      <td>0.936948</td>\n",
       "      <td>-0.469042</td>\n",
       "      <td>-0.917369</td>\n",
       "      <td>-0.198818</td>\n",
       "      <td>-0.596285</td>\n",
       "      <td>-0.503515</td>\n",
       "      <td>-0.871091</td>\n",
       "      <td>-0.900131</td>\n",
       "      <td>-0.800977</td>\n",
       "    </tr>\n",
       "    <tr>\n",
       "      <th>57</th>\n",
       "      <td>-1.884858</td>\n",
       "      <td>-1.380131</td>\n",
       "      <td>-1.065357</td>\n",
       "      <td>0.374106</td>\n",
       "      <td>-1.395927</td>\n",
       "      <td>-0.469042</td>\n",
       "      <td>1.055535</td>\n",
       "      <td>1.417378</td>\n",
       "      <td>-0.596285</td>\n",
       "      <td>0.575282</td>\n",
       "      <td>0.988657</td>\n",
       "      <td>-0.900131</td>\n",
       "      <td>-0.800977</td>\n",
       "    </tr>\n",
       "    <tr>\n",
       "      <th>58</th>\n",
       "      <td>0.349150</td>\n",
       "      <td>0.724569</td>\n",
       "      <td>-1.065357</td>\n",
       "      <td>-0.421198</td>\n",
       "      <td>0.908698</td>\n",
       "      <td>-0.469042</td>\n",
       "      <td>-0.917369</td>\n",
       "      <td>0.796439</td>\n",
       "      <td>-0.596285</td>\n",
       "      <td>-1.279870</td>\n",
       "      <td>0.988657</td>\n",
       "      <td>1.344901</td>\n",
       "      <td>1.048928</td>\n",
       "    </tr>\n",
       "    <tr>\n",
       "      <th>59</th>\n",
       "      <td>-1.265954</td>\n",
       "      <td>0.724569</td>\n",
       "      <td>1.456629</td>\n",
       "      <td>0.843606</td>\n",
       "      <td>-0.004678</td>\n",
       "      <td>-0.469042</td>\n",
       "      <td>-0.917369</td>\n",
       "      <td>1.185421</td>\n",
       "      <td>-0.596285</td>\n",
       "      <td>0.023155</td>\n",
       "      <td>0.988657</td>\n",
       "      <td>1.344901</td>\n",
       "      <td>-0.800977</td>\n",
       "    </tr>\n",
       "    <tr>\n",
       "      <th>60</th>\n",
       "      <td>-0.079152</td>\n",
       "      <td>0.724569</td>\n",
       "      <td>-1.065357</td>\n",
       "      <td>-1.730093</td>\n",
       "      <td>-0.805804</td>\n",
       "      <td>-0.469042</td>\n",
       "      <td>-0.917369</td>\n",
       "      <td>-1.789006</td>\n",
       "      <td>1.677051</td>\n",
       "      <td>-1.279870</td>\n",
       "      <td>-0.871091</td>\n",
       "      <td>0.797572</td>\n",
       "      <td>-0.800977</td>\n",
       "    </tr>\n",
       "  </tbody>\n",
       "</table>\n",
       "<p>61 rows × 13 columns</p>\n",
       "</div>"
      ],
      "text/plain": [
       "         age       sex        cp  trestbps      chol       fbs   restecg  \\\n",
       "0  -0.287358  0.724569  0.254338 -0.801265  1.244510 -0.469042  1.055535   \n",
       "1   0.240610  0.724569  0.971193  0.925971 -3.429730  2.132007  1.055535   \n",
       "2  -0.887328  0.724569 -1.065357  0.476458  1.060987 -0.469042  1.055535   \n",
       "3  -0.079152 -1.380131  0.971193  1.290732 -0.926214 -0.469042  1.055535   \n",
       "4  -1.078835  0.724569  0.971193  0.476458 -0.178309 -0.469042 -0.917369   \n",
       "..       ...       ...       ...       ...       ...       ...       ...   \n",
       "56  1.251536  0.724569 -1.065357 -0.801265  0.936948 -0.469042 -0.917369   \n",
       "57 -1.884858 -1.380131 -1.065357  0.374106 -1.395927 -0.469042  1.055535   \n",
       "58  0.349150  0.724569 -1.065357 -0.421198  0.908698 -0.469042 -0.917369   \n",
       "59 -1.265954  0.724569  1.456629  0.843606 -0.004678 -0.469042 -0.917369   \n",
       "60 -0.079152  0.724569 -1.065357 -1.730093 -0.805804 -0.469042 -0.917369   \n",
       "\n",
       "     thalach     exang   oldpeak     slope        ca      thal  \n",
       "0   0.850697 -0.596285 -0.848620  0.988657 -0.900131 -0.800977  \n",
       "1   0.905391 -0.596285 -0.848620  0.988657  0.797572  1.048928  \n",
       "2  -1.417203  1.677051  0.850462 -0.871091  1.344901  1.048928  \n",
       "3   0.377929 -0.596285 -1.279870  0.988657  0.797572 -0.800977  \n",
       "4   1.300514 -0.596285 -1.279870  0.988657 -0.900131 -0.800977  \n",
       "..       ...       ...       ...       ...       ...       ...  \n",
       "56 -0.198818 -0.596285 -0.503515 -0.871091 -0.900131 -0.800977  \n",
       "57  1.417378 -0.596285  0.575282  0.988657 -0.900131 -0.800977  \n",
       "58  0.796439 -0.596285 -1.279870  0.988657  1.344901  1.048928  \n",
       "59  1.185421 -0.596285  0.023155  0.988657  1.344901 -0.800977  \n",
       "60 -1.789006  1.677051 -1.279870 -0.871091  0.797572 -0.800977  \n",
       "\n",
       "[61 rows x 13 columns]"
      ]
     },
     "execution_count": 77,
     "metadata": {},
     "output_type": "execute_result"
    }
   ],
   "source": [
    "x_test = pd.DataFrame(data_x_test,columns = x_test.columns)\n",
    "x_test"
   ]
  },
  {
   "cell_type": "code",
   "execution_count": 80,
   "id": "a79f5053",
   "metadata": {},
   "outputs": [
    {
     "data": {
      "text/plain": [
       "<Axes: >"
      ]
     },
     "execution_count": 80,
     "metadata": {},
     "output_type": "execute_result"
    },
    {
     "data": {
      "image/png": "[encoded data removed]",
      "text/plain": [
       "<Figure size 640x480 with 1 Axes>"
      ]
     },
     "metadata": {},
     "output_type": "display_data"
    }
   ],
   "source": [
    "sns.boxenplot(x_test)"
   ]
  },
  {
   "cell_type": "markdown",
   "id": "caff185d",
   "metadata": {},
   "source": [
    "#### 5.Featutre_Scaling"
   ]
  },
  {
   "cell_type": "code",
   "execution_count": 78,
   "id": "7ab8b83b",
   "metadata": {},
   "outputs": [],
   "source": [
    "from sklearn.preprocessing import StandardScaler"
   ]
  },
  {
   "cell_type": "code",
   "execution_count": 82,
   "id": "378bdce8",
   "metadata": {},
   "outputs": [
    {
     "data": {
      "text/html": [
       "<div>\n",
       "<style scoped>\n",
       "    .dataframe tbody tr th:only-of-type {\n",
       "        vertical-align: middle;\n",
       "    }\n",
       "\n",
       "    .dataframe tbody tr th {\n",
       "        vertical-align: top;\n",
       "    }\n",
       "\n",
       "    .dataframe thead th {\n",
       "        text-align: right;\n",
       "    }\n",
       "</style>\n",
       "<table border=\"1\" class=\"dataframe\">\n",
       "  <thead>\n",
       "    <tr style=\"text-align: right;\">\n",
       "      <th></th>\n",
       "      <th>age</th>\n",
       "      <th>sex</th>\n",
       "      <th>cp</th>\n",
       "      <th>trestbps</th>\n",
       "      <th>chol</th>\n",
       "      <th>fbs</th>\n",
       "      <th>restecg</th>\n",
       "      <th>thalach</th>\n",
       "      <th>exang</th>\n",
       "      <th>oldpeak</th>\n",
       "      <th>slope</th>\n",
       "      <th>ca</th>\n",
       "      <th>thal</th>\n",
       "    </tr>\n",
       "  </thead>\n",
       "  <tbody>\n",
       "    <tr>\n",
       "      <th>0</th>\n",
       "      <td>1.221455</td>\n",
       "      <td>0.670151</td>\n",
       "      <td>-1.010468</td>\n",
       "      <td>0.330580</td>\n",
       "      <td>0.279411</td>\n",
       "      <td>-0.404304</td>\n",
       "      <td>-1.046975</td>\n",
       "      <td>-0.999784</td>\n",
       "      <td>-0.722504</td>\n",
       "      <td>1.346564</td>\n",
       "      <td>-0.738802</td>\n",
       "      <td>1.039969</td>\n",
       "      <td>1.197795</td>\n",
       "    </tr>\n",
       "    <tr>\n",
       "      <th>1</th>\n",
       "      <td>-1.637509</td>\n",
       "      <td>-1.492202</td>\n",
       "      <td>1.075455</td>\n",
       "      <td>-2.618155</td>\n",
       "      <td>-0.942679</td>\n",
       "      <td>-0.404304</td>\n",
       "      <td>0.899645</td>\n",
       "      <td>1.475376</td>\n",
       "      <td>-0.722504</td>\n",
       "      <td>-1.153690</td>\n",
       "      <td>1.036430</td>\n",
       "      <td>-0.835365</td>\n",
       "      <td>-0.514306</td>\n",
       "    </tr>\n",
       "    <tr>\n",
       "      <th>2</th>\n",
       "      <td>0.604233</td>\n",
       "      <td>0.670151</td>\n",
       "      <td>-1.010468</td>\n",
       "      <td>-0.802956</td>\n",
       "      <td>-0.221174</td>\n",
       "      <td>2.473388</td>\n",
       "      <td>0.899645</td>\n",
       "      <td>0.420928</td>\n",
       "      <td>1.384075</td>\n",
       "      <td>0.740414</td>\n",
       "      <td>1.036430</td>\n",
       "      <td>1.282366</td>\n",
       "      <td>1.197795</td>\n",
       "    </tr>\n",
       "    <tr>\n",
       "      <th>3</th>\n",
       "      <td>1.221455</td>\n",
       "      <td>-1.492202</td>\n",
       "      <td>1.075455</td>\n",
       "      <td>1.625160</td>\n",
       "      <td>2.077658</td>\n",
       "      <td>-0.404304</td>\n",
       "      <td>-1.046975</td>\n",
       "      <td>-0.016505</td>\n",
       "      <td>-0.722504</td>\n",
       "      <td>0.252552</td>\n",
       "      <td>1.036430</td>\n",
       "      <td>-0.835365</td>\n",
       "      <td>-0.514306</td>\n",
       "    </tr>\n",
       "    <tr>\n",
       "      <th>4</th>\n",
       "      <td>-0.316064</td>\n",
       "      <td>0.670151</td>\n",
       "      <td>1.075455</td>\n",
       "      <td>2.158882</td>\n",
       "      <td>-0.942679</td>\n",
       "      <td>2.473388</td>\n",
       "      <td>0.899645</td>\n",
       "      <td>0.523565</td>\n",
       "      <td>-0.722504</td>\n",
       "      <td>-0.116797</td>\n",
       "      <td>1.036430</td>\n",
       "      <td>-0.835365</td>\n",
       "      <td>1.197795</td>\n",
       "    </tr>\n",
       "    <tr>\n",
       "      <th>...</th>\n",
       "      <td>...</td>\n",
       "      <td>...</td>\n",
       "      <td>...</td>\n",
       "      <td>...</td>\n",
       "      <td>...</td>\n",
       "      <td>...</td>\n",
       "      <td>...</td>\n",
       "      <td>...</td>\n",
       "      <td>...</td>\n",
       "      <td>...</td>\n",
       "      <td>...</td>\n",
       "      <td>...</td>\n",
       "      <td>...</td>\n",
       "    </tr>\n",
       "    <tr>\n",
       "      <th>237</th>\n",
       "      <td>0.018492</td>\n",
       "      <td>-1.492202</td>\n",
       "      <td>0.464226</td>\n",
       "      <td>0.155131</td>\n",
       "      <td>1.809253</td>\n",
       "      <td>-0.404304</td>\n",
       "      <td>0.899645</td>\n",
       "      <td>0.734738</td>\n",
       "      <td>-0.722504</td>\n",
       "      <td>0.603282</td>\n",
       "      <td>1.036430</td>\n",
       "      <td>-0.835365</td>\n",
       "      <td>-0.514306</td>\n",
       "    </tr>\n",
       "    <tr>\n",
       "      <th>238</th>\n",
       "      <td>1.348371</td>\n",
       "      <td>-1.492202</td>\n",
       "      <td>-1.010468</td>\n",
       "      <td>2.408318</td>\n",
       "      <td>-0.264993</td>\n",
       "      <td>2.473388</td>\n",
       "      <td>0.899645</td>\n",
       "      <td>0.681208</td>\n",
       "      <td>1.384075</td>\n",
       "      <td>0.443112</td>\n",
       "      <td>-0.738802</td>\n",
       "      <td>1.282366</td>\n",
       "      <td>1.197795</td>\n",
       "    </tr>\n",
       "    <tr>\n",
       "      <th>239</th>\n",
       "      <td>-1.542696</td>\n",
       "      <td>0.670151</td>\n",
       "      <td>1.437578</td>\n",
       "      <td>0.612459</td>\n",
       "      <td>-0.942679</td>\n",
       "      <td>-0.404304</td>\n",
       "      <td>0.899645</td>\n",
       "      <td>1.415447</td>\n",
       "      <td>1.384075</td>\n",
       "      <td>0.740414</td>\n",
       "      <td>1.036430</td>\n",
       "      <td>-0.835365</td>\n",
       "      <td>1.197795</td>\n",
       "    </tr>\n",
       "    <tr>\n",
       "      <th>240</th>\n",
       "      <td>0.725285</td>\n",
       "      <td>0.670151</td>\n",
       "      <td>-1.010468</td>\n",
       "      <td>0.501241</td>\n",
       "      <td>-1.831564</td>\n",
       "      <td>-0.404304</td>\n",
       "      <td>-1.046975</td>\n",
       "      <td>-1.071028</td>\n",
       "      <td>1.384075</td>\n",
       "      <td>1.550906</td>\n",
       "      <td>-0.738802</td>\n",
       "      <td>1.039969</td>\n",
       "      <td>-0.514306</td>\n",
       "    </tr>\n",
       "    <tr>\n",
       "      <th>241</th>\n",
       "      <td>-0.743731</td>\n",
       "      <td>0.670151</td>\n",
       "      <td>1.075455</td>\n",
       "      <td>-0.337932</td>\n",
       "      <td>0.299327</td>\n",
       "      <td>2.473388</td>\n",
       "      <td>0.899645</td>\n",
       "      <td>1.238622</td>\n",
       "      <td>-0.722504</td>\n",
       "      <td>-1.153690</td>\n",
       "      <td>1.036430</td>\n",
       "      <td>1.282366</td>\n",
       "      <td>-0.514306</td>\n",
       "    </tr>\n",
       "  </tbody>\n",
       "</table>\n",
       "<p>242 rows × 13 columns</p>\n",
       "</div>"
      ],
      "text/plain": [
       "          age       sex        cp  trestbps      chol       fbs   restecg  \\\n",
       "0    1.221455  0.670151 -1.010468  0.330580  0.279411 -0.404304 -1.046975   \n",
       "1   -1.637509 -1.492202  1.075455 -2.618155 -0.942679 -0.404304  0.899645   \n",
       "2    0.604233  0.670151 -1.010468 -0.802956 -0.221174  2.473388  0.899645   \n",
       "3    1.221455 -1.492202  1.075455  1.625160  2.077658 -0.404304 -1.046975   \n",
       "4   -0.316064  0.670151  1.075455  2.158882 -0.942679  2.473388  0.899645   \n",
       "..        ...       ...       ...       ...       ...       ...       ...   \n",
       "237  0.018492 -1.492202  0.464226  0.155131  1.809253 -0.404304  0.899645   \n",
       "238  1.348371 -1.492202 -1.010468  2.408318 -0.264993  2.473388  0.899645   \n",
       "239 -1.542696  0.670151  1.437578  0.612459 -0.942679 -0.404304  0.899645   \n",
       "240  0.725285  0.670151 -1.010468  0.501241 -1.831564 -0.404304 -1.046975   \n",
       "241 -0.743731  0.670151  1.075455 -0.337932  0.299327  2.473388  0.899645   \n",
       "\n",
       "      thalach     exang   oldpeak     slope        ca      thal  \n",
       "0   -0.999784 -0.722504  1.346564 -0.738802  1.039969  1.197795  \n",
       "1    1.475376 -0.722504 -1.153690  1.036430 -0.835365 -0.514306  \n",
       "2    0.420928  1.384075  0.740414  1.036430  1.282366  1.197795  \n",
       "3   -0.016505 -0.722504  0.252552  1.036430 -0.835365 -0.514306  \n",
       "4    0.523565 -0.722504 -0.116797  1.036430 -0.835365  1.197795  \n",
       "..        ...       ...       ...       ...       ...       ...  \n",
       "237  0.734738 -0.722504  0.603282  1.036430 -0.835365 -0.514306  \n",
       "238  0.681208  1.384075  0.443112 -0.738802  1.282366  1.197795  \n",
       "239  1.415447  1.384075  0.740414  1.036430 -0.835365  1.197795  \n",
       "240 -1.071028  1.384075  1.550906 -0.738802  1.039969 -0.514306  \n",
       "241  1.238622 -0.722504 -1.153690  1.036430  1.282366 -0.514306  \n",
       "\n",
       "[242 rows x 13 columns]"
      ]
     },
     "execution_count": 82,
     "metadata": {},
     "output_type": "execute_result"
    }
   ],
   "source": [
    "scaler = StandardScaler()\n",
    "scaled_data = scaler.fit_transform(x_train)\n",
    "x_train = pd.DataFrame(scaled_data,columns=x_train.columns)\n",
    "x_train"
   ]
  },
  {
   "cell_type": "code",
   "execution_count": 83,
   "id": "cc4f73c0",
   "metadata": {},
   "outputs": [
    {
     "data": {
      "text/plain": [
       "<Axes: ylabel='count'>"
      ]
     },
     "execution_count": 83,
     "metadata": {},
     "output_type": "execute_result"
    },
    {
     "data": {
      "image/png": "[encoded data removed]",
      "text/plain": [
       "<Figure size 640x480 with 1 Axes>"
      ]
     },
     "metadata": {},
     "output_type": "display_data"
    }
   ],
   "source": [
    "sns.countplot(x_train)"
   ]
  },
  {
   "cell_type": "code",
   "execution_count": 85,
   "id": "a36e8533",
   "metadata": {},
   "outputs": [
    {
     "data": {
      "text/html": [
       "<div>\n",
       "<style scoped>\n",
       "    .dataframe tbody tr th:only-of-type {\n",
       "        vertical-align: middle;\n",
       "    }\n",
       "\n",
       "    .dataframe tbody tr th {\n",
       "        vertical-align: top;\n",
       "    }\n",
       "\n",
       "    .dataframe thead th {\n",
       "        text-align: right;\n",
       "    }\n",
       "</style>\n",
       "<table border=\"1\" class=\"dataframe\">\n",
       "  <thead>\n",
       "    <tr style=\"text-align: right;\">\n",
       "      <th></th>\n",
       "      <th>age</th>\n",
       "      <th>sex</th>\n",
       "      <th>cp</th>\n",
       "      <th>trestbps</th>\n",
       "      <th>chol</th>\n",
       "      <th>fbs</th>\n",
       "      <th>restecg</th>\n",
       "      <th>thalach</th>\n",
       "      <th>exang</th>\n",
       "      <th>oldpeak</th>\n",
       "      <th>slope</th>\n",
       "      <th>ca</th>\n",
       "      <th>thal</th>\n",
       "    </tr>\n",
       "  </thead>\n",
       "  <tbody>\n",
       "    <tr>\n",
       "      <th>0</th>\n",
       "      <td>-0.287358</td>\n",
       "      <td>0.724569</td>\n",
       "      <td>0.254338</td>\n",
       "      <td>-0.801265</td>\n",
       "      <td>1.244510</td>\n",
       "      <td>-0.469042</td>\n",
       "      <td>1.055535</td>\n",
       "      <td>0.850697</td>\n",
       "      <td>-0.596285</td>\n",
       "      <td>-0.848620</td>\n",
       "      <td>0.988657</td>\n",
       "      <td>-0.900131</td>\n",
       "      <td>-0.800977</td>\n",
       "    </tr>\n",
       "    <tr>\n",
       "      <th>1</th>\n",
       "      <td>0.240610</td>\n",
       "      <td>0.724569</td>\n",
       "      <td>0.971193</td>\n",
       "      <td>0.925971</td>\n",
       "      <td>-3.429730</td>\n",
       "      <td>2.132007</td>\n",
       "      <td>1.055535</td>\n",
       "      <td>0.905391</td>\n",
       "      <td>-0.596285</td>\n",
       "      <td>-0.848620</td>\n",
       "      <td>0.988657</td>\n",
       "      <td>0.797572</td>\n",
       "      <td>1.048928</td>\n",
       "    </tr>\n",
       "    <tr>\n",
       "      <th>2</th>\n",
       "      <td>-0.887328</td>\n",
       "      <td>0.724569</td>\n",
       "      <td>-1.065357</td>\n",
       "      <td>0.476458</td>\n",
       "      <td>1.060987</td>\n",
       "      <td>-0.469042</td>\n",
       "      <td>1.055535</td>\n",
       "      <td>-1.417203</td>\n",
       "      <td>1.677051</td>\n",
       "      <td>0.850462</td>\n",
       "      <td>-0.871091</td>\n",
       "      <td>1.344901</td>\n",
       "      <td>1.048928</td>\n",
       "    </tr>\n",
       "    <tr>\n",
       "      <th>3</th>\n",
       "      <td>-0.079152</td>\n",
       "      <td>-1.380131</td>\n",
       "      <td>0.971193</td>\n",
       "      <td>1.290732</td>\n",
       "      <td>-0.926214</td>\n",
       "      <td>-0.469042</td>\n",
       "      <td>1.055535</td>\n",
       "      <td>0.377929</td>\n",
       "      <td>-0.596285</td>\n",
       "      <td>-1.279870</td>\n",
       "      <td>0.988657</td>\n",
       "      <td>0.797572</td>\n",
       "      <td>-0.800977</td>\n",
       "    </tr>\n",
       "    <tr>\n",
       "      <th>4</th>\n",
       "      <td>-1.078835</td>\n",
       "      <td>0.724569</td>\n",
       "      <td>0.971193</td>\n",
       "      <td>0.476458</td>\n",
       "      <td>-0.178309</td>\n",
       "      <td>-0.469042</td>\n",
       "      <td>-0.917369</td>\n",
       "      <td>1.300514</td>\n",
       "      <td>-0.596285</td>\n",
       "      <td>-1.279870</td>\n",
       "      <td>0.988657</td>\n",
       "      <td>-0.900131</td>\n",
       "      <td>-0.800977</td>\n",
       "    </tr>\n",
       "    <tr>\n",
       "      <th>...</th>\n",
       "      <td>...</td>\n",
       "      <td>...</td>\n",
       "      <td>...</td>\n",
       "      <td>...</td>\n",
       "      <td>...</td>\n",
       "      <td>...</td>\n",
       "      <td>...</td>\n",
       "      <td>...</td>\n",
       "      <td>...</td>\n",
       "      <td>...</td>\n",
       "      <td>...</td>\n",
       "      <td>...</td>\n",
       "      <td>...</td>\n",
       "    </tr>\n",
       "    <tr>\n",
       "      <th>56</th>\n",
       "      <td>1.251536</td>\n",
       "      <td>0.724569</td>\n",
       "      <td>-1.065357</td>\n",
       "      <td>-0.801265</td>\n",
       "      <td>0.936948</td>\n",
       "      <td>-0.469042</td>\n",
       "      <td>-0.917369</td>\n",
       "      <td>-0.198818</td>\n",
       "      <td>-0.596285</td>\n",
       "      <td>-0.503515</td>\n",
       "      <td>-0.871091</td>\n",
       "      <td>-0.900131</td>\n",
       "      <td>-0.800977</td>\n",
       "    </tr>\n",
       "    <tr>\n",
       "      <th>57</th>\n",
       "      <td>-1.884858</td>\n",
       "      <td>-1.380131</td>\n",
       "      <td>-1.065357</td>\n",
       "      <td>0.374106</td>\n",
       "      <td>-1.395927</td>\n",
       "      <td>-0.469042</td>\n",
       "      <td>1.055535</td>\n",
       "      <td>1.417378</td>\n",
       "      <td>-0.596285</td>\n",
       "      <td>0.575282</td>\n",
       "      <td>0.988657</td>\n",
       "      <td>-0.900131</td>\n",
       "      <td>-0.800977</td>\n",
       "    </tr>\n",
       "    <tr>\n",
       "      <th>58</th>\n",
       "      <td>0.349150</td>\n",
       "      <td>0.724569</td>\n",
       "      <td>-1.065357</td>\n",
       "      <td>-0.421198</td>\n",
       "      <td>0.908698</td>\n",
       "      <td>-0.469042</td>\n",
       "      <td>-0.917369</td>\n",
       "      <td>0.796439</td>\n",
       "      <td>-0.596285</td>\n",
       "      <td>-1.279870</td>\n",
       "      <td>0.988657</td>\n",
       "      <td>1.344901</td>\n",
       "      <td>1.048928</td>\n",
       "    </tr>\n",
       "    <tr>\n",
       "      <th>59</th>\n",
       "      <td>-1.265954</td>\n",
       "      <td>0.724569</td>\n",
       "      <td>1.456629</td>\n",
       "      <td>0.843606</td>\n",
       "      <td>-0.004678</td>\n",
       "      <td>-0.469042</td>\n",
       "      <td>-0.917369</td>\n",
       "      <td>1.185421</td>\n",
       "      <td>-0.596285</td>\n",
       "      <td>0.023155</td>\n",
       "      <td>0.988657</td>\n",
       "      <td>1.344901</td>\n",
       "      <td>-0.800977</td>\n",
       "    </tr>\n",
       "    <tr>\n",
       "      <th>60</th>\n",
       "      <td>-0.079152</td>\n",
       "      <td>0.724569</td>\n",
       "      <td>-1.065357</td>\n",
       "      <td>-1.730093</td>\n",
       "      <td>-0.805804</td>\n",
       "      <td>-0.469042</td>\n",
       "      <td>-0.917369</td>\n",
       "      <td>-1.789006</td>\n",
       "      <td>1.677051</td>\n",
       "      <td>-1.279870</td>\n",
       "      <td>-0.871091</td>\n",
       "      <td>0.797572</td>\n",
       "      <td>-0.800977</td>\n",
       "    </tr>\n",
       "  </tbody>\n",
       "</table>\n",
       "<p>61 rows × 13 columns</p>\n",
       "</div>"
      ],
      "text/plain": [
       "         age       sex        cp  trestbps      chol       fbs   restecg  \\\n",
       "0  -0.287358  0.724569  0.254338 -0.801265  1.244510 -0.469042  1.055535   \n",
       "1   0.240610  0.724569  0.971193  0.925971 -3.429730  2.132007  1.055535   \n",
       "2  -0.887328  0.724569 -1.065357  0.476458  1.060987 -0.469042  1.055535   \n",
       "3  -0.079152 -1.380131  0.971193  1.290732 -0.926214 -0.469042  1.055535   \n",
       "4  -1.078835  0.724569  0.971193  0.476458 -0.178309 -0.469042 -0.917369   \n",
       "..       ...       ...       ...       ...       ...       ...       ...   \n",
       "56  1.251536  0.724569 -1.065357 -0.801265  0.936948 -0.469042 -0.917369   \n",
       "57 -1.884858 -1.380131 -1.065357  0.374106 -1.395927 -0.469042  1.055535   \n",
       "58  0.349150  0.724569 -1.065357 -0.421198  0.908698 -0.469042 -0.917369   \n",
       "59 -1.265954  0.724569  1.456629  0.843606 -0.004678 -0.469042 -0.917369   \n",
       "60 -0.079152  0.724569 -1.065357 -1.730093 -0.805804 -0.469042 -0.917369   \n",
       "\n",
       "     thalach     exang   oldpeak     slope        ca      thal  \n",
       "0   0.850697 -0.596285 -0.848620  0.988657 -0.900131 -0.800977  \n",
       "1   0.905391 -0.596285 -0.848620  0.988657  0.797572  1.048928  \n",
       "2  -1.417203  1.677051  0.850462 -0.871091  1.344901  1.048928  \n",
       "3   0.377929 -0.596285 -1.279870  0.988657  0.797572 -0.800977  \n",
       "4   1.300514 -0.596285 -1.279870  0.988657 -0.900131 -0.800977  \n",
       "..       ...       ...       ...       ...       ...       ...  \n",
       "56 -0.198818 -0.596285 -0.503515 -0.871091 -0.900131 -0.800977  \n",
       "57  1.417378 -0.596285  0.575282  0.988657 -0.900131 -0.800977  \n",
       "58  0.796439 -0.596285 -1.279870  0.988657  1.344901  1.048928  \n",
       "59  1.185421 -0.596285  0.023155  0.988657  1.344901 -0.800977  \n",
       "60 -1.789006  1.677051 -1.279870 -0.871091  0.797572 -0.800977  \n",
       "\n",
       "[61 rows x 13 columns]"
      ]
     },
     "execution_count": 85,
     "metadata": {},
     "output_type": "execute_result"
    }
   ],
   "source": [
    "scaler = StandardScaler()\n",
    "scaled_data = scalar.fit_transform(x_test)\n",
    "x_test = pd.DataFrame(scaled_data,columns = x_test.columns)\n",
    "x_test"
   ]
  },
  {
   "cell_type": "code",
   "execution_count": 86,
   "id": "a032ff6b",
   "metadata": {},
   "outputs": [
    {
     "data": {
      "text/plain": [
       "<Axes: ylabel='count'>"
      ]
     },
     "execution_count": 86,
     "metadata": {},
     "output_type": "execute_result"
    },
    {
     "data": {
      "image/png": "[encoded data removed]",
      "text/plain": [
       "<Figure size 640x480 with 1 Axes>"
      ]
     },
     "metadata": {},
     "output_type": "display_data"
    }
   ],
   "source": [
    "sns.countplot(x_test)"
   ]
  },
  {
   "cell_type": "markdown",
   "id": "a6c23076",
   "metadata": {},
   "source": [
    "#### 6.Feature_Selection"
   ]
  },
  {
   "cell_type": "markdown",
   "id": "4de56231",
   "metadata": {},
   "source": [
    "#### 6.1.Correlation"
   ]
  },
  {
   "cell_type": "code",
   "execution_count": 87,
   "id": "807bbc3d",
   "metadata": {},
   "outputs": [
    {
     "data": {
      "text/plain": [
       "<Axes: >"
      ]
     },
     "execution_count": 87,
     "metadata": {},
     "output_type": "execute_result"
    },
    {
     "data": {
      "image/png": "[encoded data removed]",
      "text/plain": [
       "<Figure size 2000x400 with 2 Axes>"
      ]
     },
     "metadata": {},
     "output_type": "display_data"
    }
   ],
   "source": [
    "plt.figure(figsize=(20,4))\n",
    "sns.heatmap(x_train.corr().tail(1),annot=True)"
   ]
  },
  {
   "cell_type": "code",
   "execution_count": 88,
   "id": "b4647fbe",
   "metadata": {},
   "outputs": [
    {
     "data": {
      "text/plain": [
       "<Axes: >"
      ]
     },
     "execution_count": 88,
     "metadata": {},
     "output_type": "execute_result"
    },
    {
     "data": {
      "image/png": "[encoded data removed]",
      "text/plain": [
       "<Figure size 2000x400 with 2 Axes>"
      ]
     },
     "metadata": {},
     "output_type": "display_data"
    }
   ],
   "source": [
    "plt.figure(figsize=(20,4))\n",
    "sns.heatmap(x_test.corr().tail(1),annot=True)"
   ]
  },
  {
   "cell_type": "markdown",
   "id": "64c1d67c",
   "metadata": {},
   "source": [
    "#### 6.2.Fisher_Score"
   ]
  },
  {
   "cell_type": "code",
   "execution_count": 91,
   "id": "c4a455d9",
   "metadata": {},
   "outputs": [],
   "source": [
    "from skfeature.function.similarity_based import fisher_score"
   ]
  },
  {
   "cell_type": "code",
   "execution_count": 96,
   "id": "26170754",
   "metadata": {},
   "outputs": [
    {
     "data": {
      "text/plain": [
       "array([ 1, 10,  5,  3,  4,  0,  2, 11, 12,  6,  9,  8,  7])"
      ]
     },
     "execution_count": 96,
     "metadata": {},
     "output_type": "execute_result"
    }
   ],
   "source": [
    "rank_train = fisher_score.fisher_score(x_train.to_numpy(),y_train.to_numpy(),mode = \"rank\")\n",
    "rank_train"
   ]
  },
  {
   "cell_type": "code",
   "execution_count": 97,
   "id": "7080e2d8",
   "metadata": {},
   "outputs": [
    {
     "data": {
      "text/plain": [
       "<Axes: >"
      ]
     },
     "execution_count": 97,
     "metadata": {},
     "output_type": "execute_result"
    },
    {
     "data": {
      "image/png": "[encoded data removed]",
      "text/plain": [
       "<Figure size 640x480 with 1 Axes>"
      ]
     },
     "metadata": {},
     "output_type": "display_data"
    }
   ],
   "source": [
    "s_train = pd.Series(rank_train,index = x_train.columns)\n",
    "s_train.sort_values().plot(kind = \"barh\")"
   ]
  },
  {
   "cell_type": "code",
   "execution_count": 98,
   "id": "4112095e",
   "metadata": {},
   "outputs": [
    {
     "data": {
      "text/plain": [
       "array([ 4, 10,  2,  0,  3,  1,  5, 11,  8,  6,  7,  9, 12])"
      ]
     },
     "execution_count": 98,
     "metadata": {},
     "output_type": "execute_result"
    }
   ],
   "source": [
    "rank_test = fisher_score.fisher_score(x_test.to_numpy(),y_test.to_numpy(),mode=\"rank\")\n",
    "rank_test"
   ]
  },
  {
   "cell_type": "code",
   "execution_count": 99,
   "id": "f34eb8c5",
   "metadata": {},
   "outputs": [
    {
     "data": {
      "text/plain": [
       "<Axes: >"
      ]
     },
     "execution_count": 99,
     "metadata": {},
     "output_type": "execute_result"
    },
    {
     "data": {
      "image/png": "[encoded data removed]",
      "text/plain": [
       "<Figure size 640x480 with 1 Axes>"
      ]
     },
     "metadata": {},
     "output_type": "display_data"
    }
   ],
   "source": [
    "s_test = pd.Series(rank_test,index = x_test.columns)\n",
    "s_test.sort_values().plot(kind = \"barh\")"
   ]
  },
  {
   "cell_type": "markdown",
   "id": "dafffff1",
   "metadata": {},
   "source": [
    "#### 6.3.Variancethreshold"
   ]
  },
  {
   "cell_type": "code",
   "execution_count": 100,
   "id": "9d769c14",
   "metadata": {},
   "outputs": [],
   "source": [
    "from sklearn.feature_selection import VarianceThreshold"
   ]
  },
  {
   "cell_type": "code",
   "execution_count": 101,
   "id": "9ecb0291",
   "metadata": {},
   "outputs": [
    {
     "data": {
      "text/plain": [
       "array([ True,  True,  True,  True,  True,  True,  True,  True,  True,\n",
       "        True,  True,  True,  True])"
      ]
     },
     "execution_count": 101,
     "metadata": {},
     "output_type": "execute_result"
    }
   ],
   "source": [
    "var_th = VarianceThreshold()\n",
    "var_th.fit_transform(x_train)\n",
    "var_th.get_support()"
   ]
  },
  {
   "cell_type": "code",
   "execution_count": 102,
   "id": "96b69e12",
   "metadata": {},
   "outputs": [
    {
     "data": {
      "text/plain": [
       "array([ True,  True,  True,  True,  True,  True,  True,  True,  True,\n",
       "        True,  True,  True,  True])"
      ]
     },
     "execution_count": 102,
     "metadata": {},
     "output_type": "execute_result"
    }
   ],
   "source": [
    "var_th = VarianceThreshold()\n",
    "var_th.fit_transform(x_test)\n",
    "var_th.get_support()"
   ]
  },
  {
   "cell_type": "markdown",
   "id": "1903992e",
   "metadata": {},
   "source": [
    "#### 6.4.VIF"
   ]
  },
  {
   "cell_type": "code",
   "execution_count": 103,
   "id": "7644c1d0",
   "metadata": {},
   "outputs": [],
   "source": [
    "from statsmodels.stats.outliers_influence import variance_inflation_factor"
   ]
  },
  {
   "cell_type": "code",
   "execution_count": 104,
   "id": "e7951487",
   "metadata": {},
   "outputs": [
    {
     "data": {
      "text/plain": [
       "<Axes: >"
      ]
     },
     "execution_count": 104,
     "metadata": {},
     "output_type": "execute_result"
    },
    {
     "data": {
      "image/png": "[encoded data removed]",
      "text/plain": [
       "<Figure size 640x480 with 1 Axes>"
      ]
     },
     "metadata": {},
     "output_type": "display_data"
    }
   ],
   "source": [
    "vif_list = [variance_inflation_factor(x_train.values,i)for i in range(x_train.shape[1])]\n",
    "vif_list\n",
    "s1_x_train = pd.Series(vif_list,index = x_train.columns)\n",
    "s1_x_train.sort_values().plot(kind = \"barh\")"
   ]
  },
  {
   "cell_type": "code",
   "execution_count": 105,
   "id": "b920f0a8",
   "metadata": {},
   "outputs": [
    {
     "data": {
      "text/plain": [
       "<Axes: >"
      ]
     },
     "execution_count": 105,
     "metadata": {},
     "output_type": "execute_result"
    },
    {
     "data": {
      "image/png": "[encoded data removed]",
      "text/plain": [
       "<Figure size 640x480 with 1 Axes>"
      ]
     },
     "metadata": {},
     "output_type": "display_data"
    }
   ],
   "source": [
    "vif_list = [variance_inflation_factor(x_test.values,i)for i in range(x_test.shape[1])]\n",
    "vif_list\n",
    "s1_x_test = pd.Series(vif_list,index = x_test.columns)\n",
    "s1_x_test.sort_values().plot(kind = \"barh\")"
   ]
  },
  {
   "cell_type": "markdown",
   "id": "8349c54f",
   "metadata": {},
   "source": [
    "#### 7.Model_Training"
   ]
  },
  {
   "cell_type": "markdown",
   "id": "8ee0c4bc",
   "metadata": {},
   "source": [
    "#### 7.1.Logistic_Classification"
   ]
  },
  {
   "cell_type": "code",
   "execution_count": 106,
   "id": "976deae7",
   "metadata": {},
   "outputs": [],
   "source": [
    "from sklearn.linear_model import LogisticRegression\n",
    "from sklearn.metrics import accuracy_score,classification_report,confusion_matrix"
   ]
  },
  {
   "cell_type": "code",
   "execution_count": 110,
   "id": "36db4783",
   "metadata": {},
   "outputs": [
    {
     "data": {
      "text/html": [
       "<style>#sk-container-id-3 {color: black;background-color: white;}#sk-container-id-3 pre{padding: 0;}#sk-container-id-3 div.sk-toggleable {background-color: white;}#sk-container-id-3 label.sk-toggleable__label {cursor: pointer;display: block;width: 100%;margin-bottom: 0;padding: 0.3em;box-sizing: border-box;text-align: center;}#sk-container-id-3 label.sk-toggleable__label-arrow:before {content: \"▸\";float: left;margin-right: 0.25em;color: #696969;}#sk-container-id-3 label.sk-toggleable__label-arrow:hover:before {color: black;}#sk-container-id-3 div.sk-estimator:hover label.sk-toggleable__label-arrow:before {color: black;}#sk-container-id-3 div.sk-toggleable__content {max-height: 0;max-width: 0;overflow: hidden;text-align: left;background-color: #f0f8ff;}#sk-container-id-3 div.sk-toggleable__content pre {margin: 0.2em;color: black;border-radius: 0.25em;background-color: #f0f8ff;}#sk-container-id-3 input.sk-toggleable__control:checked~div.sk-toggleable__content {max-height: 200px;max-width: 100%;overflow: auto;}#sk-container-id-3 input.sk-toggleable__control:checked~label.sk-toggleable__label-arrow:before {content: \"▾\";}#sk-container-id-3 div.sk-estimator input.sk-toggleable__control:checked~label.sk-toggleable__label {background-color: #d4ebff;}#sk-container-id-3 div.sk-label input.sk-toggleable__control:checked~label.sk-toggleable__label {background-color: #d4ebff;}#sk-container-id-3 input.sk-hidden--visually {border: 0;clip: rect(1px 1px 1px 1px);clip: rect(1px, 1px, 1px, 1px);height: 1px;margin: -1px;overflow: hidden;padding: 0;position: absolute;width: 1px;}#sk-container-id-3 div.sk-estimator {font-family: monospace;background-color: #f0f8ff;border: 1px dotted black;border-radius: 0.25em;box-sizing: border-box;margin-bottom: 0.5em;}#sk-container-id-3 div.sk-estimator:hover {background-color: #d4ebff;}#sk-container-id-3 div.sk-parallel-item::after {content: \"\";width: 100%;border-bottom: 1px solid gray;flex-grow: 1;}#sk-container-id-3 div.sk-label:hover label.sk-toggleable__label {background-color: #d4ebff;}#sk-container-id-3 div.sk-serial::before {content: \"\";position: absolute;border-left: 1px solid gray;box-sizing: border-box;top: 0;bottom: 0;left: 50%;z-index: 0;}#sk-container-id-3 div.sk-serial {display: flex;flex-direction: column;align-items: center;background-color: white;padding-right: 0.2em;padding-left: 0.2em;position: relative;}#sk-container-id-3 div.sk-item {position: relative;z-index: 1;}#sk-container-id-3 div.sk-parallel {display: flex;align-items: stretch;justify-content: center;background-color: white;position: relative;}#sk-container-id-3 div.sk-item::before, #sk-container-id-3 div.sk-parallel-item::before {content: \"\";position: absolute;border-left: 1px solid gray;box-sizing: border-box;top: 0;bottom: 0;left: 50%;z-index: -1;}#sk-container-id-3 div.sk-parallel-item {display: flex;flex-direction: column;z-index: 1;position: relative;background-color: white;}#sk-container-id-3 div.sk-parallel-item:first-child::after {align-self: flex-end;width: 50%;}#sk-container-id-3 div.sk-parallel-item:last-child::after {align-self: flex-start;width: 50%;}#sk-container-id-3 div.sk-parallel-item:only-child::after {width: 0;}#sk-container-id-3 div.sk-dashed-wrapped {border: 1px dashed gray;margin: 0 0.4em 0.5em 0.4em;box-sizing: border-box;padding-bottom: 0.4em;background-color: white;}#sk-container-id-3 div.sk-label label {font-family: monospace;font-weight: bold;display: inline-block;line-height: 1.2em;}#sk-container-id-3 div.sk-label-container {text-align: center;}#sk-container-id-3 div.sk-container {/* jupyter's `normalize.less` sets `[hidden] { display: none; }` but bootstrap.min.css set `[hidden] { display: none !important; }` so we also need the `!important` here to be able to override the default hidden behavior on the sphinx rendered scikit-learn.org. See: https://github.com/scikit-learn/scikit-learn/issues/21755 */display: inline-block !important;position: relative;}#sk-container-id-3 div.sk-text-repr-fallback {display: none;}</style><div id=\"sk-container-id-3\" class=\"sk-top-container\"><div class=\"sk-text-repr-fallback\"><pre>LogisticRegression()</pre><b>In a Jupyter environment, please rerun this cell to show the HTML representation or trust the notebook. <br />On GitHub, the HTML representation is unable to render, please try loading this page with nbviewer.org.</b></div><div class=\"sk-container\" hidden><div class=\"sk-item\"><div class=\"sk-estimator sk-toggleable\"><input class=\"sk-toggleable__control sk-hidden--visually\" id=\"sk-estimator-id-3\" type=\"checkbox\" checked><label for=\"sk-estimator-id-3\" class=\"sk-toggleable__label sk-toggleable__label-arrow\">LogisticRegression</label><div class=\"sk-toggleable__content\"><pre>LogisticRegression()</pre></div></div></div></div></div>"
      ],
      "text/plain": [
       "LogisticRegression()"
      ]
     },
     "execution_count": 110,
     "metadata": {},
     "output_type": "execute_result"
    }
   ],
   "source": [
    "log_clf = LogisticRegression()\n",
    "log_clf.fit(x_train,y_train)"
   ]
  },
  {
   "cell_type": "code",
   "execution_count": 111,
   "id": "75e22db5",
   "metadata": {},
   "outputs": [
    {
     "data": {
      "text/plain": [
       "0.8801652892561983"
      ]
     },
     "execution_count": 111,
     "metadata": {},
     "output_type": "execute_result"
    }
   ],
   "source": [
    "log_clf.score(x_train,y_train)"
   ]
  },
  {
   "cell_type": "code",
   "execution_count": 112,
   "id": "91948eab",
   "metadata": {},
   "outputs": [
    {
     "data": {
      "text/plain": [
       "0.8524590163934426"
      ]
     },
     "execution_count": 112,
     "metadata": {},
     "output_type": "execute_result"
    }
   ],
   "source": [
    "log_clf.score(x_test,y_test)"
   ]
  },
  {
   "cell_type": "markdown",
   "id": "8577adf1",
   "metadata": {},
   "source": [
    "#### 7.2.KNN"
   ]
  },
  {
   "cell_type": "code",
   "execution_count": 113,
   "id": "5a6d680e",
   "metadata": {},
   "outputs": [],
   "source": [
    "from sklearn.neighbors import KNeighborsClassifier"
   ]
  },
  {
   "cell_type": "code",
   "execution_count": 119,
   "id": "9c7909fb",
   "metadata": {},
   "outputs": [
    {
     "data": {
      "text/html": [
       "<style>#sk-container-id-6 {color: black;background-color: white;}#sk-container-id-6 pre{padding: 0;}#sk-container-id-6 div.sk-toggleable {background-color: white;}#sk-container-id-6 label.sk-toggleable__label {cursor: pointer;display: block;width: 100%;margin-bottom: 0;padding: 0.3em;box-sizing: border-box;text-align: center;}#sk-container-id-6 label.sk-toggleable__label-arrow:before {content: \"▸\";float: left;margin-right: 0.25em;color: #696969;}#sk-container-id-6 label.sk-toggleable__label-arrow:hover:before {color: black;}#sk-container-id-6 div.sk-estimator:hover label.sk-toggleable__label-arrow:before {color: black;}#sk-container-id-6 div.sk-toggleable__content {max-height: 0;max-width: 0;overflow: hidden;text-align: left;background-color: #f0f8ff;}#sk-container-id-6 div.sk-toggleable__content pre {margin: 0.2em;color: black;border-radius: 0.25em;background-color: #f0f8ff;}#sk-container-id-6 input.sk-toggleable__control:checked~div.sk-toggleable__content {max-height: 200px;max-width: 100%;overflow: auto;}#sk-container-id-6 input.sk-toggleable__control:checked~label.sk-toggleable__label-arrow:before {content: \"▾\";}#sk-container-id-6 div.sk-estimator input.sk-toggleable__control:checked~label.sk-toggleable__label {background-color: #d4ebff;}#sk-container-id-6 div.sk-label input.sk-toggleable__control:checked~label.sk-toggleable__label {background-color: #d4ebff;}#sk-container-id-6 input.sk-hidden--visually {border: 0;clip: rect(1px 1px 1px 1px);clip: rect(1px, 1px, 1px, 1px);height: 1px;margin: -1px;overflow: hidden;padding: 0;position: absolute;width: 1px;}#sk-container-id-6 div.sk-estimator {font-family: monospace;background-color: #f0f8ff;border: 1px dotted black;border-radius: 0.25em;box-sizing: border-box;margin-bottom: 0.5em;}#sk-container-id-6 div.sk-estimator:hover {background-color: #d4ebff;}#sk-container-id-6 div.sk-parallel-item::after {content: \"\";width: 100%;border-bottom: 1px solid gray;flex-grow: 1;}#sk-container-id-6 div.sk-label:hover label.sk-toggleable__label {background-color: #d4ebff;}#sk-container-id-6 div.sk-serial::before {content: \"\";position: absolute;border-left: 1px solid gray;box-sizing: border-box;top: 0;bottom: 0;left: 50%;z-index: 0;}#sk-container-id-6 div.sk-serial {display: flex;flex-direction: column;align-items: center;background-color: white;padding-right: 0.2em;padding-left: 0.2em;position: relative;}#sk-container-id-6 div.sk-item {position: relative;z-index: 1;}#sk-container-id-6 div.sk-parallel {display: flex;align-items: stretch;justify-content: center;background-color: white;position: relative;}#sk-container-id-6 div.sk-item::before, #sk-container-id-6 div.sk-parallel-item::before {content: \"\";position: absolute;border-left: 1px solid gray;box-sizing: border-box;top: 0;bottom: 0;left: 50%;z-index: -1;}#sk-container-id-6 div.sk-parallel-item {display: flex;flex-direction: column;z-index: 1;position: relative;background-color: white;}#sk-container-id-6 div.sk-parallel-item:first-child::after {align-self: flex-end;width: 50%;}#sk-container-id-6 div.sk-parallel-item:last-child::after {align-self: flex-start;width: 50%;}#sk-container-id-6 div.sk-parallel-item:only-child::after {width: 0;}#sk-container-id-6 div.sk-dashed-wrapped {border: 1px dashed gray;margin: 0 0.4em 0.5em 0.4em;box-sizing: border-box;padding-bottom: 0.4em;background-color: white;}#sk-container-id-6 div.sk-label label {font-family: monospace;font-weight: bold;display: inline-block;line-height: 1.2em;}#sk-container-id-6 div.sk-label-container {text-align: center;}#sk-container-id-6 div.sk-container {/* jupyter's `normalize.less` sets `[hidden] { display: none; }` but bootstrap.min.css set `[hidden] { display: none !important; }` so we also need the `!important` here to be able to override the default hidden behavior on the sphinx rendered scikit-learn.org. See: https://github.com/scikit-learn/scikit-learn/issues/21755 */display: inline-block !important;position: relative;}#sk-container-id-6 div.sk-text-repr-fallback {display: none;}</style><div id=\"sk-container-id-6\" class=\"sk-top-container\"><div class=\"sk-text-repr-fallback\"><pre>KNeighborsClassifier()</pre><b>In a Jupyter environment, please rerun this cell to show the HTML representation or trust the notebook. <br />On GitHub, the HTML representation is unable to render, please try loading this page with nbviewer.org.</b></div><div class=\"sk-container\" hidden><div class=\"sk-item\"><div class=\"sk-estimator sk-toggleable\"><input class=\"sk-toggleable__control sk-hidden--visually\" id=\"sk-estimator-id-6\" type=\"checkbox\" checked><label for=\"sk-estimator-id-6\" class=\"sk-toggleable__label sk-toggleable__label-arrow\">KNeighborsClassifier</label><div class=\"sk-toggleable__content\"><pre>KNeighborsClassifier()</pre></div></div></div></div></div>"
      ],
      "text/plain": [
       "KNeighborsClassifier()"
      ]
     },
     "execution_count": 119,
     "metadata": {},
     "output_type": "execute_result"
    }
   ],
   "source": [
    "knn_clf = KNeighborsClassifier()\n",
    "knn_clf.fit(x_train,y_train)"
   ]
  },
  {
   "cell_type": "code",
   "execution_count": 120,
   "id": "ca91e434",
   "metadata": {},
   "outputs": [
    {
     "data": {
      "text/plain": [
       "0.8884297520661157"
      ]
     },
     "execution_count": 120,
     "metadata": {},
     "output_type": "execute_result"
    }
   ],
   "source": [
    "knn_clf.score(x_train,y_train)"
   ]
  },
  {
   "cell_type": "code",
   "execution_count": 121,
   "id": "efdaef03",
   "metadata": {},
   "outputs": [
    {
     "data": {
      "text/plain": [
       "0.8524590163934426"
      ]
     },
     "execution_count": 121,
     "metadata": {},
     "output_type": "execute_result"
    }
   ],
   "source": [
    "knn_clf.score(x_test,y_test)"
   ]
  },
  {
   "cell_type": "markdown",
   "id": "e820b4b7",
   "metadata": {},
   "source": [
    "#### 7.3.Decision_Tree"
   ]
  },
  {
   "cell_type": "code",
   "execution_count": 117,
   "id": "a3d50617",
   "metadata": {},
   "outputs": [],
   "source": [
    "from sklearn.tree import DecisionTreeClassifier"
   ]
  },
  {
   "cell_type": "code",
   "execution_count": 118,
   "id": "47de7a2a",
   "metadata": {},
   "outputs": [
    {
     "data": {
      "text/html": [
       "<style>#sk-container-id-5 {color: black;background-color: white;}#sk-container-id-5 pre{padding: 0;}#sk-container-id-5 div.sk-toggleable {background-color: white;}#sk-container-id-5 label.sk-toggleable__label {cursor: pointer;display: block;width: 100%;margin-bottom: 0;padding: 0.3em;box-sizing: border-box;text-align: center;}#sk-container-id-5 label.sk-toggleable__label-arrow:before {content: \"▸\";float: left;margin-right: 0.25em;color: #696969;}#sk-container-id-5 label.sk-toggleable__label-arrow:hover:before {color: black;}#sk-container-id-5 div.sk-estimator:hover label.sk-toggleable__label-arrow:before {color: black;}#sk-container-id-5 div.sk-toggleable__content {max-height: 0;max-width: 0;overflow: hidden;text-align: left;background-color: #f0f8ff;}#sk-container-id-5 div.sk-toggleable__content pre {margin: 0.2em;color: black;border-radius: 0.25em;background-color: #f0f8ff;}#sk-container-id-5 input.sk-toggleable__control:checked~div.sk-toggleable__content {max-height: 200px;max-width: 100%;overflow: auto;}#sk-container-id-5 input.sk-toggleable__control:checked~label.sk-toggleable__label-arrow:before {content: \"▾\";}#sk-container-id-5 div.sk-estimator input.sk-toggleable__control:checked~label.sk-toggleable__label {background-color: #d4ebff;}#sk-container-id-5 div.sk-label input.sk-toggleable__control:checked~label.sk-toggleable__label {background-color: #d4ebff;}#sk-container-id-5 input.sk-hidden--visually {border: 0;clip: rect(1px 1px 1px 1px);clip: rect(1px, 1px, 1px, 1px);height: 1px;margin: -1px;overflow: hidden;padding: 0;position: absolute;width: 1px;}#sk-container-id-5 div.sk-estimator {font-family: monospace;background-color: #f0f8ff;border: 1px dotted black;border-radius: 0.25em;box-sizing: border-box;margin-bottom: 0.5em;}#sk-container-id-5 div.sk-estimator:hover {background-color: #d4ebff;}#sk-container-id-5 div.sk-parallel-item::after {content: \"\";width: 100%;border-bottom: 1px solid gray;flex-grow: 1;}#sk-container-id-5 div.sk-label:hover label.sk-toggleable__label {background-color: #d4ebff;}#sk-container-id-5 div.sk-serial::before {content: \"\";position: absolute;border-left: 1px solid gray;box-sizing: border-box;top: 0;bottom: 0;left: 50%;z-index: 0;}#sk-container-id-5 div.sk-serial {display: flex;flex-direction: column;align-items: center;background-color: white;padding-right: 0.2em;padding-left: 0.2em;position: relative;}#sk-container-id-5 div.sk-item {position: relative;z-index: 1;}#sk-container-id-5 div.sk-parallel {display: flex;align-items: stretch;justify-content: center;background-color: white;position: relative;}#sk-container-id-5 div.sk-item::before, #sk-container-id-5 div.sk-parallel-item::before {content: \"\";position: absolute;border-left: 1px solid gray;box-sizing: border-box;top: 0;bottom: 0;left: 50%;z-index: -1;}#sk-container-id-5 div.sk-parallel-item {display: flex;flex-direction: column;z-index: 1;position: relative;background-color: white;}#sk-container-id-5 div.sk-parallel-item:first-child::after {align-self: flex-end;width: 50%;}#sk-container-id-5 div.sk-parallel-item:last-child::after {align-self: flex-start;width: 50%;}#sk-container-id-5 div.sk-parallel-item:only-child::after {width: 0;}#sk-container-id-5 div.sk-dashed-wrapped {border: 1px dashed gray;margin: 0 0.4em 0.5em 0.4em;box-sizing: border-box;padding-bottom: 0.4em;background-color: white;}#sk-container-id-5 div.sk-label label {font-family: monospace;font-weight: bold;display: inline-block;line-height: 1.2em;}#sk-container-id-5 div.sk-label-container {text-align: center;}#sk-container-id-5 div.sk-container {/* jupyter's `normalize.less` sets `[hidden] { display: none; }` but bootstrap.min.css set `[hidden] { display: none !important; }` so we also need the `!important` here to be able to override the default hidden behavior on the sphinx rendered scikit-learn.org. See: https://github.com/scikit-learn/scikit-learn/issues/21755 */display: inline-block !important;position: relative;}#sk-container-id-5 div.sk-text-repr-fallback {display: none;}</style><div id=\"sk-container-id-5\" class=\"sk-top-container\"><div class=\"sk-text-repr-fallback\"><pre>DecisionTreeClassifier()</pre><b>In a Jupyter environment, please rerun this cell to show the HTML representation or trust the notebook. <br />On GitHub, the HTML representation is unable to render, please try loading this page with nbviewer.org.</b></div><div class=\"sk-container\" hidden><div class=\"sk-item\"><div class=\"sk-estimator sk-toggleable\"><input class=\"sk-toggleable__control sk-hidden--visually\" id=\"sk-estimator-id-5\" type=\"checkbox\" checked><label for=\"sk-estimator-id-5\" class=\"sk-toggleable__label sk-toggleable__label-arrow\">DecisionTreeClassifier</label><div class=\"sk-toggleable__content\"><pre>DecisionTreeClassifier()</pre></div></div></div></div></div>"
      ],
      "text/plain": [
       "DecisionTreeClassifier()"
      ]
     },
     "execution_count": 118,
     "metadata": {},
     "output_type": "execute_result"
    }
   ],
   "source": [
    "dt_clf = DecisionTreeClassifier()\n",
    "dt_clf.fit(x_train,y_train)"
   ]
  },
  {
   "cell_type": "code",
   "execution_count": 123,
   "id": "26f097f2",
   "metadata": {},
   "outputs": [
    {
     "data": {
      "text/plain": [
       "1.0"
      ]
     },
     "execution_count": 123,
     "metadata": {},
     "output_type": "execute_result"
    }
   ],
   "source": [
    "dt_clf.score(x_train,y_train)"
   ]
  },
  {
   "cell_type": "code",
   "execution_count": 124,
   "id": "ce045433",
   "metadata": {},
   "outputs": [
    {
     "data": {
      "text/plain": [
       "0.7704918032786885"
      ]
     },
     "execution_count": 124,
     "metadata": {},
     "output_type": "execute_result"
    }
   ],
   "source": [
    "dt_clf.score(x_test,y_test)"
   ]
  },
  {
   "cell_type": "markdown",
   "id": "f5390b99",
   "metadata": {},
   "source": [
    "#### 7.4.Random_Forest"
   ]
  },
  {
   "cell_type": "code",
   "execution_count": 125,
   "id": "1e9df67d",
   "metadata": {},
   "outputs": [],
   "source": [
    "from sklearn.ensemble import RandomForestClassifier"
   ]
  },
  {
   "cell_type": "code",
   "execution_count": 126,
   "id": "79307a13",
   "metadata": {},
   "outputs": [
    {
     "data": {
      "text/html": [
       "<style>#sk-container-id-7 {color: black;background-color: white;}#sk-container-id-7 pre{padding: 0;}#sk-container-id-7 div.sk-toggleable {background-color: white;}#sk-container-id-7 label.sk-toggleable__label {cursor: pointer;display: block;width: 100%;margin-bottom: 0;padding: 0.3em;box-sizing: border-box;text-align: center;}#sk-container-id-7 label.sk-toggleable__label-arrow:before {content: \"▸\";float: left;margin-right: 0.25em;color: #696969;}#sk-container-id-7 label.sk-toggleable__label-arrow:hover:before {color: black;}#sk-container-id-7 div.sk-estimator:hover label.sk-toggleable__label-arrow:before {color: black;}#sk-container-id-7 div.sk-toggleable__content {max-height: 0;max-width: 0;overflow: hidden;text-align: left;background-color: #f0f8ff;}#sk-container-id-7 div.sk-toggleable__content pre {margin: 0.2em;color: black;border-radius: 0.25em;background-color: #f0f8ff;}#sk-container-id-7 input.sk-toggleable__control:checked~div.sk-toggleable__content {max-height: 200px;max-width: 100%;overflow: auto;}#sk-container-id-7 input.sk-toggleable__control:checked~label.sk-toggleable__label-arrow:before {content: \"▾\";}#sk-container-id-7 div.sk-estimator input.sk-toggleable__control:checked~label.sk-toggleable__label {background-color: #d4ebff;}#sk-container-id-7 div.sk-label input.sk-toggleable__control:checked~label.sk-toggleable__label {background-color: #d4ebff;}#sk-container-id-7 input.sk-hidden--visually {border: 0;clip: rect(1px 1px 1px 1px);clip: rect(1px, 1px, 1px, 1px);height: 1px;margin: -1px;overflow: hidden;padding: 0;position: absolute;width: 1px;}#sk-container-id-7 div.sk-estimator {font-family: monospace;background-color: #f0f8ff;border: 1px dotted black;border-radius: 0.25em;box-sizing: border-box;margin-bottom: 0.5em;}#sk-container-id-7 div.sk-estimator:hover {background-color: #d4ebff;}#sk-container-id-7 div.sk-parallel-item::after {content: \"\";width: 100%;border-bottom: 1px solid gray;flex-grow: 1;}#sk-container-id-7 div.sk-label:hover label.sk-toggleable__label {background-color: #d4ebff;}#sk-container-id-7 div.sk-serial::before {content: \"\";position: absolute;border-left: 1px solid gray;box-sizing: border-box;top: 0;bottom: 0;left: 50%;z-index: 0;}#sk-container-id-7 div.sk-serial {display: flex;flex-direction: column;align-items: center;background-color: white;padding-right: 0.2em;padding-left: 0.2em;position: relative;}#sk-container-id-7 div.sk-item {position: relative;z-index: 1;}#sk-container-id-7 div.sk-parallel {display: flex;align-items: stretch;justify-content: center;background-color: white;position: relative;}#sk-container-id-7 div.sk-item::before, #sk-container-id-7 div.sk-parallel-item::before {content: \"\";position: absolute;border-left: 1px solid gray;box-sizing: border-box;top: 0;bottom: 0;left: 50%;z-index: -1;}#sk-container-id-7 div.sk-parallel-item {display: flex;flex-direction: column;z-index: 1;position: relative;background-color: white;}#sk-container-id-7 div.sk-parallel-item:first-child::after {align-self: flex-end;width: 50%;}#sk-container-id-7 div.sk-parallel-item:last-child::after {align-self: flex-start;width: 50%;}#sk-container-id-7 div.sk-parallel-item:only-child::after {width: 0;}#sk-container-id-7 div.sk-dashed-wrapped {border: 1px dashed gray;margin: 0 0.4em 0.5em 0.4em;box-sizing: border-box;padding-bottom: 0.4em;background-color: white;}#sk-container-id-7 div.sk-label label {font-family: monospace;font-weight: bold;display: inline-block;line-height: 1.2em;}#sk-container-id-7 div.sk-label-container {text-align: center;}#sk-container-id-7 div.sk-container {/* jupyter's `normalize.less` sets `[hidden] { display: none; }` but bootstrap.min.css set `[hidden] { display: none !important; }` so we also need the `!important` here to be able to override the default hidden behavior on the sphinx rendered scikit-learn.org. See: https://github.com/scikit-learn/scikit-learn/issues/21755 */display: inline-block !important;position: relative;}#sk-container-id-7 div.sk-text-repr-fallback {display: none;}</style><div id=\"sk-container-id-7\" class=\"sk-top-container\"><div class=\"sk-text-repr-fallback\"><pre>RandomForestClassifier()</pre><b>In a Jupyter environment, please rerun this cell to show the HTML representation or trust the notebook. <br />On GitHub, the HTML representation is unable to render, please try loading this page with nbviewer.org.</b></div><div class=\"sk-container\" hidden><div class=\"sk-item\"><div class=\"sk-estimator sk-toggleable\"><input class=\"sk-toggleable__control sk-hidden--visually\" id=\"sk-estimator-id-7\" type=\"checkbox\" checked><label for=\"sk-estimator-id-7\" class=\"sk-toggleable__label sk-toggleable__label-arrow\">RandomForestClassifier</label><div class=\"sk-toggleable__content\"><pre>RandomForestClassifier()</pre></div></div></div></div></div>"
      ],
      "text/plain": [
       "RandomForestClassifier()"
      ]
     },
     "execution_count": 126,
     "metadata": {},
     "output_type": "execute_result"
    }
   ],
   "source": [
    "rf_clf = RandomForestClassifier()\n",
    "rf_clf.fit(x_train,y_train)"
   ]
  },
  {
   "cell_type": "code",
   "execution_count": 127,
   "id": "d141656c",
   "metadata": {},
   "outputs": [
    {
     "data": {
      "text/plain": [
       "1.0"
      ]
     },
     "execution_count": 127,
     "metadata": {},
     "output_type": "execute_result"
    }
   ],
   "source": [
    "rf_clf.score(x_train,y_train)"
   ]
  },
  {
   "cell_type": "code",
   "execution_count": 128,
   "id": "968bf3c4",
   "metadata": {},
   "outputs": [
    {
     "data": {
      "text/plain": [
       "0.8360655737704918"
      ]
     },
     "execution_count": 128,
     "metadata": {},
     "output_type": "execute_result"
    }
   ],
   "source": [
    "rf_clf.score(x_test,y_test)"
   ]
  },
  {
   "cell_type": "markdown",
   "id": "d07a1f71",
   "metadata": {},
   "source": [
    "#### 7.5.Adaboost"
   ]
  },
  {
   "cell_type": "code",
   "execution_count": 129,
   "id": "4919b5ee",
   "metadata": {},
   "outputs": [],
   "source": [
    "from sklearn.ensemble import AdaBoostClassifier"
   ]
  },
  {
   "cell_type": "code",
   "execution_count": 130,
   "id": "b097ffc6",
   "metadata": {},
   "outputs": [
    {
     "data": {
      "text/html": [
       "<style>#sk-container-id-8 {color: black;background-color: white;}#sk-container-id-8 pre{padding: 0;}#sk-container-id-8 div.sk-toggleable {background-color: white;}#sk-container-id-8 label.sk-toggleable__label {cursor: pointer;display: block;width: 100%;margin-bottom: 0;padding: 0.3em;box-sizing: border-box;text-align: center;}#sk-container-id-8 label.sk-toggleable__label-arrow:before {content: \"▸\";float: left;margin-right: 0.25em;color: #696969;}#sk-container-id-8 label.sk-toggleable__label-arrow:hover:before {color: black;}#sk-container-id-8 div.sk-estimator:hover label.sk-toggleable__label-arrow:before {color: black;}#sk-container-id-8 div.sk-toggleable__content {max-height: 0;max-width: 0;overflow: hidden;text-align: left;background-color: #f0f8ff;}#sk-container-id-8 div.sk-toggleable__content pre {margin: 0.2em;color: black;border-radius: 0.25em;background-color: #f0f8ff;}#sk-container-id-8 input.sk-toggleable__control:checked~div.sk-toggleable__content {max-height: 200px;max-width: 100%;overflow: auto;}#sk-container-id-8 input.sk-toggleable__control:checked~label.sk-toggleable__label-arrow:before {content: \"▾\";}#sk-container-id-8 div.sk-estimator input.sk-toggleable__control:checked~label.sk-toggleable__label {background-color: #d4ebff;}#sk-container-id-8 div.sk-label input.sk-toggleable__control:checked~label.sk-toggleable__label {background-color: #d4ebff;}#sk-container-id-8 input.sk-hidden--visually {border: 0;clip: rect(1px 1px 1px 1px);clip: rect(1px, 1px, 1px, 1px);height: 1px;margin: -1px;overflow: hidden;padding: 0;position: absolute;width: 1px;}#sk-container-id-8 div.sk-estimator {font-family: monospace;background-color: #f0f8ff;border: 1px dotted black;border-radius: 0.25em;box-sizing: border-box;margin-bottom: 0.5em;}#sk-container-id-8 div.sk-estimator:hover {background-color: #d4ebff;}#sk-container-id-8 div.sk-parallel-item::after {content: \"\";width: 100%;border-bottom: 1px solid gray;flex-grow: 1;}#sk-container-id-8 div.sk-label:hover label.sk-toggleable__label {background-color: #d4ebff;}#sk-container-id-8 div.sk-serial::before {content: \"\";position: absolute;border-left: 1px solid gray;box-sizing: border-box;top: 0;bottom: 0;left: 50%;z-index: 0;}#sk-container-id-8 div.sk-serial {display: flex;flex-direction: column;align-items: center;background-color: white;padding-right: 0.2em;padding-left: 0.2em;position: relative;}#sk-container-id-8 div.sk-item {position: relative;z-index: 1;}#sk-container-id-8 div.sk-parallel {display: flex;align-items: stretch;justify-content: center;background-color: white;position: relative;}#sk-container-id-8 div.sk-item::before, #sk-container-id-8 div.sk-parallel-item::before {content: \"\";position: absolute;border-left: 1px solid gray;box-sizing: border-box;top: 0;bottom: 0;left: 50%;z-index: -1;}#sk-container-id-8 div.sk-parallel-item {display: flex;flex-direction: column;z-index: 1;position: relative;background-color: white;}#sk-container-id-8 div.sk-parallel-item:first-child::after {align-self: flex-end;width: 50%;}#sk-container-id-8 div.sk-parallel-item:last-child::after {align-self: flex-start;width: 50%;}#sk-container-id-8 div.sk-parallel-item:only-child::after {width: 0;}#sk-container-id-8 div.sk-dashed-wrapped {border: 1px dashed gray;margin: 0 0.4em 0.5em 0.4em;box-sizing: border-box;padding-bottom: 0.4em;background-color: white;}#sk-container-id-8 div.sk-label label {font-family: monospace;font-weight: bold;display: inline-block;line-height: 1.2em;}#sk-container-id-8 div.sk-label-container {text-align: center;}#sk-container-id-8 div.sk-container {/* jupyter's `normalize.less` sets `[hidden] { display: none; }` but bootstrap.min.css set `[hidden] { display: none !important; }` so we also need the `!important` here to be able to override the default hidden behavior on the sphinx rendered scikit-learn.org. See: https://github.com/scikit-learn/scikit-learn/issues/21755 */display: inline-block !important;position: relative;}#sk-container-id-8 div.sk-text-repr-fallback {display: none;}</style><div id=\"sk-container-id-8\" class=\"sk-top-container\"><div class=\"sk-text-repr-fallback\"><pre>AdaBoostClassifier()</pre><b>In a Jupyter environment, please rerun this cell to show the HTML representation or trust the notebook. <br />On GitHub, the HTML representation is unable to render, please try loading this page with nbviewer.org.</b></div><div class=\"sk-container\" hidden><div class=\"sk-item\"><div class=\"sk-estimator sk-toggleable\"><input class=\"sk-toggleable__control sk-hidden--visually\" id=\"sk-estimator-id-8\" type=\"checkbox\" checked><label for=\"sk-estimator-id-8\" class=\"sk-toggleable__label sk-toggleable__label-arrow\">AdaBoostClassifier</label><div class=\"sk-toggleable__content\"><pre>AdaBoostClassifier()</pre></div></div></div></div></div>"
      ],
      "text/plain": [
       "AdaBoostClassifier()"
      ]
     },
     "execution_count": 130,
     "metadata": {},
     "output_type": "execute_result"
    }
   ],
   "source": [
    "ad_clf = AdaBoostClassifier()\n",
    "ad_clf.fit(x_train,y_train)"
   ]
  },
  {
   "cell_type": "code",
   "execution_count": 131,
   "id": "2843aa79",
   "metadata": {},
   "outputs": [
    {
     "data": {
      "text/plain": [
       "0.9421487603305785"
      ]
     },
     "execution_count": 131,
     "metadata": {},
     "output_type": "execute_result"
    }
   ],
   "source": [
    "ad_clf.score(x_train,y_train)"
   ]
  },
  {
   "cell_type": "code",
   "execution_count": 132,
   "id": "58b4eb82",
   "metadata": {},
   "outputs": [
    {
     "data": {
      "text/plain": [
       "0.7868852459016393"
      ]
     },
     "execution_count": 132,
     "metadata": {},
     "output_type": "execute_result"
    }
   ],
   "source": [
    "ad_clf.score(x_test,y_test)"
   ]
  },
  {
   "cell_type": "markdown",
   "id": "3a948c7a",
   "metadata": {},
   "source": [
    "#### Using LazyPredict"
   ]
  },
  {
   "cell_type": "code",
   "execution_count": 133,
   "id": "0b7282ef",
   "metadata": {},
   "outputs": [],
   "source": [
    "from lazypredict.Supervised import LazyClassifier"
   ]
  },
  {
   "cell_type": "code",
   "execution_count": 137,
   "id": "d4117884",
   "metadata": {},
   "outputs": [
    {
     "name": "stderr",
     "output_type": "stream",
     "text": [
      "100%|██████████████████████████████████████████████████████████████████████████████████| 29/29 [00:02<00:00, 11.72it/s]"
     ]
    },
    {
     "name": "stdout",
     "output_type": "stream",
     "text": [
      "[LightGBM] [Info] Number of positive: 132, number of negative: 110\n",
      "[LightGBM] [Warning] Auto-choosing row-wise multi-threading, the overhead of testing was 0.000759 seconds.\n",
      "You can set `force_row_wise=true` to remove the overhead.\n",
      "And if memory is not enough, you can set `force_col_wise=true`.\n",
      "[LightGBM] [Info] Total Bins 247\n",
      "[LightGBM] [Info] Number of data points in the train set: 242, number of used features: 13\n",
      "[LightGBM] [Info] [binary:BoostFromScore]: pavg=0.545455 -> initscore=0.182322\n",
      "[LightGBM] [Info] Start training from score 0.182322\n",
      "[LightGBM] [Warning] No further splits with positive gain, best gain: -inf\n",
      "[LightGBM] [Warning] No further splits with positive gain, best gain: -inf\n",
      "[LightGBM] [Warning] No further splits with positive gain, best gain: -inf\n",
      "[LightGBM] [Warning] No further splits with positive gain, best gain: -inf\n",
      "[LightGBM] [Warning] No further splits with positive gain, best gain: -inf\n",
      "[LightGBM] [Warning] No further splits with positive gain, best gain: -inf\n",
      "[LightGBM] [Warning] No further splits with positive gain, best gain: -inf\n",
      "[LightGBM] [Warning] No further splits with positive gain, best gain: -inf\n",
      "[LightGBM] [Warning] No further splits with positive gain, best gain: -inf\n",
      "[LightGBM] [Warning] No further splits with positive gain, best gain: -inf\n",
      "[LightGBM] [Warning] No further splits with positive gain, best gain: -inf\n",
      "[LightGBM] [Warning] No further splits with positive gain, best gain: -inf\n",
      "[LightGBM] [Warning] No further splits with positive gain, best gain: -inf\n",
      "[LightGBM] [Warning] No further splits with positive gain, best gain: -inf\n",
      "[LightGBM] [Warning] No further splits with positive gain, best gain: -inf\n",
      "[LightGBM] [Warning] No further splits with positive gain, best gain: -inf\n",
      "[LightGBM] [Warning] No further splits with positive gain, best gain: -inf\n",
      "[LightGBM] [Warning] No further splits with positive gain, best gain: -inf\n",
      "[LightGBM] [Warning] No further splits with positive gain, best gain: -inf\n",
      "[LightGBM] [Warning] No further splits with positive gain, best gain: -inf\n",
      "[LightGBM] [Warning] No further splits with positive gain, best gain: -inf\n",
      "[LightGBM] [Warning] No further splits with positive gain, best gain: -inf\n",
      "[LightGBM] [Warning] No further splits with positive gain, best gain: -inf\n",
      "[LightGBM] [Warning] No further splits with positive gain, best gain: -inf\n",
      "[LightGBM] [Warning] No further splits with positive gain, best gain: -inf\n",
      "[LightGBM] [Warning] No further splits with positive gain, best gain: -inf\n",
      "[LightGBM] [Warning] No further splits with positive gain, best gain: -inf\n",
      "[LightGBM] [Warning] No further splits with positive gain, best gain: -inf\n",
      "[LightGBM] [Warning] No further splits with positive gain, best gain: -inf\n",
      "[LightGBM] [Warning] No further splits with positive gain, best gain: -inf\n",
      "[LightGBM] [Warning] No further splits with positive gain, best gain: -inf\n",
      "[LightGBM] [Warning] No further splits with positive gain, best gain: -inf\n",
      "[LightGBM] [Warning] No further splits with positive gain, best gain: -inf\n",
      "[LightGBM] [Warning] No further splits with positive gain, best gain: -inf\n",
      "[LightGBM] [Warning] No further splits with positive gain, best gain: -inf\n",
      "[LightGBM] [Warning] No further splits with positive gain, best gain: -inf\n",
      "[LightGBM] [Warning] No further splits with positive gain, best gain: -inf\n",
      "[LightGBM] [Warning] No further splits with positive gain, best gain: -inf\n",
      "[LightGBM] [Warning] No further splits with positive gain, best gain: -inf\n",
      "[LightGBM] [Warning] No further splits with positive gain, best gain: -inf\n",
      "[LightGBM] [Warning] No further splits with positive gain, best gain: -inf\n",
      "[LightGBM] [Warning] No further splits with positive gain, best gain: -inf\n",
      "[LightGBM] [Warning] No further splits with positive gain, best gain: -inf\n",
      "[LightGBM] [Warning] No further splits with positive gain, best gain: -inf\n",
      "[LightGBM] [Warning] No further splits with positive gain, best gain: -inf\n",
      "[LightGBM] [Warning] No further splits with positive gain, best gain: -inf\n",
      "[LightGBM] [Warning] No further splits with positive gain, best gain: -inf\n",
      "[LightGBM] [Warning] No further splits with positive gain, best gain: -inf\n",
      "[LightGBM] [Warning] No further splits with positive gain, best gain: -inf\n",
      "[LightGBM] [Warning] No further splits with positive gain, best gain: -inf\n",
      "[LightGBM] [Warning] No further splits with positive gain, best gain: -inf\n",
      "[LightGBM] [Warning] No further splits with positive gain, best gain: -inf\n",
      "[LightGBM] [Warning] No further splits with positive gain, best gain: -inf\n",
      "[LightGBM] [Warning] No further splits with positive gain, best gain: -inf\n",
      "[LightGBM] [Warning] No further splits with positive gain, best gain: -inf\n",
      "[LightGBM] [Warning] No further splits with positive gain, best gain: -inf\n",
      "[LightGBM] [Warning] No further splits with positive gain, best gain: -inf\n",
      "[LightGBM] [Warning] No further splits with positive gain, best gain: -inf\n",
      "[LightGBM] [Warning] No further splits with positive gain, best gain: -inf\n",
      "[LightGBM] [Warning] No further splits with positive gain, best gain: -inf\n",
      "[LightGBM] [Warning] No further splits with positive gain, best gain: -inf\n",
      "[LightGBM] [Warning] No further splits with positive gain, best gain: -inf\n",
      "[LightGBM] [Warning] No further splits with positive gain, best gain: -inf\n",
      "[LightGBM] [Warning] No further splits with positive gain, best gain: -inf\n",
      "[LightGBM] [Warning] No further splits with positive gain, best gain: -inf\n",
      "[LightGBM] [Warning] No further splits with positive gain, best gain: -inf\n",
      "[LightGBM] [Warning] No further splits with positive gain, best gain: -inf\n",
      "[LightGBM] [Warning] No further splits with positive gain, best gain: -inf\n",
      "[LightGBM] [Warning] No further splits with positive gain, best gain: -inf\n",
      "[LightGBM] [Warning] No further splits with positive gain, best gain: -inf\n",
      "[LightGBM] [Warning] No further splits with positive gain, best gain: -inf\n",
      "[LightGBM] [Warning] No further splits with positive gain, best gain: -inf\n",
      "[LightGBM] [Warning] No further splits with positive gain, best gain: -inf\n",
      "[LightGBM] [Warning] No further splits with positive gain, best gain: -inf\n",
      "[LightGBM] [Warning] No further splits with positive gain, best gain: -inf\n",
      "[LightGBM] [Warning] No further splits with positive gain, best gain: -inf\n",
      "[LightGBM] [Warning] No further splits with positive gain, best gain: -inf\n",
      "[LightGBM] [Warning] No further splits with positive gain, best gain: -inf\n",
      "[LightGBM] [Warning] No further splits with positive gain, best gain: -inf\n",
      "[LightGBM] [Warning] No further splits with positive gain, best gain: -inf\n",
      "[LightGBM] [Warning] No further splits with positive gain, best gain: -inf\n",
      "[LightGBM] [Warning] No further splits with positive gain, best gain: -inf\n",
      "[LightGBM] [Warning] No further splits with positive gain, best gain: -inf\n",
      "[LightGBM] [Warning] No further splits with positive gain, best gain: -inf\n",
      "[LightGBM] [Warning] No further splits with positive gain, best gain: -inf\n",
      "[LightGBM] [Warning] No further splits with positive gain, best gain: -inf\n",
      "[LightGBM] [Warning] No further splits with positive gain, best gain: -inf\n",
      "[LightGBM] [Warning] No further splits with positive gain, best gain: -inf\n",
      "[LightGBM] [Warning] No further splits with positive gain, best gain: -inf\n",
      "[LightGBM] [Warning] No further splits with positive gain, best gain: -inf\n",
      "[LightGBM] [Warning] No further splits with positive gain, best gain: -inf\n",
      "[LightGBM] [Warning] No further splits with positive gain, best gain: -inf\n",
      "[LightGBM] [Warning] No further splits with positive gain, best gain: -inf\n",
      "[LightGBM] [Warning] No further splits with positive gain, best gain: -inf\n",
      "[LightGBM] [Warning] No further splits with positive gain, best gain: -inf\n",
      "[LightGBM] [Warning] No further splits with positive gain, best gain: -inf\n",
      "[LightGBM] [Warning] No further splits with positive gain, best gain: -inf\n",
      "[LightGBM] [Warning] No further splits with positive gain, best gain: -inf\n",
      "[LightGBM] [Warning] No further splits with positive gain, best gain: -inf\n",
      "[LightGBM] [Warning] No further splits with positive gain, best gain: -inf\n"
     ]
    },
    {
     "name": "stderr",
     "output_type": "stream",
     "text": [
      "\n"
     ]
    }
   ],
   "source": [
    "clf = LazyClassifier(verbose=0,\n",
    "    ignore_warnings=True,\n",
    "    custom_metric=None)\n",
    "models = clf.fit(x_train,x_test,y_train,y_test)"
   ]
  },
  {
   "cell_type": "code",
   "execution_count": 138,
   "id": "0bc23129",
   "metadata": {},
   "outputs": [
    {
     "data": {
      "text/plain": [
       "(                               Accuracy  Balanced Accuracy  ROC AUC  F1 Score  \\\n",
       " Model                                                                           \n",
       " RidgeClassifier                    0.89               0.88     0.88      0.88   \n",
       " LinearDiscriminantAnalysis         0.89               0.88     0.88      0.88   \n",
       " RidgeClassifierCV                  0.87               0.86     0.86      0.87   \n",
       " LinearSVC                          0.85               0.85     0.85      0.85   \n",
       " CalibratedClassifierCV             0.85               0.85     0.85      0.85   \n",
       " LogisticRegression                 0.85               0.85     0.85      0.85   \n",
       " KNeighborsClassifier               0.85               0.84     0.84      0.85   \n",
       " LGBMClassifier                     0.84               0.83     0.83      0.84   \n",
       " ExtraTreesClassifier               0.84               0.83     0.83      0.84   \n",
       " SVC                                0.84               0.83     0.83      0.84   \n",
       " NuSVC                              0.84               0.83     0.83      0.84   \n",
       " GaussianNB                         0.84               0.83     0.83      0.83   \n",
       " QuadraticDiscriminantAnalysis      0.82               0.82     0.82      0.82   \n",
       " BernoulliNB                        0.82               0.82     0.82      0.82   \n",
       " XGBClassifier                      0.80               0.80     0.80      0.80   \n",
       " SGDClassifier                      0.80               0.80     0.80      0.80   \n",
       " RandomForestClassifier             0.80               0.80     0.80      0.80   \n",
       " NearestCentroid                    0.80               0.80     0.80      0.80   \n",
       " BaggingClassifier                  0.79               0.79     0.79      0.79   \n",
       " AdaBoostClassifier                 0.79               0.78     0.78      0.79   \n",
       " Perceptron                         0.79               0.78     0.78      0.79   \n",
       " DecisionTreeClassifier             0.75               0.75     0.75      0.75   \n",
       " LabelSpreading                     0.75               0.75     0.75      0.75   \n",
       " LabelPropagation                   0.75               0.75     0.75      0.75   \n",
       " ExtraTreeClassifier                0.75               0.75     0.75      0.75   \n",
       " PassiveAggressiveClassifier        0.70               0.69     0.69      0.70   \n",
       " DummyClassifier                    0.54               0.50     0.50      0.38   \n",
       " \n",
       "                                Time Taken  \n",
       " Model                                      \n",
       " RidgeClassifier                      0.07  \n",
       " LinearDiscriminantAnalysis           0.03  \n",
       " RidgeClassifierCV                    0.03  \n",
       " LinearSVC                            0.05  \n",
       " CalibratedClassifierCV               0.12  \n",
       " LogisticRegression                   0.04  \n",
       " KNeighborsClassifier                 0.04  \n",
       " LGBMClassifier                       0.34  \n",
       " ExtraTreesClassifier                 0.34  \n",
       " SVC                                  0.03  \n",
       " NuSVC                                0.05  \n",
       " GaussianNB                           0.03  \n",
       " QuadraticDiscriminantAnalysis        0.03  \n",
       " BernoulliNB                          0.05  \n",
       " XGBClassifier                        0.15  \n",
       " SGDClassifier                        0.04  \n",
       " RandomForestClassifier               0.44  \n",
       " NearestCentroid                      0.02  \n",
       " BaggingClassifier                    0.09  \n",
       " AdaBoostClassifier                   0.23  \n",
       " Perceptron                           0.02  \n",
       " DecisionTreeClassifier               0.02  \n",
       " LabelSpreading                       0.05  \n",
       " LabelPropagation                     0.05  \n",
       " ExtraTreeClassifier                  0.03  \n",
       " PassiveAggressiveClassifier          0.03  \n",
       " DummyClassifier                      0.03  ,\n",
       "                                Accuracy  Balanced Accuracy  ROC AUC  F1 Score  \\\n",
       " Model                                                                           \n",
       " RidgeClassifier                    0.89               0.88     0.88      0.88   \n",
       " LinearDiscriminantAnalysis         0.89               0.88     0.88      0.88   \n",
       " RidgeClassifierCV                  0.87               0.86     0.86      0.87   \n",
       " LinearSVC                          0.85               0.85     0.85      0.85   \n",
       " CalibratedClassifierCV             0.85               0.85     0.85      0.85   \n",
       " LogisticRegression                 0.85               0.85     0.85      0.85   \n",
       " KNeighborsClassifier               0.85               0.84     0.84      0.85   \n",
       " LGBMClassifier                     0.84               0.83     0.83      0.84   \n",
       " ExtraTreesClassifier               0.84               0.83     0.83      0.84   \n",
       " SVC                                0.84               0.83     0.83      0.84   \n",
       " NuSVC                              0.84               0.83     0.83      0.84   \n",
       " GaussianNB                         0.84               0.83     0.83      0.83   \n",
       " QuadraticDiscriminantAnalysis      0.82               0.82     0.82      0.82   \n",
       " BernoulliNB                        0.82               0.82     0.82      0.82   \n",
       " XGBClassifier                      0.80               0.80     0.80      0.80   \n",
       " SGDClassifier                      0.80               0.80     0.80      0.80   \n",
       " RandomForestClassifier             0.80               0.80     0.80      0.80   \n",
       " NearestCentroid                    0.80               0.80     0.80      0.80   \n",
       " BaggingClassifier                  0.79               0.79     0.79      0.79   \n",
       " AdaBoostClassifier                 0.79               0.78     0.78      0.79   \n",
       " Perceptron                         0.79               0.78     0.78      0.79   \n",
       " DecisionTreeClassifier             0.75               0.75     0.75      0.75   \n",
       " LabelSpreading                     0.75               0.75     0.75      0.75   \n",
       " LabelPropagation                   0.75               0.75     0.75      0.75   \n",
       " ExtraTreeClassifier                0.75               0.75     0.75      0.75   \n",
       " PassiveAggressiveClassifier        0.70               0.69     0.69      0.70   \n",
       " DummyClassifier                    0.54               0.50     0.50      0.38   \n",
       " \n",
       "                                Time Taken  \n",
       " Model                                      \n",
       " RidgeClassifier                      0.07  \n",
       " LinearDiscriminantAnalysis           0.03  \n",
       " RidgeClassifierCV                    0.03  \n",
       " LinearSVC                            0.05  \n",
       " CalibratedClassifierCV               0.12  \n",
       " LogisticRegression                   0.04  \n",
       " KNeighborsClassifier                 0.04  \n",
       " LGBMClassifier                       0.34  \n",
       " ExtraTreesClassifier                 0.34  \n",
       " SVC                                  0.03  \n",
       " NuSVC                                0.05  \n",
       " GaussianNB                           0.03  \n",
       " QuadraticDiscriminantAnalysis        0.03  \n",
       " BernoulliNB                          0.05  \n",
       " XGBClassifier                        0.15  \n",
       " SGDClassifier                        0.04  \n",
       " RandomForestClassifier               0.44  \n",
       " NearestCentroid                      0.02  \n",
       " BaggingClassifier                    0.09  \n",
       " AdaBoostClassifier                   0.23  \n",
       " Perceptron                           0.02  \n",
       " DecisionTreeClassifier               0.02  \n",
       " LabelSpreading                       0.05  \n",
       " LabelPropagation                     0.05  \n",
       " ExtraTreeClassifier                  0.03  \n",
       " PassiveAggressiveClassifier          0.03  \n",
       " DummyClassifier                      0.03  )"
      ]
     },
     "execution_count": 138,
     "metadata": {},
     "output_type": "execute_result"
    }
   ],
   "source": [
    "models"
   ]
  },
  {
   "cell_type": "markdown",
   "id": "8888ac38",
   "metadata": {},
   "source": [
    "#### 8.Comparing_Models"
   ]
  },
  {
   "cell_type": "code",
   "execution_count": 139,
   "id": "e6e53dd2",
   "metadata": {},
   "outputs": [
    {
     "data": {
      "text/html": [
       "<div>\n",
       "<style scoped>\n",
       "    .dataframe tbody tr th:only-of-type {\n",
       "        vertical-align: middle;\n",
       "    }\n",
       "\n",
       "    .dataframe tbody tr th {\n",
       "        vertical-align: top;\n",
       "    }\n",
       "\n",
       "    .dataframe thead th {\n",
       "        text-align: right;\n",
       "    }\n",
       "</style>\n",
       "<table border=\"1\" class=\"dataframe\">\n",
       "  <thead>\n",
       "    <tr style=\"text-align: right;\">\n",
       "      <th></th>\n",
       "      <th>Train_Accuracy</th>\n",
       "      <th>Test_Accuracy</th>\n",
       "    </tr>\n",
       "  </thead>\n",
       "  <tbody>\n",
       "    <tr>\n",
       "      <th>log_clf</th>\n",
       "      <td>0.88</td>\n",
       "      <td>0.85</td>\n",
       "    </tr>\n",
       "    <tr>\n",
       "      <th>knn_clf</th>\n",
       "      <td>0.88</td>\n",
       "      <td>0.85</td>\n",
       "    </tr>\n",
       "    <tr>\n",
       "      <th>dt_clf</th>\n",
       "      <td>1.00</td>\n",
       "      <td>0.77</td>\n",
       "    </tr>\n",
       "    <tr>\n",
       "      <th>rf_clf</th>\n",
       "      <td>1.00</td>\n",
       "      <td>0.83</td>\n",
       "    </tr>\n",
       "    <tr>\n",
       "      <th>ad_clf</th>\n",
       "      <td>0.94</td>\n",
       "      <td>0.73</td>\n",
       "    </tr>\n",
       "  </tbody>\n",
       "</table>\n",
       "</div>"
      ],
      "text/plain": [
       "         Train_Accuracy  Test_Accuracy\n",
       "log_clf            0.88           0.85\n",
       "knn_clf            0.88           0.85\n",
       "dt_clf             1.00           0.77\n",
       "rf_clf             1.00           0.83\n",
       "ad_clf             0.94           0.73"
      ]
     },
     "execution_count": 139,
     "metadata": {},
     "output_type": "execute_result"
    }
   ],
   "source": [
    "dict1 = {\"Train_Accuracy\":[0.88,0.88,1,1,0.94],\n",
    "        \"Test_Accuracy\":[0.85,0.85,0.77,0.83,0.73]}\n",
    "acc_df = pd.DataFrame(dict1,index = ['log_clf',\"knn_clf\",\"dt_clf\",\"rf_clf\",\"ad_clf\"])\n",
    "acc_df"
   ]
  },
  {
   "cell_type": "raw",
   "id": "485ddc70",
   "metadata": {},
   "source": [
    "from above accuracy we can say that Logistic Regression and KNN classifier are performing better on validation data with less difference between training and validation data.\n",
    "We will see other matrics for selected model"
   ]
  },
  {
   "cell_type": "markdown",
   "id": "c5beb807",
   "metadata": {},
   "source": [
    "#### 8.1.Logistic_Regession"
   ]
  },
  {
   "cell_type": "code",
   "execution_count": 141,
   "id": "fe7c699f",
   "metadata": {},
   "outputs": [
    {
     "data": {
      "text/html": [
       "<style>#sk-container-id-9 {color: black;background-color: white;}#sk-container-id-9 pre{padding: 0;}#sk-container-id-9 div.sk-toggleable {background-color: white;}#sk-container-id-9 label.sk-toggleable__label {cursor: pointer;display: block;width: 100%;margin-bottom: 0;padding: 0.3em;box-sizing: border-box;text-align: center;}#sk-container-id-9 label.sk-toggleable__label-arrow:before {content: \"▸\";float: left;margin-right: 0.25em;color: #696969;}#sk-container-id-9 label.sk-toggleable__label-arrow:hover:before {color: black;}#sk-container-id-9 div.sk-estimator:hover label.sk-toggleable__label-arrow:before {color: black;}#sk-container-id-9 div.sk-toggleable__content {max-height: 0;max-width: 0;overflow: hidden;text-align: left;background-color: #f0f8ff;}#sk-container-id-9 div.sk-toggleable__content pre {margin: 0.2em;color: black;border-radius: 0.25em;background-color: #f0f8ff;}#sk-container-id-9 input.sk-toggleable__control:checked~div.sk-toggleable__content {max-height: 200px;max-width: 100%;overflow: auto;}#sk-container-id-9 input.sk-toggleable__control:checked~label.sk-toggleable__label-arrow:before {content: \"▾\";}#sk-container-id-9 div.sk-estimator input.sk-toggleable__control:checked~label.sk-toggleable__label {background-color: #d4ebff;}#sk-container-id-9 div.sk-label input.sk-toggleable__control:checked~label.sk-toggleable__label {background-color: #d4ebff;}#sk-container-id-9 input.sk-hidden--visually {border: 0;clip: rect(1px 1px 1px 1px);clip: rect(1px, 1px, 1px, 1px);height: 1px;margin: -1px;overflow: hidden;padding: 0;position: absolute;width: 1px;}#sk-container-id-9 div.sk-estimator {font-family: monospace;background-color: #f0f8ff;border: 1px dotted black;border-radius: 0.25em;box-sizing: border-box;margin-bottom: 0.5em;}#sk-container-id-9 div.sk-estimator:hover {background-color: #d4ebff;}#sk-container-id-9 div.sk-parallel-item::after {content: \"\";width: 100%;border-bottom: 1px solid gray;flex-grow: 1;}#sk-container-id-9 div.sk-label:hover label.sk-toggleable__label {background-color: #d4ebff;}#sk-container-id-9 div.sk-serial::before {content: \"\";position: absolute;border-left: 1px solid gray;box-sizing: border-box;top: 0;bottom: 0;left: 50%;z-index: 0;}#sk-container-id-9 div.sk-serial {display: flex;flex-direction: column;align-items: center;background-color: white;padding-right: 0.2em;padding-left: 0.2em;position: relative;}#sk-container-id-9 div.sk-item {position: relative;z-index: 1;}#sk-container-id-9 div.sk-parallel {display: flex;align-items: stretch;justify-content: center;background-color: white;position: relative;}#sk-container-id-9 div.sk-item::before, #sk-container-id-9 div.sk-parallel-item::before {content: \"\";position: absolute;border-left: 1px solid gray;box-sizing: border-box;top: 0;bottom: 0;left: 50%;z-index: -1;}#sk-container-id-9 div.sk-parallel-item {display: flex;flex-direction: column;z-index: 1;position: relative;background-color: white;}#sk-container-id-9 div.sk-parallel-item:first-child::after {align-self: flex-end;width: 50%;}#sk-container-id-9 div.sk-parallel-item:last-child::after {align-self: flex-start;width: 50%;}#sk-container-id-9 div.sk-parallel-item:only-child::after {width: 0;}#sk-container-id-9 div.sk-dashed-wrapped {border: 1px dashed gray;margin: 0 0.4em 0.5em 0.4em;box-sizing: border-box;padding-bottom: 0.4em;background-color: white;}#sk-container-id-9 div.sk-label label {font-family: monospace;font-weight: bold;display: inline-block;line-height: 1.2em;}#sk-container-id-9 div.sk-label-container {text-align: center;}#sk-container-id-9 div.sk-container {/* jupyter's `normalize.less` sets `[hidden] { display: none; }` but bootstrap.min.css set `[hidden] { display: none !important; }` so we also need the `!important` here to be able to override the default hidden behavior on the sphinx rendered scikit-learn.org. See: https://github.com/scikit-learn/scikit-learn/issues/21755 */display: inline-block !important;position: relative;}#sk-container-id-9 div.sk-text-repr-fallback {display: none;}</style><div id=\"sk-container-id-9\" class=\"sk-top-container\"><div class=\"sk-text-repr-fallback\"><pre>LogisticRegression()</pre><b>In a Jupyter environment, please rerun this cell to show the HTML representation or trust the notebook. <br />On GitHub, the HTML representation is unable to render, please try loading this page with nbviewer.org.</b></div><div class=\"sk-container\" hidden><div class=\"sk-item\"><div class=\"sk-estimator sk-toggleable\"><input class=\"sk-toggleable__control sk-hidden--visually\" id=\"sk-estimator-id-9\" type=\"checkbox\" checked><label for=\"sk-estimator-id-9\" class=\"sk-toggleable__label sk-toggleable__label-arrow\">LogisticRegression</label><div class=\"sk-toggleable__content\"><pre>LogisticRegression()</pre></div></div></div></div></div>"
      ],
      "text/plain": [
       "LogisticRegression()"
      ]
     },
     "execution_count": 141,
     "metadata": {},
     "output_type": "execute_result"
    }
   ],
   "source": [
    "log_clf = LogisticRegression()\n",
    "log_clf.fit(x_train,y_train)"
   ]
  },
  {
   "cell_type": "markdown",
   "id": "341a0d05",
   "metadata": {},
   "source": [
    "#### Test_Data_Evaluation"
   ]
  },
  {
   "cell_type": "code",
   "execution_count": 156,
   "id": "ca3646a5",
   "metadata": {},
   "outputs": [
    {
     "name": "stdout",
     "output_type": "stream",
     "text": [
      "Accuracy : 0.8524590163934426\n",
      "*****************************\n",
      "Confusion_Matrix :\n",
      " [[23  4]\n",
      " [ 5 29]]\n",
      "*****************************\n",
      "Classification_Report :\n",
      "               precision    recall  f1-score   support\n",
      "\n",
      "           0       0.82      0.85      0.84        27\n",
      "           1       0.88      0.85      0.87        34\n",
      "\n",
      "    accuracy                           0.85        61\n",
      "   macro avg       0.85      0.85      0.85        61\n",
      "weighted avg       0.85      0.85      0.85        61\n",
      "\n"
     ]
    }
   ],
   "source": [
    "y_pred_test = log_clf.predict(x_test)\n",
    "\n",
    "accuracy = accuracy_score(y_pred_test,y_test)\n",
    "print(\"Accuracy :\",accuracy)\n",
    "print(\"*****************************\")\n",
    "\n",
    "cnf_matrix = confusion_matrix(y_pred_test,y_test)\n",
    "print(\"Confusion_Matrix :\\n\",cnf_matrix)\n",
    "print(\"*****************************\")\n",
    "\n",
    "clf_report = classification_report(y_pred_test,y_test)\n",
    "print(\"Classification_Report :\\n\",clf_report)"
   ]
  },
  {
   "cell_type": "code",
   "execution_count": 157,
   "id": "8f53028e",
   "metadata": {},
   "outputs": [
    {
     "data": {
      "text/html": [
       "<div>\n",
       "<style scoped>\n",
       "    .dataframe tbody tr th:only-of-type {\n",
       "        vertical-align: middle;\n",
       "    }\n",
       "\n",
       "    .dataframe tbody tr th {\n",
       "        vertical-align: top;\n",
       "    }\n",
       "\n",
       "    .dataframe thead th {\n",
       "        text-align: right;\n",
       "    }\n",
       "</style>\n",
       "<table border=\"1\" class=\"dataframe\">\n",
       "  <thead>\n",
       "    <tr style=\"text-align: right;\">\n",
       "      <th></th>\n",
       "      <th>Actual_Value</th>\n",
       "      <th>Predicted_Value</th>\n",
       "    </tr>\n",
       "  </thead>\n",
       "  <tbody>\n",
       "    <tr>\n",
       "      <th>45</th>\n",
       "      <td>1</td>\n",
       "      <td>1</td>\n",
       "    </tr>\n",
       "    <tr>\n",
       "      <th>111</th>\n",
       "      <td>1</td>\n",
       "      <td>1</td>\n",
       "    </tr>\n",
       "    <tr>\n",
       "      <th>285</th>\n",
       "      <td>0</td>\n",
       "      <td>0</td>\n",
       "    </tr>\n",
       "    <tr>\n",
       "      <th>130</th>\n",
       "      <td>1</td>\n",
       "      <td>1</td>\n",
       "    </tr>\n",
       "    <tr>\n",
       "      <th>46</th>\n",
       "      <td>1</td>\n",
       "      <td>1</td>\n",
       "    </tr>\n",
       "    <tr>\n",
       "      <th>283</th>\n",
       "      <td>0</td>\n",
       "      <td>1</td>\n",
       "    </tr>\n",
       "    <tr>\n",
       "      <th>135</th>\n",
       "      <td>1</td>\n",
       "      <td>1</td>\n",
       "    </tr>\n",
       "    <tr>\n",
       "      <th>263</th>\n",
       "      <td>0</td>\n",
       "      <td>0</td>\n",
       "    </tr>\n",
       "    <tr>\n",
       "      <th>171</th>\n",
       "      <td>0</td>\n",
       "      <td>1</td>\n",
       "    </tr>\n",
       "    <tr>\n",
       "      <th>240</th>\n",
       "      <td>0</td>\n",
       "      <td>0</td>\n",
       "    </tr>\n",
       "  </tbody>\n",
       "</table>\n",
       "</div>"
      ],
      "text/plain": [
       "     Actual_Value  Predicted_Value\n",
       "45              1                1\n",
       "111             1                1\n",
       "285             0                0\n",
       "130             1                1\n",
       "46              1                1\n",
       "283             0                1\n",
       "135             1                1\n",
       "263             0                0\n",
       "171             0                1\n",
       "240             0                0"
      ]
     },
     "execution_count": 157,
     "metadata": {},
     "output_type": "execute_result"
    }
   ],
   "source": [
    "pred_dict = {\"Actual_Value\":y_test,\"Predicted_Value\":y_pred_test}\n",
    "test_pred_df = pd.DataFrame(pred_dict)\n",
    "test_pred_df.head(10)"
   ]
  },
  {
   "cell_type": "markdown",
   "id": "bc747e3a",
   "metadata": {},
   "source": [
    "#### Train_Data_Evaluation"
   ]
  },
  {
   "cell_type": "code",
   "execution_count": 145,
   "id": "6b00a2db",
   "metadata": {},
   "outputs": [
    {
     "name": "stdout",
     "output_type": "stream",
     "text": [
      "Accuracy : 0.8801652892561983\n",
      "*****************************\n",
      "Confusion_Matrix :\n",
      " [[ 92  11]\n",
      " [ 18 121]]\n",
      "*****************************\n",
      "Classification_Report :\n",
      "               precision    recall  f1-score   support\n",
      "\n",
      "           0       0.84      0.89      0.86       103\n",
      "           1       0.92      0.87      0.89       139\n",
      "\n",
      "    accuracy                           0.88       242\n",
      "   macro avg       0.88      0.88      0.88       242\n",
      "weighted avg       0.88      0.88      0.88       242\n",
      "\n"
     ]
    }
   ],
   "source": [
    "y_pred_train = log_clf.predict(x_train)\n",
    "\n",
    "accuracy = accuracy_score(y_pred_train,y_train)\n",
    "print(\"Accuracy :\",accuracy)\n",
    "print(\"*****************************\")\n",
    "\n",
    "cnf_matrix = confusion_matrix(y_pred_train,y_train)\n",
    "print(\"Confusion_Matrix :\\n\",cnf_matrix)\n",
    "print(\"*****************************\")\n",
    "\n",
    "clf_report = classification_report(y_pred_train,y_train)\n",
    "print(\"Classification_Report :\\n\",clf_report)"
   ]
  },
  {
   "cell_type": "code",
   "execution_count": 158,
   "id": "6577a2f7",
   "metadata": {},
   "outputs": [
    {
     "data": {
      "text/html": [
       "<div>\n",
       "<style scoped>\n",
       "    .dataframe tbody tr th:only-of-type {\n",
       "        vertical-align: middle;\n",
       "    }\n",
       "\n",
       "    .dataframe tbody tr th {\n",
       "        vertical-align: top;\n",
       "    }\n",
       "\n",
       "    .dataframe thead th {\n",
       "        text-align: right;\n",
       "    }\n",
       "</style>\n",
       "<table border=\"1\" class=\"dataframe\">\n",
       "  <thead>\n",
       "    <tr style=\"text-align: right;\">\n",
       "      <th></th>\n",
       "      <th>Actual_Value</th>\n",
       "      <th>Predicted_Value</th>\n",
       "    </tr>\n",
       "  </thead>\n",
       "  <tbody>\n",
       "    <tr>\n",
       "      <th>218</th>\n",
       "      <td>0</td>\n",
       "      <td>0</td>\n",
       "    </tr>\n",
       "    <tr>\n",
       "      <th>124</th>\n",
       "      <td>1</td>\n",
       "      <td>1</td>\n",
       "    </tr>\n",
       "    <tr>\n",
       "      <th>176</th>\n",
       "      <td>0</td>\n",
       "      <td>0</td>\n",
       "    </tr>\n",
       "    <tr>\n",
       "      <th>39</th>\n",
       "      <td>1</td>\n",
       "      <td>1</td>\n",
       "    </tr>\n",
       "    <tr>\n",
       "      <th>8</th>\n",
       "      <td>1</td>\n",
       "      <td>1</td>\n",
       "    </tr>\n",
       "    <tr>\n",
       "      <th>66</th>\n",
       "      <td>1</td>\n",
       "      <td>1</td>\n",
       "    </tr>\n",
       "    <tr>\n",
       "      <th>179</th>\n",
       "      <td>0</td>\n",
       "      <td>0</td>\n",
       "    </tr>\n",
       "    <tr>\n",
       "      <th>203</th>\n",
       "      <td>0</td>\n",
       "      <td>0</td>\n",
       "    </tr>\n",
       "    <tr>\n",
       "      <th>301</th>\n",
       "      <td>0</td>\n",
       "      <td>0</td>\n",
       "    </tr>\n",
       "    <tr>\n",
       "      <th>143</th>\n",
       "      <td>1</td>\n",
       "      <td>1</td>\n",
       "    </tr>\n",
       "  </tbody>\n",
       "</table>\n",
       "</div>"
      ],
      "text/plain": [
       "     Actual_Value  Predicted_Value\n",
       "218             0                0\n",
       "124             1                1\n",
       "176             0                0\n",
       "39              1                1\n",
       "8               1                1\n",
       "66              1                1\n",
       "179             0                0\n",
       "203             0                0\n",
       "301             0                0\n",
       "143             1                1"
      ]
     },
     "execution_count": 158,
     "metadata": {},
     "output_type": "execute_result"
    }
   ],
   "source": [
    "pred_dict = {\"Actual_Value\":y_train,\"Predicted_Value\":y_pred_train}\n",
    "train_pred_df = pd.DataFrame(pred_dict)\n",
    "train_pred_df.head(10)"
   ]
  },
  {
   "cell_type": "markdown",
   "id": "1b2d00ba",
   "metadata": {},
   "source": [
    "#### 8.2.KNN_Classification"
   ]
  },
  {
   "cell_type": "code",
   "execution_count": 162,
   "id": "a97a4d43",
   "metadata": {},
   "outputs": [
    {
     "data": {
      "text/html": [
       "<style>#sk-container-id-11 {color: black;background-color: white;}#sk-container-id-11 pre{padding: 0;}#sk-container-id-11 div.sk-toggleable {background-color: white;}#sk-container-id-11 label.sk-toggleable__label {cursor: pointer;display: block;width: 100%;margin-bottom: 0;padding: 0.3em;box-sizing: border-box;text-align: center;}#sk-container-id-11 label.sk-toggleable__label-arrow:before {content: \"▸\";float: left;margin-right: 0.25em;color: #696969;}#sk-container-id-11 label.sk-toggleable__label-arrow:hover:before {color: black;}#sk-container-id-11 div.sk-estimator:hover label.sk-toggleable__label-arrow:before {color: black;}#sk-container-id-11 div.sk-toggleable__content {max-height: 0;max-width: 0;overflow: hidden;text-align: left;background-color: #f0f8ff;}#sk-container-id-11 div.sk-toggleable__content pre {margin: 0.2em;color: black;border-radius: 0.25em;background-color: #f0f8ff;}#sk-container-id-11 input.sk-toggleable__control:checked~div.sk-toggleable__content {max-height: 200px;max-width: 100%;overflow: auto;}#sk-container-id-11 input.sk-toggleable__control:checked~label.sk-toggleable__label-arrow:before {content: \"▾\";}#sk-container-id-11 div.sk-estimator input.sk-toggleable__control:checked~label.sk-toggleable__label {background-color: #d4ebff;}#sk-container-id-11 div.sk-label input.sk-toggleable__control:checked~label.sk-toggleable__label {background-color: #d4ebff;}#sk-container-id-11 input.sk-hidden--visually {border: 0;clip: rect(1px 1px 1px 1px);clip: rect(1px, 1px, 1px, 1px);height: 1px;margin: -1px;overflow: hidden;padding: 0;position: absolute;width: 1px;}#sk-container-id-11 div.sk-estimator {font-family: monospace;background-color: #f0f8ff;border: 1px dotted black;border-radius: 0.25em;box-sizing: border-box;margin-bottom: 0.5em;}#sk-container-id-11 div.sk-estimator:hover {background-color: #d4ebff;}#sk-container-id-11 div.sk-parallel-item::after {content: \"\";width: 100%;border-bottom: 1px solid gray;flex-grow: 1;}#sk-container-id-11 div.sk-label:hover label.sk-toggleable__label {background-color: #d4ebff;}#sk-container-id-11 div.sk-serial::before {content: \"\";position: absolute;border-left: 1px solid gray;box-sizing: border-box;top: 0;bottom: 0;left: 50%;z-index: 0;}#sk-container-id-11 div.sk-serial {display: flex;flex-direction: column;align-items: center;background-color: white;padding-right: 0.2em;padding-left: 0.2em;position: relative;}#sk-container-id-11 div.sk-item {position: relative;z-index: 1;}#sk-container-id-11 div.sk-parallel {display: flex;align-items: stretch;justify-content: center;background-color: white;position: relative;}#sk-container-id-11 div.sk-item::before, #sk-container-id-11 div.sk-parallel-item::before {content: \"\";position: absolute;border-left: 1px solid gray;box-sizing: border-box;top: 0;bottom: 0;left: 50%;z-index: -1;}#sk-container-id-11 div.sk-parallel-item {display: flex;flex-direction: column;z-index: 1;position: relative;background-color: white;}#sk-container-id-11 div.sk-parallel-item:first-child::after {align-self: flex-end;width: 50%;}#sk-container-id-11 div.sk-parallel-item:last-child::after {align-self: flex-start;width: 50%;}#sk-container-id-11 div.sk-parallel-item:only-child::after {width: 0;}#sk-container-id-11 div.sk-dashed-wrapped {border: 1px dashed gray;margin: 0 0.4em 0.5em 0.4em;box-sizing: border-box;padding-bottom: 0.4em;background-color: white;}#sk-container-id-11 div.sk-label label {font-family: monospace;font-weight: bold;display: inline-block;line-height: 1.2em;}#sk-container-id-11 div.sk-label-container {text-align: center;}#sk-container-id-11 div.sk-container {/* jupyter's `normalize.less` sets `[hidden] { display: none; }` but bootstrap.min.css set `[hidden] { display: none !important; }` so we also need the `!important` here to be able to override the default hidden behavior on the sphinx rendered scikit-learn.org. See: https://github.com/scikit-learn/scikit-learn/issues/21755 */display: inline-block !important;position: relative;}#sk-container-id-11 div.sk-text-repr-fallback {display: none;}</style><div id=\"sk-container-id-11\" class=\"sk-top-container\"><div class=\"sk-text-repr-fallback\"><pre>KNeighborsClassifier(p=1)</pre><b>In a Jupyter environment, please rerun this cell to show the HTML representation or trust the notebook. <br />On GitHub, the HTML representation is unable to render, please try loading this page with nbviewer.org.</b></div><div class=\"sk-container\" hidden><div class=\"sk-item\"><div class=\"sk-estimator sk-toggleable\"><input class=\"sk-toggleable__control sk-hidden--visually\" id=\"sk-estimator-id-11\" type=\"checkbox\" checked><label for=\"sk-estimator-id-11\" class=\"sk-toggleable__label sk-toggleable__label-arrow\">KNeighborsClassifier</label><div class=\"sk-toggleable__content\"><pre>KNeighborsClassifier(p=1)</pre></div></div></div></div></div>"
      ],
      "text/plain": [
       "KNeighborsClassifier(p=1)"
      ]
     },
     "execution_count": 162,
     "metadata": {},
     "output_type": "execute_result"
    }
   ],
   "source": [
    "knn_clf = KNeighborsClassifier(n_neighbors=5,p=1)\n",
    "knn_clf.fit(x_train,y_train)"
   ]
  },
  {
   "cell_type": "markdown",
   "id": "4fb9db83",
   "metadata": {},
   "source": [
    "#### Test_Data_Evaluation"
   ]
  },
  {
   "cell_type": "code",
   "execution_count": 163,
   "id": "6fa282a3",
   "metadata": {},
   "outputs": [
    {
     "name": "stdout",
     "output_type": "stream",
     "text": [
      "Accuracy : 0.8688524590163934\n",
      "*****************************\n",
      "Confusion_Matrix :\n",
      " [[22  2]\n",
      " [ 6 31]]\n",
      "*****************************\n",
      "Classification_Report :\n",
      "               precision    recall  f1-score   support\n",
      "\n",
      "           0       0.79      0.92      0.85        24\n",
      "           1       0.94      0.84      0.89        37\n",
      "\n",
      "    accuracy                           0.87        61\n",
      "   macro avg       0.86      0.88      0.87        61\n",
      "weighted avg       0.88      0.87      0.87        61\n",
      "\n"
     ]
    }
   ],
   "source": [
    "y_pred_test = knn_clf.predict(x_test)\n",
    "\n",
    "accuracy = accuracy_score(y_pred_test,y_test)\n",
    "print(\"Accuracy :\",accuracy)\n",
    "print(\"*****************************\")\n",
    "\n",
    "cnf_matrix = confusion_matrix(y_pred_test,y_test)\n",
    "print(\"Confusion_Matrix :\\n\",cnf_matrix)\n",
    "print(\"*****************************\")\n",
    "\n",
    "clf_report = classification_report(y_pred_test,y_test)\n",
    "print(\"Classification_Report :\\n\",clf_report)"
   ]
  },
  {
   "cell_type": "code",
   "execution_count": 164,
   "id": "cb553607",
   "metadata": {},
   "outputs": [
    {
     "data": {
      "text/html": [
       "<div>\n",
       "<style scoped>\n",
       "    .dataframe tbody tr th:only-of-type {\n",
       "        vertical-align: middle;\n",
       "    }\n",
       "\n",
       "    .dataframe tbody tr th {\n",
       "        vertical-align: top;\n",
       "    }\n",
       "\n",
       "    .dataframe thead th {\n",
       "        text-align: right;\n",
       "    }\n",
       "</style>\n",
       "<table border=\"1\" class=\"dataframe\">\n",
       "  <thead>\n",
       "    <tr style=\"text-align: right;\">\n",
       "      <th></th>\n",
       "      <th>Actual_Value</th>\n",
       "      <th>Predicted_Value</th>\n",
       "    </tr>\n",
       "  </thead>\n",
       "  <tbody>\n",
       "    <tr>\n",
       "      <th>45</th>\n",
       "      <td>1</td>\n",
       "      <td>1</td>\n",
       "    </tr>\n",
       "    <tr>\n",
       "      <th>111</th>\n",
       "      <td>1</td>\n",
       "      <td>1</td>\n",
       "    </tr>\n",
       "    <tr>\n",
       "      <th>285</th>\n",
       "      <td>0</td>\n",
       "      <td>0</td>\n",
       "    </tr>\n",
       "    <tr>\n",
       "      <th>130</th>\n",
       "      <td>1</td>\n",
       "      <td>1</td>\n",
       "    </tr>\n",
       "    <tr>\n",
       "      <th>46</th>\n",
       "      <td>1</td>\n",
       "      <td>1</td>\n",
       "    </tr>\n",
       "    <tr>\n",
       "      <th>283</th>\n",
       "      <td>0</td>\n",
       "      <td>1</td>\n",
       "    </tr>\n",
       "    <tr>\n",
       "      <th>135</th>\n",
       "      <td>1</td>\n",
       "      <td>1</td>\n",
       "    </tr>\n",
       "    <tr>\n",
       "      <th>263</th>\n",
       "      <td>0</td>\n",
       "      <td>0</td>\n",
       "    </tr>\n",
       "    <tr>\n",
       "      <th>171</th>\n",
       "      <td>0</td>\n",
       "      <td>0</td>\n",
       "    </tr>\n",
       "    <tr>\n",
       "      <th>240</th>\n",
       "      <td>0</td>\n",
       "      <td>0</td>\n",
       "    </tr>\n",
       "  </tbody>\n",
       "</table>\n",
       "</div>"
      ],
      "text/plain": [
       "     Actual_Value  Predicted_Value\n",
       "45              1                1\n",
       "111             1                1\n",
       "285             0                0\n",
       "130             1                1\n",
       "46              1                1\n",
       "283             0                1\n",
       "135             1                1\n",
       "263             0                0\n",
       "171             0                0\n",
       "240             0                0"
      ]
     },
     "execution_count": 164,
     "metadata": {},
     "output_type": "execute_result"
    }
   ],
   "source": [
    "pred_dict = {\"Actual_Value\":y_test,\"Predicted_Value\":y_pred_test}\n",
    "test_pred_df = pd.DataFrame(pred_dict)\n",
    "test_pred_df.head(10)"
   ]
  },
  {
   "cell_type": "markdown",
   "id": "584eb2a5",
   "metadata": {},
   "source": [
    "#### Train_Data_Evaluation"
   ]
  },
  {
   "cell_type": "code",
   "execution_count": 166,
   "id": "db0276f1",
   "metadata": {},
   "outputs": [
    {
     "name": "stdout",
     "output_type": "stream",
     "text": [
      "Accuracy : 0.8801652892561983\n",
      "*****************************\n",
      "Confusion_Matrix :\n",
      " [[ 92  11]\n",
      " [ 18 121]]\n",
      "*****************************\n",
      "Classification_Report :\n",
      "               precision    recall  f1-score   support\n",
      "\n",
      "           0       0.84      0.89      0.86       103\n",
      "           1       0.92      0.87      0.89       139\n",
      "\n",
      "    accuracy                           0.88       242\n",
      "   macro avg       0.88      0.88      0.88       242\n",
      "weighted avg       0.88      0.88      0.88       242\n",
      "\n"
     ]
    }
   ],
   "source": [
    "y_pred_train = log_clf.predict(x_train)\n",
    "\n",
    "accuracy = accuracy_score(y_pred_train,y_train)\n",
    "print(\"Accuracy :\",accuracy)\n",
    "print(\"*****************************\")\n",
    "\n",
    "cnf_matrix = confusion_matrix(y_pred_train,y_train)\n",
    "print(\"Confusion_Matrix :\\n\",cnf_matrix)\n",
    "print(\"*****************************\")\n",
    "\n",
    "clf_report = classification_report(y_pred_train,y_train)\n",
    "print(\"Classification_Report :\\n\",clf_report)"
   ]
  },
  {
   "cell_type": "code",
   "execution_count": 167,
   "id": "fe6c9f04",
   "metadata": {
    "scrolled": true
   },
   "outputs": [
    {
     "data": {
      "text/html": [
       "<div>\n",
       "<style scoped>\n",
       "    .dataframe tbody tr th:only-of-type {\n",
       "        vertical-align: middle;\n",
       "    }\n",
       "\n",
       "    .dataframe tbody tr th {\n",
       "        vertical-align: top;\n",
       "    }\n",
       "\n",
       "    .dataframe thead th {\n",
       "        text-align: right;\n",
       "    }\n",
       "</style>\n",
       "<table border=\"1\" class=\"dataframe\">\n",
       "  <thead>\n",
       "    <tr style=\"text-align: right;\">\n",
       "      <th></th>\n",
       "      <th>Actual_Value</th>\n",
       "      <th>Predicted_Value</th>\n",
       "    </tr>\n",
       "  </thead>\n",
       "  <tbody>\n",
       "    <tr>\n",
       "      <th>218</th>\n",
       "      <td>0</td>\n",
       "      <td>0</td>\n",
       "    </tr>\n",
       "    <tr>\n",
       "      <th>124</th>\n",
       "      <td>1</td>\n",
       "      <td>1</td>\n",
       "    </tr>\n",
       "    <tr>\n",
       "      <th>176</th>\n",
       "      <td>0</td>\n",
       "      <td>0</td>\n",
       "    </tr>\n",
       "    <tr>\n",
       "      <th>39</th>\n",
       "      <td>1</td>\n",
       "      <td>1</td>\n",
       "    </tr>\n",
       "    <tr>\n",
       "      <th>8</th>\n",
       "      <td>1</td>\n",
       "      <td>1</td>\n",
       "    </tr>\n",
       "    <tr>\n",
       "      <th>66</th>\n",
       "      <td>1</td>\n",
       "      <td>1</td>\n",
       "    </tr>\n",
       "    <tr>\n",
       "      <th>179</th>\n",
       "      <td>0</td>\n",
       "      <td>0</td>\n",
       "    </tr>\n",
       "    <tr>\n",
       "      <th>203</th>\n",
       "      <td>0</td>\n",
       "      <td>0</td>\n",
       "    </tr>\n",
       "    <tr>\n",
       "      <th>301</th>\n",
       "      <td>0</td>\n",
       "      <td>0</td>\n",
       "    </tr>\n",
       "    <tr>\n",
       "      <th>143</th>\n",
       "      <td>1</td>\n",
       "      <td>1</td>\n",
       "    </tr>\n",
       "  </tbody>\n",
       "</table>\n",
       "</div>"
      ],
      "text/plain": [
       "     Actual_Value  Predicted_Value\n",
       "218             0                0\n",
       "124             1                1\n",
       "176             0                0\n",
       "39              1                1\n",
       "8               1                1\n",
       "66              1                1\n",
       "179             0                0\n",
       "203             0                0\n",
       "301             0                0\n",
       "143             1                1"
      ]
     },
     "execution_count": 167,
     "metadata": {},
     "output_type": "execute_result"
    }
   ],
   "source": [
    "pred_dict = {\"Actual_Value\":y_train,\"Predicted_Value\":y_pred_train}\n",
    "train_pred_df = pd.DataFrame(pred_dict)\n",
    "train_pred_df.head(10)"
   ]
  },
  {
   "cell_type": "markdown",
   "id": "5cfe96d0",
   "metadata": {},
   "source": [
    "#### p =1 ie manhattan distance"
   ]
  },
  {
   "cell_type": "code",
   "execution_count": 168,
   "id": "25ba60d0",
   "metadata": {},
   "outputs": [
    {
     "data": {
      "text/plain": [
       "Text(0, 0.5, 'Accuracies')"
      ]
     },
     "execution_count": 168,
     "metadata": {},
     "output_type": "execute_result"
    },
    {
     "data": {
      "image/png": "[encoded data removed]",
      "text/plain": [
       "<Figure size 640x480 with 1 Axes>"
      ]
     },
     "metadata": {},
     "output_type": "display_data"
    }
   ],
   "source": [
    "k_values = np.arange(2,16)\n",
    "test_acc_list = []\n",
    "train_acc_list = []\n",
    "\n",
    "for k in k_values:\n",
    "    knn_clf = KNeighborsClassifier(n_neighbors=k, p = 1)\n",
    "    knn_clf.fit(x_train, y_train)\n",
    "    train_acc = knn_clf.score(x_train, y_train)\n",
    "    train_acc_list.append(train_acc)\n",
    "    \n",
    "    test_acc = knn_clf.score(x_test, y_test)\n",
    "    test_acc_list.append(test_acc)\n",
    "    # print(k, train_acc, test_acc)\n",
    "    \n",
    "plt.plot(k_values, test_acc_list)\n",
    "plt.plot(k_values, train_acc_list)\n",
    "plt.title(\"Comparision between train and Test Accuracies\")\n",
    "plt.xlabel(\"K Values\")\n",
    "plt.ylabel(\"Accuracies\")"
   ]
  },
  {
   "cell_type": "code",
   "execution_count": 171,
   "id": "18226420",
   "metadata": {},
   "outputs": [
    {
     "name": "stdout",
     "output_type": "stream",
     "text": [
      "Train_Accuracy : 0.8677685950413223\n",
      "Test_Accuracy : 0.8688524590163934\n"
     ]
    }
   ],
   "source": [
    "knn_clf = KNeighborsClassifier(n_neighbors=7,p=1)\n",
    "knn_clf.fit(x_train,y_train)\n",
    "print(\"Train_Accuracy :\",knn_clf.score(x_train,y_train))\n",
    "print(\"Test_Accuracy :\",knn_clf.score(x_test,y_test))"
   ]
  },
  {
   "cell_type": "markdown",
   "id": "e08dc8a5",
   "metadata": {},
   "source": [
    "#### p =1 ie euclidean distance"
   ]
  },
  {
   "cell_type": "code",
   "execution_count": 169,
   "id": "0e4c041b",
   "metadata": {},
   "outputs": [
    {
     "data": {
      "text/plain": [
       "Text(0, 0.5, 'Accuracies')"
      ]
     },
     "execution_count": 169,
     "metadata": {},
     "output_type": "execute_result"
    },
    {
     "data": {
      "image/png": "[encoded data removed]",
      "text/plain": [
       "<Figure size 640x480 with 1 Axes>"
      ]
     },
     "metadata": {},
     "output_type": "display_data"
    }
   ],
   "source": [
    "k_values = np.arange(2,16)\n",
    "test_acc_list = []\n",
    "train_acc_list = []\n",
    "\n",
    "for k in k_values:\n",
    "    knn_clf = KNeighborsClassifier(n_neighbors=k, p = 2)\n",
    "    knn_clf.fit(x_train, y_train)\n",
    "    train_acc = knn_clf.score(x_train, y_train)\n",
    "    train_acc_list.append(train_acc)\n",
    "    \n",
    "    test_acc = knn_clf.score(x_test, y_test)\n",
    "    test_acc_list.append(test_acc)\n",
    "    # print(k, train_acc, test_acc)\n",
    "    \n",
    "plt.plot(k_values, test_acc_list)\n",
    "plt.plot(k_values, train_acc_list)\n",
    "plt.title(\"Comparision between train and Test Accuracies\")\n",
    "plt.xlabel(\"K Values\")\n",
    "plt.ylabel(\"Accuracies\")"
   ]
  },
  {
   "cell_type": "code",
   "execution_count": 178,
   "id": "2861da4e",
   "metadata": {},
   "outputs": [
    {
     "name": "stdout",
     "output_type": "stream",
     "text": [
      "Train_Accuracy : 0.8429752066115702\n",
      "Test_Accuracy : 0.8524590163934426\n"
     ]
    }
   ],
   "source": [
    "knn_clf = KNeighborsClassifier(n_neighbors=12,p=2)\n",
    "knn_clf.fit(x_train,y_train)\n",
    "print(\"Train_Accuracy :\",knn_clf.score(x_train,y_train))\n",
    "print(\"Test_Accuracy :\",knn_clf.score(x_test,y_test))"
   ]
  },
  {
   "cell_type": "markdown",
   "id": "9b71d136",
   "metadata": {},
   "source": [
    "#### Hyperparameter_TUnning"
   ]
  },
  {
   "cell_type": "code",
   "execution_count": 179,
   "id": "4fb9a88b",
   "metadata": {},
   "outputs": [],
   "source": [
    "from sklearn.model_selection import GridSearchCV,RandomizedSearchCV"
   ]
  },
  {
   "cell_type": "markdown",
   "id": "a2a3b34e",
   "metadata": {},
   "source": [
    "#### 1.GridSearchCV"
   ]
  },
  {
   "cell_type": "code",
   "execution_count": 182,
   "id": "39674855",
   "metadata": {},
   "outputs": [
    {
     "data": {
      "text/html": [
       "<style>#sk-container-id-13 {color: black;background-color: white;}#sk-container-id-13 pre{padding: 0;}#sk-container-id-13 div.sk-toggleable {background-color: white;}#sk-container-id-13 label.sk-toggleable__label {cursor: pointer;display: block;width: 100%;margin-bottom: 0;padding: 0.3em;box-sizing: border-box;text-align: center;}#sk-container-id-13 label.sk-toggleable__label-arrow:before {content: \"▸\";float: left;margin-right: 0.25em;color: #696969;}#sk-container-id-13 label.sk-toggleable__label-arrow:hover:before {color: black;}#sk-container-id-13 div.sk-estimator:hover label.sk-toggleable__label-arrow:before {color: black;}#sk-container-id-13 div.sk-toggleable__content {max-height: 0;max-width: 0;overflow: hidden;text-align: left;background-color: #f0f8ff;}#sk-container-id-13 div.sk-toggleable__content pre {margin: 0.2em;color: black;border-radius: 0.25em;background-color: #f0f8ff;}#sk-container-id-13 input.sk-toggleable__control:checked~div.sk-toggleable__content {max-height: 200px;max-width: 100%;overflow: auto;}#sk-container-id-13 input.sk-toggleable__control:checked~label.sk-toggleable__label-arrow:before {content: \"▾\";}#sk-container-id-13 div.sk-estimator input.sk-toggleable__control:checked~label.sk-toggleable__label {background-color: #d4ebff;}#sk-container-id-13 div.sk-label input.sk-toggleable__control:checked~label.sk-toggleable__label {background-color: #d4ebff;}#sk-container-id-13 input.sk-hidden--visually {border: 0;clip: rect(1px 1px 1px 1px);clip: rect(1px, 1px, 1px, 1px);height: 1px;margin: -1px;overflow: hidden;padding: 0;position: absolute;width: 1px;}#sk-container-id-13 div.sk-estimator {font-family: monospace;background-color: #f0f8ff;border: 1px dotted black;border-radius: 0.25em;box-sizing: border-box;margin-bottom: 0.5em;}#sk-container-id-13 div.sk-estimator:hover {background-color: #d4ebff;}#sk-container-id-13 div.sk-parallel-item::after {content: \"\";width: 100%;border-bottom: 1px solid gray;flex-grow: 1;}#sk-container-id-13 div.sk-label:hover label.sk-toggleable__label {background-color: #d4ebff;}#sk-container-id-13 div.sk-serial::before {content: \"\";position: absolute;border-left: 1px solid gray;box-sizing: border-box;top: 0;bottom: 0;left: 50%;z-index: 0;}#sk-container-id-13 div.sk-serial {display: flex;flex-direction: column;align-items: center;background-color: white;padding-right: 0.2em;padding-left: 0.2em;position: relative;}#sk-container-id-13 div.sk-item {position: relative;z-index: 1;}#sk-container-id-13 div.sk-parallel {display: flex;align-items: stretch;justify-content: center;background-color: white;position: relative;}#sk-container-id-13 div.sk-item::before, #sk-container-id-13 div.sk-parallel-item::before {content: \"\";position: absolute;border-left: 1px solid gray;box-sizing: border-box;top: 0;bottom: 0;left: 50%;z-index: -1;}#sk-container-id-13 div.sk-parallel-item {display: flex;flex-direction: column;z-index: 1;position: relative;background-color: white;}#sk-container-id-13 div.sk-parallel-item:first-child::after {align-self: flex-end;width: 50%;}#sk-container-id-13 div.sk-parallel-item:last-child::after {align-self: flex-start;width: 50%;}#sk-container-id-13 div.sk-parallel-item:only-child::after {width: 0;}#sk-container-id-13 div.sk-dashed-wrapped {border: 1px dashed gray;margin: 0 0.4em 0.5em 0.4em;box-sizing: border-box;padding-bottom: 0.4em;background-color: white;}#sk-container-id-13 div.sk-label label {font-family: monospace;font-weight: bold;display: inline-block;line-height: 1.2em;}#sk-container-id-13 div.sk-label-container {text-align: center;}#sk-container-id-13 div.sk-container {/* jupyter's `normalize.less` sets `[hidden] { display: none; }` but bootstrap.min.css set `[hidden] { display: none !important; }` so we also need the `!important` here to be able to override the default hidden behavior on the sphinx rendered scikit-learn.org. See: https://github.com/scikit-learn/scikit-learn/issues/21755 */display: inline-block !important;position: relative;}#sk-container-id-13 div.sk-text-repr-fallback {display: none;}</style><div id=\"sk-container-id-13\" class=\"sk-top-container\"><div class=\"sk-text-repr-fallback\"><pre>KNeighborsClassifier(n_neighbors=20)</pre><b>In a Jupyter environment, please rerun this cell to show the HTML representation or trust the notebook. <br />On GitHub, the HTML representation is unable to render, please try loading this page with nbviewer.org.</b></div><div class=\"sk-container\" hidden><div class=\"sk-item\"><div class=\"sk-estimator sk-toggleable\"><input class=\"sk-toggleable__control sk-hidden--visually\" id=\"sk-estimator-id-13\" type=\"checkbox\" checked><label for=\"sk-estimator-id-13\" class=\"sk-toggleable__label sk-toggleable__label-arrow\">KNeighborsClassifier</label><div class=\"sk-toggleable__content\"><pre>KNeighborsClassifier(n_neighbors=20)</pre></div></div></div></div></div>"
      ],
      "text/plain": [
       "KNeighborsClassifier(n_neighbors=20)"
      ]
     },
     "execution_count": 182,
     "metadata": {},
     "output_type": "execute_result"
    }
   ],
   "source": [
    "knn_clf = KNeighborsClassifier()\n",
    "hyp_grid = {\"n_neighbors\":np.arange(3,30),\n",
    "           \"p\":[1,2]}\n",
    "gscv_knn_clf = GridSearchCV(knn_clf,hyp_grid,cv = 5)\n",
    "gscv_knn_clf.fit(x_train,y_train)\n",
    "gscv_knn_clf.best_estimator_"
   ]
  },
  {
   "cell_type": "code",
   "execution_count": 183,
   "id": "4d85e09b",
   "metadata": {},
   "outputs": [
    {
     "data": {
      "text/html": [
       "<style>#sk-container-id-14 {color: black;background-color: white;}#sk-container-id-14 pre{padding: 0;}#sk-container-id-14 div.sk-toggleable {background-color: white;}#sk-container-id-14 label.sk-toggleable__label {cursor: pointer;display: block;width: 100%;margin-bottom: 0;padding: 0.3em;box-sizing: border-box;text-align: center;}#sk-container-id-14 label.sk-toggleable__label-arrow:before {content: \"▸\";float: left;margin-right: 0.25em;color: #696969;}#sk-container-id-14 label.sk-toggleable__label-arrow:hover:before {color: black;}#sk-container-id-14 div.sk-estimator:hover label.sk-toggleable__label-arrow:before {color: black;}#sk-container-id-14 div.sk-toggleable__content {max-height: 0;max-width: 0;overflow: hidden;text-align: left;background-color: #f0f8ff;}#sk-container-id-14 div.sk-toggleable__content pre {margin: 0.2em;color: black;border-radius: 0.25em;background-color: #f0f8ff;}#sk-container-id-14 input.sk-toggleable__control:checked~div.sk-toggleable__content {max-height: 200px;max-width: 100%;overflow: auto;}#sk-container-id-14 input.sk-toggleable__control:checked~label.sk-toggleable__label-arrow:before {content: \"▾\";}#sk-container-id-14 div.sk-estimator input.sk-toggleable__control:checked~label.sk-toggleable__label {background-color: #d4ebff;}#sk-container-id-14 div.sk-label input.sk-toggleable__control:checked~label.sk-toggleable__label {background-color: #d4ebff;}#sk-container-id-14 input.sk-hidden--visually {border: 0;clip: rect(1px 1px 1px 1px);clip: rect(1px, 1px, 1px, 1px);height: 1px;margin: -1px;overflow: hidden;padding: 0;position: absolute;width: 1px;}#sk-container-id-14 div.sk-estimator {font-family: monospace;background-color: #f0f8ff;border: 1px dotted black;border-radius: 0.25em;box-sizing: border-box;margin-bottom: 0.5em;}#sk-container-id-14 div.sk-estimator:hover {background-color: #d4ebff;}#sk-container-id-14 div.sk-parallel-item::after {content: \"\";width: 100%;border-bottom: 1px solid gray;flex-grow: 1;}#sk-container-id-14 div.sk-label:hover label.sk-toggleable__label {background-color: #d4ebff;}#sk-container-id-14 div.sk-serial::before {content: \"\";position: absolute;border-left: 1px solid gray;box-sizing: border-box;top: 0;bottom: 0;left: 50%;z-index: 0;}#sk-container-id-14 div.sk-serial {display: flex;flex-direction: column;align-items: center;background-color: white;padding-right: 0.2em;padding-left: 0.2em;position: relative;}#sk-container-id-14 div.sk-item {position: relative;z-index: 1;}#sk-container-id-14 div.sk-parallel {display: flex;align-items: stretch;justify-content: center;background-color: white;position: relative;}#sk-container-id-14 div.sk-item::before, #sk-container-id-14 div.sk-parallel-item::before {content: \"\";position: absolute;border-left: 1px solid gray;box-sizing: border-box;top: 0;bottom: 0;left: 50%;z-index: -1;}#sk-container-id-14 div.sk-parallel-item {display: flex;flex-direction: column;z-index: 1;position: relative;background-color: white;}#sk-container-id-14 div.sk-parallel-item:first-child::after {align-self: flex-end;width: 50%;}#sk-container-id-14 div.sk-parallel-item:last-child::after {align-self: flex-start;width: 50%;}#sk-container-id-14 div.sk-parallel-item:only-child::after {width: 0;}#sk-container-id-14 div.sk-dashed-wrapped {border: 1px dashed gray;margin: 0 0.4em 0.5em 0.4em;box-sizing: border-box;padding-bottom: 0.4em;background-color: white;}#sk-container-id-14 div.sk-label label {font-family: monospace;font-weight: bold;display: inline-block;line-height: 1.2em;}#sk-container-id-14 div.sk-label-container {text-align: center;}#sk-container-id-14 div.sk-container {/* jupyter's `normalize.less` sets `[hidden] { display: none; }` but bootstrap.min.css set `[hidden] { display: none !important; }` so we also need the `!important` here to be able to override the default hidden behavior on the sphinx rendered scikit-learn.org. See: https://github.com/scikit-learn/scikit-learn/issues/21755 */display: inline-block !important;position: relative;}#sk-container-id-14 div.sk-text-repr-fallback {display: none;}</style><div id=\"sk-container-id-14\" class=\"sk-top-container\"><div class=\"sk-text-repr-fallback\"><pre>KNeighborsClassifier(n_neighbors=20)</pre><b>In a Jupyter environment, please rerun this cell to show the HTML representation or trust the notebook. <br />On GitHub, the HTML representation is unable to render, please try loading this page with nbviewer.org.</b></div><div class=\"sk-container\" hidden><div class=\"sk-item\"><div class=\"sk-estimator sk-toggleable\"><input class=\"sk-toggleable__control sk-hidden--visually\" id=\"sk-estimator-id-14\" type=\"checkbox\" checked><label for=\"sk-estimator-id-14\" class=\"sk-toggleable__label sk-toggleable__label-arrow\">KNeighborsClassifier</label><div class=\"sk-toggleable__content\"><pre>KNeighborsClassifier(n_neighbors=20)</pre></div></div></div></div></div>"
      ],
      "text/plain": [
       "KNeighborsClassifier(n_neighbors=20)"
      ]
     },
     "execution_count": 183,
     "metadata": {},
     "output_type": "execute_result"
    }
   ],
   "source": [
    "gscv_knn_clf.best_estimator_"
   ]
  },
  {
   "cell_type": "code",
   "execution_count": 184,
   "id": "98cf6292",
   "metadata": {},
   "outputs": [
    {
     "data": {
      "text/plain": [
       "{'n_neighbors': 20, 'p': 2}"
      ]
     },
     "execution_count": 184,
     "metadata": {},
     "output_type": "execute_result"
    }
   ],
   "source": [
    "gscv_knn_clf.best_params_"
   ]
  },
  {
   "cell_type": "code",
   "execution_count": 185,
   "id": "10fb2706",
   "metadata": {},
   "outputs": [
    {
     "name": "stdout",
     "output_type": "stream",
     "text": [
      "Train_Accuracy : 0.8429752066115702\n",
      "Test_Accuracy : 0.8032786885245902\n"
     ]
    }
   ],
   "source": [
    "knn_clf = KNeighborsClassifier(n_neighbors=20,p =2)\n",
    "knn_clf.fit(x_train,y_train)\n",
    "print(\"Train_Accuracy :\",knn_clf.score(x_train,y_train))\n",
    "print(\"Test_Accuracy :\",knn_clf.score(x_test,y_test))"
   ]
  },
  {
   "cell_type": "markdown",
   "id": "492e83dd",
   "metadata": {},
   "source": [
    "#### 2.RandomizedSearchCV"
   ]
  },
  {
   "cell_type": "code",
   "execution_count": 211,
   "id": "7e6cd597",
   "metadata": {},
   "outputs": [
    {
     "data": {
      "text/html": [
       "<style>#sk-container-id-24 {color: black;background-color: white;}#sk-container-id-24 pre{padding: 0;}#sk-container-id-24 div.sk-toggleable {background-color: white;}#sk-container-id-24 label.sk-toggleable__label {cursor: pointer;display: block;width: 100%;margin-bottom: 0;padding: 0.3em;box-sizing: border-box;text-align: center;}#sk-container-id-24 label.sk-toggleable__label-arrow:before {content: \"▸\";float: left;margin-right: 0.25em;color: #696969;}#sk-container-id-24 label.sk-toggleable__label-arrow:hover:before {color: black;}#sk-container-id-24 div.sk-estimator:hover label.sk-toggleable__label-arrow:before {color: black;}#sk-container-id-24 div.sk-toggleable__content {max-height: 0;max-width: 0;overflow: hidden;text-align: left;background-color: #f0f8ff;}#sk-container-id-24 div.sk-toggleable__content pre {margin: 0.2em;color: black;border-radius: 0.25em;background-color: #f0f8ff;}#sk-container-id-24 input.sk-toggleable__control:checked~div.sk-toggleable__content {max-height: 200px;max-width: 100%;overflow: auto;}#sk-container-id-24 input.sk-toggleable__control:checked~label.sk-toggleable__label-arrow:before {content: \"▾\";}#sk-container-id-24 div.sk-estimator input.sk-toggleable__control:checked~label.sk-toggleable__label {background-color: #d4ebff;}#sk-container-id-24 div.sk-label input.sk-toggleable__control:checked~label.sk-toggleable__label {background-color: #d4ebff;}#sk-container-id-24 input.sk-hidden--visually {border: 0;clip: rect(1px 1px 1px 1px);clip: rect(1px, 1px, 1px, 1px);height: 1px;margin: -1px;overflow: hidden;padding: 0;position: absolute;width: 1px;}#sk-container-id-24 div.sk-estimator {font-family: monospace;background-color: #f0f8ff;border: 1px dotted black;border-radius: 0.25em;box-sizing: border-box;margin-bottom: 0.5em;}#sk-container-id-24 div.sk-estimator:hover {background-color: #d4ebff;}#sk-container-id-24 div.sk-parallel-item::after {content: \"\";width: 100%;border-bottom: 1px solid gray;flex-grow: 1;}#sk-container-id-24 div.sk-label:hover label.sk-toggleable__label {background-color: #d4ebff;}#sk-container-id-24 div.sk-serial::before {content: \"\";position: absolute;border-left: 1px solid gray;box-sizing: border-box;top: 0;bottom: 0;left: 50%;z-index: 0;}#sk-container-id-24 div.sk-serial {display: flex;flex-direction: column;align-items: center;background-color: white;padding-right: 0.2em;padding-left: 0.2em;position: relative;}#sk-container-id-24 div.sk-item {position: relative;z-index: 1;}#sk-container-id-24 div.sk-parallel {display: flex;align-items: stretch;justify-content: center;background-color: white;position: relative;}#sk-container-id-24 div.sk-item::before, #sk-container-id-24 div.sk-parallel-item::before {content: \"\";position: absolute;border-left: 1px solid gray;box-sizing: border-box;top: 0;bottom: 0;left: 50%;z-index: -1;}#sk-container-id-24 div.sk-parallel-item {display: flex;flex-direction: column;z-index: 1;position: relative;background-color: white;}#sk-container-id-24 div.sk-parallel-item:first-child::after {align-self: flex-end;width: 50%;}#sk-container-id-24 div.sk-parallel-item:last-child::after {align-self: flex-start;width: 50%;}#sk-container-id-24 div.sk-parallel-item:only-child::after {width: 0;}#sk-container-id-24 div.sk-dashed-wrapped {border: 1px dashed gray;margin: 0 0.4em 0.5em 0.4em;box-sizing: border-box;padding-bottom: 0.4em;background-color: white;}#sk-container-id-24 div.sk-label label {font-family: monospace;font-weight: bold;display: inline-block;line-height: 1.2em;}#sk-container-id-24 div.sk-label-container {text-align: center;}#sk-container-id-24 div.sk-container {/* jupyter's `normalize.less` sets `[hidden] { display: none; }` but bootstrap.min.css set `[hidden] { display: none !important; }` so we also need the `!important` here to be able to override the default hidden behavior on the sphinx rendered scikit-learn.org. See: https://github.com/scikit-learn/scikit-learn/issues/21755 */display: inline-block !important;position: relative;}#sk-container-id-24 div.sk-text-repr-fallback {display: none;}</style><div id=\"sk-container-id-24\" class=\"sk-top-container\"><div class=\"sk-text-repr-fallback\"><pre>KNeighborsClassifier(n_neighbors=27, p=1)</pre><b>In a Jupyter environment, please rerun this cell to show the HTML representation or trust the notebook. <br />On GitHub, the HTML representation is unable to render, please try loading this page with nbviewer.org.</b></div><div class=\"sk-container\" hidden><div class=\"sk-item\"><div class=\"sk-estimator sk-toggleable\"><input class=\"sk-toggleable__control sk-hidden--visually\" id=\"sk-estimator-id-24\" type=\"checkbox\" checked><label for=\"sk-estimator-id-24\" class=\"sk-toggleable__label sk-toggleable__label-arrow\">KNeighborsClassifier</label><div class=\"sk-toggleable__content\"><pre>KNeighborsClassifier(n_neighbors=27, p=1)</pre></div></div></div></div></div>"
      ],
      "text/plain": [
       "KNeighborsClassifier(n_neighbors=27, p=1)"
      ]
     },
     "execution_count": 211,
     "metadata": {},
     "output_type": "execute_result"
    }
   ],
   "source": [
    "knn_clf = KNeighborsClassifier()\n",
    "hyp_grid = {\"n_neighbors\":np.arange(3,30),\n",
    "           \"p\":[1,2]}\n",
    "rscv_knn_clf = RandomizedSearchCV(knn_clf,hyp_grid,cv = 5)\n",
    "rscv_knn_clf.fit(x_train,y_train)\n",
    "rscv_knn_clf.best_estimator_"
   ]
  },
  {
   "cell_type": "code",
   "execution_count": 212,
   "id": "dbb7f3d2",
   "metadata": {},
   "outputs": [
    {
     "data": {
      "text/plain": [
       "{'p': 1, 'n_neighbors': 27}"
      ]
     },
     "execution_count": 212,
     "metadata": {},
     "output_type": "execute_result"
    }
   ],
   "source": [
    "rscv_knn_clf.best_params_"
   ]
  },
  {
   "cell_type": "code",
   "execution_count": 213,
   "id": "b74107b0",
   "metadata": {},
   "outputs": [
    {
     "name": "stdout",
     "output_type": "stream",
     "text": [
      "Train_Accuracy : 0.8429752066115702\n",
      "Test_Accuracy : 0.8032786885245902\n"
     ]
    }
   ],
   "source": [
    "knn_clf = KNeighborsClassifier(n_neighbors=12,p =1)\n",
    "knn_clf.fit(x_train,y_train)\n",
    "print(\"Train_Accuracy :\",knn_clf.score(x_train,y_train))\n",
    "print(\"Test_Accuracy :\",knn_clf.score(x_test,y_test))"
   ]
  },
  {
   "cell_type": "code",
   "execution_count": 214,
   "id": "77f1b81b",
   "metadata": {},
   "outputs": [
    {
     "data": {
      "text/html": [
       "<div>\n",
       "<style scoped>\n",
       "    .dataframe tbody tr th:only-of-type {\n",
       "        vertical-align: middle;\n",
       "    }\n",
       "\n",
       "    .dataframe tbody tr th {\n",
       "        vertical-align: top;\n",
       "    }\n",
       "\n",
       "    .dataframe thead th {\n",
       "        text-align: right;\n",
       "    }\n",
       "</style>\n",
       "<table border=\"1\" class=\"dataframe\">\n",
       "  <thead>\n",
       "    <tr style=\"text-align: right;\">\n",
       "      <th></th>\n",
       "      <th>Actual_Value</th>\n",
       "      <th>Predicted_Value</th>\n",
       "    </tr>\n",
       "  </thead>\n",
       "  <tbody>\n",
       "    <tr>\n",
       "      <th>45</th>\n",
       "      <td>1</td>\n",
       "      <td>1</td>\n",
       "    </tr>\n",
       "    <tr>\n",
       "      <th>111</th>\n",
       "      <td>1</td>\n",
       "      <td>1</td>\n",
       "    </tr>\n",
       "    <tr>\n",
       "      <th>285</th>\n",
       "      <td>0</td>\n",
       "      <td>0</td>\n",
       "    </tr>\n",
       "    <tr>\n",
       "      <th>130</th>\n",
       "      <td>1</td>\n",
       "      <td>1</td>\n",
       "    </tr>\n",
       "    <tr>\n",
       "      <th>46</th>\n",
       "      <td>1</td>\n",
       "      <td>1</td>\n",
       "    </tr>\n",
       "    <tr>\n",
       "      <th>283</th>\n",
       "      <td>0</td>\n",
       "      <td>1</td>\n",
       "    </tr>\n",
       "    <tr>\n",
       "      <th>135</th>\n",
       "      <td>1</td>\n",
       "      <td>1</td>\n",
       "    </tr>\n",
       "    <tr>\n",
       "      <th>263</th>\n",
       "      <td>0</td>\n",
       "      <td>0</td>\n",
       "    </tr>\n",
       "    <tr>\n",
       "      <th>171</th>\n",
       "      <td>0</td>\n",
       "      <td>1</td>\n",
       "    </tr>\n",
       "    <tr>\n",
       "      <th>240</th>\n",
       "      <td>0</td>\n",
       "      <td>0</td>\n",
       "    </tr>\n",
       "  </tbody>\n",
       "</table>\n",
       "</div>"
      ],
      "text/plain": [
       "     Actual_Value  Predicted_Value\n",
       "45              1                1\n",
       "111             1                1\n",
       "285             0                0\n",
       "130             1                1\n",
       "46              1                1\n",
       "283             0                1\n",
       "135             1                1\n",
       "263             0                0\n",
       "171             0                1\n",
       "240             0                0"
      ]
     },
     "execution_count": 214,
     "metadata": {},
     "output_type": "execute_result"
    }
   ],
   "source": [
    "pred_dict = {\"Actual_Value\":y_test,\"Predicted_Value\":y_pred_test}\n",
    "test_pred_df = pd.DataFrame(pred_dict)\n",
    "test_pred_df.head(10)"
   ]
  },
  {
   "cell_type": "code",
   "execution_count": 215,
   "id": "12ffb9b0",
   "metadata": {},
   "outputs": [
    {
     "data": {
      "text/html": [
       "<div>\n",
       "<style scoped>\n",
       "    .dataframe tbody tr th:only-of-type {\n",
       "        vertical-align: middle;\n",
       "    }\n",
       "\n",
       "    .dataframe tbody tr th {\n",
       "        vertical-align: top;\n",
       "    }\n",
       "\n",
       "    .dataframe thead th {\n",
       "        text-align: right;\n",
       "    }\n",
       "</style>\n",
       "<table border=\"1\" class=\"dataframe\">\n",
       "  <thead>\n",
       "    <tr style=\"text-align: right;\">\n",
       "      <th></th>\n",
       "      <th>Actual_Value</th>\n",
       "      <th>Predicted_Value</th>\n",
       "    </tr>\n",
       "  </thead>\n",
       "  <tbody>\n",
       "    <tr>\n",
       "      <th>218</th>\n",
       "      <td>0</td>\n",
       "      <td>0</td>\n",
       "    </tr>\n",
       "    <tr>\n",
       "      <th>124</th>\n",
       "      <td>1</td>\n",
       "      <td>1</td>\n",
       "    </tr>\n",
       "    <tr>\n",
       "      <th>176</th>\n",
       "      <td>0</td>\n",
       "      <td>0</td>\n",
       "    </tr>\n",
       "    <tr>\n",
       "      <th>39</th>\n",
       "      <td>1</td>\n",
       "      <td>1</td>\n",
       "    </tr>\n",
       "    <tr>\n",
       "      <th>8</th>\n",
       "      <td>1</td>\n",
       "      <td>1</td>\n",
       "    </tr>\n",
       "    <tr>\n",
       "      <th>66</th>\n",
       "      <td>1</td>\n",
       "      <td>1</td>\n",
       "    </tr>\n",
       "    <tr>\n",
       "      <th>179</th>\n",
       "      <td>0</td>\n",
       "      <td>0</td>\n",
       "    </tr>\n",
       "    <tr>\n",
       "      <th>203</th>\n",
       "      <td>0</td>\n",
       "      <td>0</td>\n",
       "    </tr>\n",
       "    <tr>\n",
       "      <th>301</th>\n",
       "      <td>0</td>\n",
       "      <td>0</td>\n",
       "    </tr>\n",
       "    <tr>\n",
       "      <th>143</th>\n",
       "      <td>1</td>\n",
       "      <td>1</td>\n",
       "    </tr>\n",
       "  </tbody>\n",
       "</table>\n",
       "</div>"
      ],
      "text/plain": [
       "     Actual_Value  Predicted_Value\n",
       "218             0                0\n",
       "124             1                1\n",
       "176             0                0\n",
       "39              1                1\n",
       "8               1                1\n",
       "66              1                1\n",
       "179             0                0\n",
       "203             0                0\n",
       "301             0                0\n",
       "143             1                1"
      ]
     },
     "execution_count": 215,
     "metadata": {},
     "output_type": "execute_result"
    }
   ],
   "source": [
    "pred_dict = {\"Actual_Value\":y_train,\"Predicted_Value\":y_pred_train}\n",
    "train_pred_df = pd.DataFrame(pred_dict)\n",
    "train_pred_df.head(10)"
   ]
  },
  {
   "cell_type": "markdown",
   "id": "e51eeb99",
   "metadata": {},
   "source": [
    "#### Saving_Model"
   ]
  },
  {
   "cell_type": "code",
   "execution_count": 216,
   "id": "9b70fdd3",
   "metadata": {},
   "outputs": [],
   "source": [
    "import pickle"
   ]
  },
  {
   "cell_type": "code",
   "execution_count": 217,
   "id": "e1858e9c",
   "metadata": {},
   "outputs": [],
   "source": [
    "with open(\"knn_classifier.pkl\",\"wb\") as f:\n",
    "    pickle.dump(knn_clf,f)"
   ]
  },
  {
   "cell_type": "code",
   "execution_count": null,
   "id": "107f8bcd",
   "metadata": {},
   "outputs": [],
   "source": []
  }
 ],
 "metadata": {
  "kernelspec": {
   "display_name": "Python 3 (ipykernel)",
   "language": "python",
   "name": "python3"
  },
  "language_info": {
   "codemirror_mode": {
    "name": "ipython",
    "version": 3
   },
   "file_extension": ".py",
   "mimetype": "text/x-python",
   "name": "python",
   "nbconvert_exporter": "python",
   "pygments_lexer": "ipython3",
   "version": "3.10.9"
  }
 },
 "nbformat": 4,
 "nbformat_minor": 5
}
